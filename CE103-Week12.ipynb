{
 "cells": [
  {
   "cell_type": "markdown",
   "metadata": {},
   "source": [
    "### CE 103- INTRODUCTION TO COMPUTERS and PROGRAMMING"
   ]
  },
  {
   "cell_type": "markdown",
   "metadata": {},
   "source": [
    "### _The topics of the week !_\n",
    "\n",
    "- Interactive Data Visualization\n",
    "    - Bokeh Library\n",
    "\n",
    "Bokeh is a library for interactive data visualization in Python and offers flexible features. It renders its graphics using HTML and JavaScript, thats why its very useful for web-based dashboards and applications. Bokeh provides three visualization interface levels such as _bokeh.charts_ (high-level), _bokeh.plotting_ (intermediate level), _bokeh.models_ (low-level).\n",
    "\n",
    "_NumPy_ is prerequisite for Bokeh library.\n",
    "\n",
    "Basic steps for data visualization with bokeh are given below. \n",
    "1. Prepare the data\n",
    "2. Rendering visualization (set the output mode)\n",
    "3. Assamble the figure\n",
    "4. Organize the layout\n",
    "\n",
    "Please visit [Bokeh Tutorial](https://docs.bokeh.org/en/0.12.0/docs/gallery.html) for details."
   ]
  },
  {
   "cell_type": "code",
   "execution_count": 8,
   "metadata": {},
   "outputs": [],
   "source": [
    "# Start with uploading bokeh to your system\n",
    "\n",
    "#!pip install bokeh"
   ]
  },
  {
   "cell_type": "code",
   "execution_count": null,
   "metadata": {},
   "outputs": [],
   "source": []
  }
 ],
 "metadata": {
  "kernelspec": {
   "display_name": "Python 3",
   "language": "python",
   "name": "python3"
  },
  "language_info": {
   "codemirror_mode": {
    "name": "ipython",
    "version": 3
   },
   "file_extension": ".py",
   "mimetype": "text/x-python",
   "name": "python",
   "nbconvert_exporter": "python",
   "pygments_lexer": "ipython3",
   "version": "3.6.8"
  }
 },
 "nbformat": 4,
 "nbformat_minor": 4
}
