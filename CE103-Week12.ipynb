{
 "cells": [
  {
   "cell_type": "markdown",
   "metadata": {},
   "source": [
    "### CE 103- INTRODUCTION TO COMPUTERS and PROGRAMMING"
   ]
  },
  {
   "cell_type": "markdown",
   "metadata": {},
   "source": [
    "### _The topics of the week !_\n",
    "\n",
    "- Object Oriented Programming\n",
    "    - CLASSES & OBJECTS\n",
    "\n",
    "\n",
    "Python is an object oriented programming language. **_Object Oriented Programming_** can be thought of as simply adapting real life to programming. For example, let's imagine that we prepared building stock software. For this, \"reinforced concrete\", \"steel\" and \"masonry\" must be created as **_objects_**. In order to realize such a system by programming, we actually need to define the structure of each object and then produce objects from these structures. When we look around, we see that each item is actually an object. These objects have different properties (**_attributes_**) and functions (**_methods_**).\n",
    "\n",
    "In order to create our own data types and to produce objects from these data types, we first need to define the structure in which we will produce the objects. This structure is called **_\"class\"_**. Classes are a structure where we define the properties and methods of objects while creating our **_objects_**. The property of \"Reinforced Concrete\" object can be exemplified as strength and its function can be exemplified as modulus of elasticity.\n",
    "\n",
    "Classes are used to define groups or sets with common properties. For example, all cars have features such as a brand, model, price, color.\n",
    "\n",
    "### _\" CLASS \"_ a code template for creating objects.\n",
    "\n",
    "### _\" OBJECT \"_ the instance of the class"
   ]
  },
  {
   "cell_type": "markdown",
   "metadata": {},
   "source": [
    "---"
   ]
  },
  {
   "cell_type": "code",
   "execution_count": 85,
   "metadata": {},
   "outputs": [
    {
     "name": "stdout",
     "output_type": "stream",
     "text": [
      "<__main__.MyClass_Name object at 0x7f9dc84320f0>\n"
     ]
    }
   ],
   "source": [
    "# Python uses word \"class\" to define an empty class with no functionalities\n",
    "\n",
    "class MyClass_Name:\n",
    "    '''This is a docstring line for description'''\n",
    "    pass\n",
    "\n",
    "instanse = MyClass_Name()    # object is created using the constructor of class\n",
    "print(instanse)"
   ]
  },
  {
   "cell_type": "markdown",
   "metadata": {},
   "source": [
    "# Class definition"
   ]
  },
  {
   "cell_type": "code",
   "execution_count": 86,
   "metadata": {},
   "outputs": [],
   "source": [
    "class firstclass():\n",
    "    'Lest define a class'\n",
    "    pass\n"
   ]
  },
  {
   "cell_type": "markdown",
   "metadata": {},
   "source": [
    "# Attributes and Methods in class"
   ]
  },
  {
   "cell_type": "code",
   "execution_count": 92,
   "metadata": {},
   "outputs": [],
   "source": [
    "# Lets add some attributes or properties to this class\n",
    "\n",
    "class Lecture:\n",
    "    Department = \"\"       # class attributes\n",
    "    Teacher = \"\"          # class attributes  \n",
    "    Level = \"\"            # class attributes\n",
    "\n",
    "# Lets define an object and its properties\n",
    "\n",
    "CE_103 = Lecture()        # CE_103 is an instance (example) of the Class \"Lecture\"\n",
    "CE_103.Department = \"Civil Engineering\"\n",
    "CE_103.Name = \"Python Programming\"\n",
    "CE_103.Level = \"UnderGraduate\"\n",
    "\n",
    "# Lets define another object to same class\n",
    "\n",
    "DYB_582 = Lecture()\n",
    "DYB_582.Department = \"Civil Engineering\"\n",
    "DYB_582.Name = \"Engineering Seismology\"\n",
    "DYB_582.Level = \"Graduate\"\n"
   ]
  },
  {
   "cell_type": "code",
   "execution_count": 93,
   "metadata": {},
   "outputs": [
    {
     "name": "stdout",
     "output_type": "stream",
     "text": [
      "-------CE_103-----\n",
      "Department: Civil Engineering \n",
      "Name :Python Programming\n",
      "Level :UnderGraduate\n",
      "-------DYB_582------\n",
      "Department: Civil Engineering \n",
      "Name :Engineering Seismology\n",
      "Level :Graduate\n"
     ]
    }
   ],
   "source": [
    "print(\"-------CE_103-----\")\n",
    "print(\"Department: {} \\nName :{}\\nLevel :{}\".format(CE_103.Department,CE_103.Name,CE_103.Level))\n",
    " \n",
    "print(\"-------DYB_582------\")\n",
    "print(\"Department: {} \\nName :{}\\nLevel :{}\".format(DYB_582.Department,DYB_582.Name,DYB_582.Level))\n"
   ]
  },
  {
   "cell_type": "markdown",
   "metadata": {},
   "source": [
    "---\n",
    "In object oriented programming languages, the most effective tool is; when you write it once you can call it more than ones."
   ]
  },
  {
   "cell_type": "code",
   "execution_count": 96,
   "metadata": {},
   "outputs": [],
   "source": [
    "# lets add some function or methods to our object\n",
    "\n",
    "def lab_credit(self):     # first function in Class always starts with keyword \"self\"\n",
    "    self.lab += 1\n",
    "    return self.lab"
   ]
  },
  {
   "cell_type": "code",
   "execution_count": 97,
   "metadata": {},
   "outputs": [],
   "source": [
    "# lets write function into the class\n",
    "\n",
    "class Lecture:\n",
    "    Department = \"\"\n",
    "    Teacher = \"\"\n",
    "    Level = \"\"\n",
    "    lab = 0\n",
    "    \n",
    "    def lab_credit(self):     # first function in Class always starts with keyword \"self\"\n",
    "        self.lab += 1\n",
    "        return self.lab\n",
    "\n",
    "    # Lets define an object ant its properties\n",
    "\n",
    "CE_103 = Lecture()\n",
    "CE_103.Department = \"Civil Engineering\"\n",
    "CE_103.Name = \"Python Programming\"\n",
    "CE_103.Level = \"UnderGraduate\"\n"
   ]
  },
  {
   "cell_type": "code",
   "execution_count": 98,
   "metadata": {},
   "outputs": [
    {
     "data": {
      "text/plain": [
       "1"
      ]
     },
     "execution_count": 98,
     "metadata": {},
     "output_type": "execute_result"
    }
   ],
   "source": [
    "CE_103.lab_credit()    # call the function"
   ]
  },
  {
   "cell_type": "code",
   "execution_count": 99,
   "metadata": {},
   "outputs": [
    {
     "name": "stdout",
     "output_type": "stream",
     "text": [
      "-------CE_103-----\n",
      "Department: Civil Engineering \n",
      "Name :Python Programming\n",
      "Level :UnderGraduate\n",
      "Lab credit : 2\n"
     ]
    }
   ],
   "source": [
    "print(\"-------CE_103-----\")\n",
    "print(\"Department: {} \\nName :{}\\nLevel :{}\".format(CE_103.Department,CE_103.Name,CE_103.Level))\n",
    "\n",
    "CE_103.lab_credit()\n",
    "print(\"Lab credit :\", CE_103.lab)"
   ]
  },
  {
   "cell_type": "markdown",
   "metadata": {},
   "source": [
    "---\n",
    "Think that a class as blueprint of specific objects. These objects has to be created in the class. Assume a \"house\" as a class. Class variable is a variable that is shared by all different objects of class. Such as \"roof\", \"column\", \"foundation\". Instance variables are unique to each instance of a class. Such as \"garage\", \"doghouse\", \"dining room\". Functions, or methods, describes the behaviour of an object. In our example, this could be the location of the house. \n",
    "\n",
    "![alt text here](./Figures/class.png)\n",
    "\n"
   ]
  },
  {
   "cell_type": "markdown",
   "metadata": {},
   "source": [
    "---\n",
    "While creating the object we may also define its properties, such as;"
   ]
  },
  {
   "cell_type": "code",
   "execution_count": 41,
   "metadata": {},
   "outputs": [
    {
     "name": "stdout",
     "output_type": "stream",
     "text": [
      "-------EQE_576------\n",
      "Department: Civil Engineering \n",
      "Level :Graduate\n",
      "-------DYB_523------\n",
      "Department: Civil Engineering \n",
      "Level :Graduate\n"
     ]
    }
   ],
   "source": [
    "class Lecture:\n",
    "    Department = \"Civil Engineering\"\n",
    "    Level = \"Graduate\"\n",
    "    \n",
    "EQE_576 = Lecture()     # object creating\n",
    "DYB_523 = Lecture()\n",
    "\n",
    "print(\"-------EQE_576------\")\n",
    "print(\"Department: {} \\nLevel :{}\".format(EQE_576.Department,EQE_576.Level))\n",
    "\n",
    "print(\"-------DYB_523------\")\n",
    "print(\"Department: {} \\nLevel :{}\".format(DYB_523.Department,DYB_523.Level))\n"
   ]
  },
  {
   "cell_type": "markdown",
   "metadata": {},
   "source": [
    "---\n",
    "BUT, in this situation, both objects have same properties! What if I would like to define different properties for each object ??\n",
    "\n",
    "# **__ init __()** function\n",
    "\n",
    "We need \"__ init __()\" and \"self\" to exemplified the properties of an object. The first parameter of this function must always be \"self\"."
   ]
  },
  {
   "cell_type": "code",
   "execution_count": 5,
   "metadata": {},
   "outputs": [
    {
     "name": "stdout",
     "output_type": "stream",
     "text": [
      "Kuzey.Guney@2005gtu.edu.tr\n",
      "Cinar.Selvi@2011gtu.edu.tr\n"
     ]
    }
   ],
   "source": [
    "# Up to know we learned class attribute, but there also object attributes. \n",
    "# In order to define object attributes, I need __init__() function and self.\n",
    "\n",
    "class student:\n",
    "    def __init__(self, first, last, enroll):      # set instance variables \"self, first, last, enroll\"\n",
    "        self.fname=first\n",
    "        self.lname=last\n",
    "        self.enroll_year=enroll\n",
    "        self.email=first + '.' + last + '@' + enroll + 'gtu.edu.tr'\n",
    "\n",
    "undgra1 = student('Kuzey', 'Guney', '2005')\n",
    "undgra2 = student('Cinar', 'Selvi', '2011')\n",
    "\n",
    "print(undgra1.email)\n",
    "print(undgra2.email)"
   ]
  },
  {
   "cell_type": "code",
   "execution_count": 1,
   "metadata": {},
   "outputs": [
    {
     "name": "stdout",
     "output_type": "stream",
     "text": [
      "KuzeyGuney\n",
      "CinarSelvi\n"
     ]
    }
   ],
   "source": [
    "# Instances of student class have created. Now,let's add some action, to do so, we will add a method to this class.\n",
    "# Asuume that we would like to display full name of student.\n",
    "\n",
    "class student:\n",
    "    def __init__(self, first, last, enroll):      # set instance variables \"self, first, last, enroll\"\n",
    "        self.fname=first\n",
    "        self.lname=last\n",
    "        self.enroll_year=enroll\n",
    "        self.email=first + '.' + last + '@' + enroll + 'gtu.edu.tr'\n",
    "    \n",
    "    def fullname(self):\n",
    "            return '{}{}'.format(self.fname, self.lname)\n",
    "\n",
    "undgra1 = student('Kuzey', 'Guney', '2005')\n",
    "undgra2 = student('Cinar', 'Selvi', '2011')        \n",
    "\n",
    "print(undgra1.fullname())\n",
    "print(undgra2.fullname())"
   ]
  },
  {
   "cell_type": "code",
   "execution_count": 8,
   "metadata": {},
   "outputs": [],
   "source": [
    "Kemal = student('Kemal','Durmaz','2009')"
   ]
  },
  {
   "cell_type": "code",
   "execution_count": 9,
   "metadata": {},
   "outputs": [
    {
     "data": {
      "text/plain": [
       "<__main__.student at 0x7fdab81df8d0>"
      ]
     },
     "execution_count": 9,
     "metadata": {},
     "output_type": "execute_result"
    }
   ],
   "source": [
    "Kemal"
   ]
  },
  {
   "cell_type": "code",
   "execution_count": 10,
   "metadata": {},
   "outputs": [
    {
     "data": {
      "text/plain": [
       "['__class__',\n",
       " '__delattr__',\n",
       " '__dict__',\n",
       " '__dir__',\n",
       " '__doc__',\n",
       " '__eq__',\n",
       " '__format__',\n",
       " '__ge__',\n",
       " '__getattribute__',\n",
       " '__gt__',\n",
       " '__hash__',\n",
       " '__init__',\n",
       " '__init_subclass__',\n",
       " '__le__',\n",
       " '__lt__',\n",
       " '__module__',\n",
       " '__ne__',\n",
       " '__new__',\n",
       " '__reduce__',\n",
       " '__reduce_ex__',\n",
       " '__repr__',\n",
       " '__setattr__',\n",
       " '__sizeof__',\n",
       " '__str__',\n",
       " '__subclasshook__',\n",
       " '__weakref__',\n",
       " 'email',\n",
       " 'enroll_year',\n",
       " 'fname',\n",
       " 'fullname',\n",
       " 'lname']"
      ]
     },
     "execution_count": 10,
     "metadata": {},
     "output_type": "execute_result"
    }
   ],
   "source": [
    "dir(Kemal)"
   ]
  },
  {
   "cell_type": "code",
   "execution_count": 11,
   "metadata": {},
   "outputs": [
    {
     "data": {
      "text/plain": [
       "'Kemal.Durmaz@2009gtu.edu.tr'"
      ]
     },
     "execution_count": 11,
     "metadata": {},
     "output_type": "execute_result"
    }
   ],
   "source": [
    "kemal.email"
   ]
  },
  {
   "cell_type": "markdown",
   "metadata": {},
   "source": [
    "---\n",
    "## Homework #12\n",
    "\n",
    "Create your own python module by defining a class for Mechanical properties of truss.\n",
    "\n",
    "These properties will be:\n",
    "\n",
    "    1. Area\n",
    "    2. Perimeter\n",
    "    3. location of center of gravity\n",
    "    4. Moment of Inertia\n",
    "    5. Moment of Inertia with respect to axes\n",
    "    6. Moment of inertia on principal axes\n",
    "\n",
    "PS : Do not forget to upload your answer sheets to CE_103 Class on MS Teams.\n"
   ]
  }
 ],
 "metadata": {
  "kernelspec": {
   "display_name": "Python 3",
   "language": "python",
   "name": "python3"
  },
  "language_info": {
   "codemirror_mode": {
    "name": "ipython",
    "version": 3
   },
   "file_extension": ".py",
   "mimetype": "text/x-python",
   "name": "python",
   "nbconvert_exporter": "python",
   "pygments_lexer": "ipython3",
   "version": "3.6.8"
  }
 },
 "nbformat": 4,
 "nbformat_minor": 4
}
