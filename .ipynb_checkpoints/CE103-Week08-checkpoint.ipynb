{
 "cells": [
  {
   "cell_type": "markdown",
   "metadata": {},
   "source": [
    "### CE 103- INTRODUCTION TO COMPUTERS and PROGRAMMING"
   ]
  },
  {
   "cell_type": "markdown",
   "metadata": {},
   "source": [
    "### _The topics of the week !_\n",
    "\n",
    "- SciPy\n",
    "\n",
    "SciPy is the _**scientific library**_ package of Python. It is built to work with NumPy arrays, mathematical algorithms, convenience functions and complex numerical computations. SciPy is a very helpfull and efficient tool to manipulate numbers on a computer, which is also a powerful programming language available for  use in developing advanced programs and specialized applications.  \n",
    "\n",
    "\n",
    "SciPy is composed of task-specific sub-modules. These modules are depend on _Numpy_, but they are mostly independent from each other. The standart precedure to import these modules is given below with task-specific list of SciPy sub-modules. These sub packages help to solve the most common Scientific Computation and can operate on any Numpy library. \n",
    "\n",
    "_> import scipy_\n",
    "\n",
    "_> help(scipy)_\n",
    "\n",
    "\n",
    "![](./Figures/scipy-submodules.png)\n",
    "\n",
    "*** We will not cover all the sub-modules in the frame of this lecture. \n",
    "\n",
    "SciPy is built in top of Numpy, that is why it should be imported first. "
   ]
  },
  {
   "cell_type": "code",
   "execution_count": null,
   "metadata": {},
   "outputs": [],
   "source": [
    "# lets import SciPy\n",
    "\n",
    "import numpy as np                                     \n",
    "import scipy"
   ]
  },
  {
   "cell_type": "code",
   "execution_count": null,
   "metadata": {},
   "outputs": [],
   "source": [
    "help(scipy)"
   ]
  },
  {
   "cell_type": "markdown",
   "metadata": {},
   "source": [
    "---\n",
    "# \" scipy.interpolate \"\n",
    "    : Interpolation\n",
    "   \n",
    "Interpolation is the process of finding a value between two points on a line or curve. It is very useful tool for statistics. \n",
    "   "
   ]
  },
  {
   "cell_type": "code",
   "execution_count": null,
   "metadata": {},
   "outputs": [],
   "source": [
    "import numpy as np\n",
    "from scipy import interpolate\n",
    "import matplotlib.pyplot as plt\n",
    "\n",
    "x = np.linspace(0, 5, 50)\n",
    "y = np.cos(x ** 2 / 3 + 4)\n",
    "print (x, y)\n",
    "plt.plot(x, y, 'r-.')"
   ]
  },
  {
   "cell_type": "markdown",
   "metadata": {},
   "source": [
    "The simplest interpolation routine is _**\"interp1d\"**_ module."
   ]
  },
  {
   "cell_type": "code",
   "execution_count": null,
   "metadata": {},
   "outputs": [],
   "source": [
    "# lets do the interpolation\n",
    "from scipy.interpolate import interp1d\n",
    "\n",
    "f = interp1d(x,y)\n",
    "type(f)"
   ]
  },
  {
   "cell_type": "code",
   "execution_count": null,
   "metadata": {},
   "outputs": [],
   "source": [
    "xnew = np.linspace(0, 5, 50)\n",
    "\n",
    "plt.plot(x, y, 'o', xnew, f(xnew), '-')\n",
    "plt.scatter(4.7, f(4.7), s=150, c='red', marker='o')\n",
    "f(4.7)"
   ]
  },
  {
   "cell_type": "markdown",
   "metadata": {},
   "source": [
    "---\n",
    "# \" scipy.linalg \"\n",
    "    : Linear Algebra Routines\n",
    "   \n",
    "   "
   ]
  },
  {
   "cell_type": "markdown",
   "metadata": {},
   "source": [
    "This module has very efficient and fast linear algebra routines. Most of the statistical problems can be described mathematically by using linear algebra. "
   ]
  },
  {
   "cell_type": "code",
   "execution_count": null,
   "metadata": {},
   "outputs": [],
   "source": [
    "# lets define a numpy array\n",
    "import numpy as np\n",
    "from scipy import linalg\n",
    "A = np.array([[2,4],[1,3]])   # has to be 2D array\n",
    "\n",
    "linalg.inv(A)                 # get inversion of the array"
   ]
  },
  {
   "cell_type": "code",
   "execution_count": null,
   "metadata": {},
   "outputs": [],
   "source": [
    "A.dot(linalg.inv(A))          # use \"dot\" for matrix multiplication"
   ]
  },
  {
   "cell_type": "code",
   "execution_count": null,
   "metadata": {},
   "outputs": [],
   "source": [
    "A.T                           # take the transpose"
   ]
  },
  {
   "cell_type": "code",
   "execution_count": null,
   "metadata": {},
   "outputs": [],
   "source": [
    "linalg.det(A)                # calculate the determinant "
   ]
  },
  {
   "cell_type": "code",
   "execution_count": null,
   "metadata": {},
   "outputs": [],
   "source": [
    "# vectorel calculation\n",
    "\n",
    "v = np.array([3,5])\n",
    "linalg.norm(v)"
   ]
  },
  {
   "cell_type": "code",
   "execution_count": null,
   "metadata": {},
   "outputs": [],
   "source": [
    "# distance between vectors\n",
    "u = np.array([-1,-3])\n",
    "plt.plot(v,'r',u,'b')\n",
    "plt.show()"
   ]
  },
  {
   "cell_type": "code",
   "execution_count": null,
   "metadata": {},
   "outputs": [],
   "source": [
    "linalg.norm(v-u)\n"
   ]
  },
  {
   "cell_type": "markdown",
   "metadata": {},
   "source": [
    "For more linear algebra functions; \n",
    "visit https://docs.scipy.org/doc/scipy/reference/linalg.html#scipy.linalg"
   ]
  },
  {
   "cell_type": "markdown",
   "metadata": {},
   "source": [
    "---\n",
    "# \" scipy.ndimage \"\n",
    "    : N-dimensional Image Processing\n",
    "Its a helpful package for multidimensional image manipulation and processing using Numpy and Scipy. Medical and biological imaging are good examples about the usage of this package. It also provides a number of general image processing and analysis function which are designed to operate with arrays.    \n",
    "\n",
    "This package includes common tasks in image processing such as; input/output, display, basic manipulations(crop, flip, rotate, etc.), image filtering (denoise, sharpen, etc.) and more.  \n",
    "   "
   ]
  },
  {
   "cell_type": "code",
   "execution_count": null,
   "metadata": {},
   "outputs": [],
   "source": [
    "# lets display an image and rotate it \n",
    "\n",
    "from scipy import ndimage, misc\n",
    "from matplotlib import pyplot as plt\n",
    "face = scipy.misc.face()\n",
    "plt.imshow(ndimage.rotate(face, 30))    # rotates image in degrees\n",
    "plt.show()"
   ]
  },
  {
   "cell_type": "code",
   "execution_count": null,
   "metadata": {},
   "outputs": [],
   "source": [
    "plt.imshow(np.flipud(face))\n",
    "plt.show()"
   ]
  },
  {
   "cell_type": "code",
   "execution_count": null,
   "metadata": {},
   "outputs": [],
   "source": [
    "plt.imshow(ndimage.gaussian_filter(face, sigma=1))\n",
    "plt.show()"
   ]
  },
  {
   "cell_type": "code",
   "execution_count": null,
   "metadata": {},
   "outputs": [],
   "source": [
    "type(ndimage.gaussian_filter(face, sigma=1))"
   ]
  },
  {
   "cell_type": "markdown",
   "metadata": {},
   "source": [
    "For more linear algebra functions; visit https://docs.scipy.org/doc/scipy/reference/ndimage.html#scipy.ndimage"
   ]
  },
  {
   "cell_type": "markdown",
   "metadata": {},
   "source": [
    "---\n",
    "# \" scipy.optimize \"\n",
    "    : Optimization and Root Finding Routines\n",
    "Optimization is a mathematical function deals with the problem of finding minimum, maximum or zeros of a function. In general, optimization problems are differ from each other, that is why you should define your problem to choose the right tool. \n",
    "\n",
    "**scipy.optimize** contains a number of useful methods for optimizing different kinds of functions.\n",
    "\n",
    "Practical optimization routines are; \n",
    "    \n",
    "    . minimize_scalar(); minimizes a function of one variable\n",
    "    . minimize(); minimizes a function of many variables\n",
    "    . root(); find the zeros of a function of many variable\n",
    "\n",
    "### _**root() and root_scalar()**_\n",
    "\n",
    "#### ** _Single-variable function examples;_"
   ]
  },
  {
   "cell_type": "code",
   "execution_count": null,
   "metadata": {},
   "outputs": [],
   "source": [
    "from scipy.optimize import root, fsolve\n",
    "\n",
    "def f(x):                          # define a linear function\n",
    "    return x**3-3*x+1\n",
    "\n",
    "x = np.linspace(-3, 3, 100)\n",
    "plt.axhline(0)\n",
    "plt.plot(x, f(x))"
   ]
  },
  {
   "cell_type": "code",
   "execution_count": null,
   "metadata": {},
   "outputs": [],
   "source": [
    "answer = root(f, 0)\n",
    "answer"
   ]
  },
  {
   "cell_type": "code",
   "execution_count": null,
   "metadata": {},
   "outputs": [],
   "source": [
    "answer.x"
   ]
  },
  {
   "cell_type": "code",
   "execution_count": null,
   "metadata": {},
   "outputs": [],
   "source": [
    "answer = root(f, (-10, 0, 10))"
   ]
  },
  {
   "cell_type": "code",
   "execution_count": null,
   "metadata": {},
   "outputs": [],
   "source": [
    "answer.x"
   ]
  },
  {
   "cell_type": "code",
   "execution_count": null,
   "metadata": {},
   "outputs": [],
   "source": [
    "fsolve(f, 0)"
   ]
  },
  {
   "cell_type": "markdown",
   "metadata": {},
   "source": [
    "#### _Brent's method is an algorithm to find the root of a function which is the one of the best root finding routines._"
   ]
  },
  {
   "cell_type": "code",
   "execution_count": null,
   "metadata": {},
   "outputs": [],
   "source": [
    "def f(x):\n",
    "    return (x**2-9)\n",
    "\n",
    "x = np.linspace(-5, 5, 100)\n",
    "plt.axhline(0)\n",
    "plt.plot(x, f(x))\n",
    "\n",
    "root = scipy.optimize.brentq(f, 0, -3)\n",
    "root"
   ]
  },
  {
   "cell_type": "code",
   "execution_count": null,
   "metadata": {},
   "outputs": [],
   "source": [
    "root = scipy.optimize.brentq(f, 2, 4)\n",
    "root"
   ]
  },
  {
   "cell_type": "code",
   "execution_count": null,
   "metadata": {},
   "outputs": [],
   "source": []
  },
  {
   "cell_type": "markdown",
   "metadata": {},
   "source": [
    "#### ** _**\"optimize.fsolve\"** is needed to find a root of a set of non-linear equations_"
   ]
  },
  {
   "cell_type": "code",
   "execution_count": null,
   "metadata": {},
   "outputs": [],
   "source": [
    "def lin(x):\n",
    "        return x + 5*np.sin(x)          # set a linear function\n",
    "\n",
    "#def nonlin(X):                          # set a non-linear function\n",
    "#        out = [X[0]*np.sin(X[1]) + 5]\n",
    "#        out.append(X[0]*X[1] - np.cos(X[1]) - 2)\n",
    "#        return out\n",
    "\n",
    "from scipy.optimize import fsolve\n",
    "x = fsolve(lin, 5)\n",
    "print(x)"
   ]
  },
  {
   "cell_type": "code",
   "execution_count": null,
   "metadata": {},
   "outputs": [],
   "source": [
    "plt.axhline(0)\n",
    "plt.axvline(0)\n",
    "x = np.linspace(-10, 10, 100)\n",
    "a = fsolve(lin, -5)\n",
    "plt.plot(x, lin(x))\n",
    "plt.plot(a, 0, 'r*')"
   ]
  },
  {
   "cell_type": "code",
   "execution_count": null,
   "metadata": {},
   "outputs": [],
   "source": [
    "def nonlin(x):                         \n",
    "        return (x**2. * np.sin(20*x) + np.cos(x-np.pi))**3 + 1   # set a non-linear function\n",
    "    \n",
    "x = np.linspace(-1, 1, 100)\n",
    "\n",
    "plt.axhline(color = 'r', **{'linestyle': 'dashed'})\n",
    "plt.axvline(color = 'r', **{'linestyle': 'dashed'})\n",
    "plt.plot(x, nonlin(x))\n",
    "plt.show()"
   ]
  },
  {
   "cell_type": "code",
   "execution_count": null,
   "metadata": {},
   "outputs": [],
   "source": [
    "[x1, x2] = fsolve(nonlin, [-0.5,0.5])\n",
    "print(x1, x2)\n",
    "\n",
    "x = np.linspace(-0.5, 0.5, 50)\n",
    "plt.plot(x, nonlin(x))\n",
    "plt.plot(x1, 0, 'g*', x2, 0, 'g*')\n",
    "plt.show()"
   ]
  },
  {
   "cell_type": "markdown",
   "metadata": {},
   "source": [
    "## minimize() and minimize_scalar()\n",
    "\n",
    "Scalar function has one-dimensional output, which is a set of real numbers, and mathematically it accepts one number as input.\n",
    "\n",
    "Lets define a quadratic polynomial as a scalar function and find the minimum value of this function. \n",
    "\n",
    "y = 5x⁴ - 3x + 1"
   ]
  },
  {
   "cell_type": "code",
   "execution_count": null,
   "metadata": {},
   "outputs": [],
   "source": [
    "import numpy as np\n",
    "from scipy.optimize import minimize_scalar\n",
    "\n",
    "def function(x):\n",
    "    return 2 * x ** 4 - 3 * x + 1   # define the function\n",
    "\n",
    "x = np.linspace(-1, 1, 100)\n",
    "plt.plot(x,function(x))\n",
    "plt.show()"
   ]
  },
  {
   "cell_type": "code",
   "execution_count": null,
   "metadata": {},
   "outputs": [],
   "source": [
    "mini = minimize_scalar(function)\n",
    "mini   "
   ]
  },
  {
   "cell_type": "code",
   "execution_count": null,
   "metadata": {},
   "outputs": [],
   "source": [
    "# fun : the value of the function at the optimal value x.\n",
    "# x : optimal value of the function"
   ]
  },
  {
   "cell_type": "code",
   "execution_count": null,
   "metadata": {},
   "outputs": [],
   "source": [
    "#  minimizing function with many variables \n",
    "\n",
    "def function2(x):\n",
    "    return (x+4) ** 2 + 5  # define the function\n",
    "\n",
    "x = np.linspace(-10, 10, 20)\n",
    "plt.plot(x,function2(x))\n",
    "plt.show()"
   ]
  },
  {
   "cell_type": "code",
   "execution_count": null,
   "metadata": {},
   "outputs": [],
   "source": [
    "from scipy.optimize import minimize\n",
    "mini = minimize(function2, 2)\n",
    "mini"
   ]
  },
  {
   "cell_type": "markdown",
   "metadata": {},
   "source": [
    "## Curve Fitting\n",
    "\n",
    "Its an efficient tool for linear or non-linear fit to data. It uses least-square function."
   ]
  },
  {
   "cell_type": "code",
   "execution_count": null,
   "metadata": {},
   "outputs": [],
   "source": [
    "from scipy.optimize import curve_fit\n",
    "\n",
    "x = np.linspace(0, 10, 50)\n",
    "y = 2 * np.sin(2 * x) * np.random.normal(50)\n",
    "\n",
    "plt.scatter(x, y)\n",
    "plt.show()"
   ]
  },
  {
   "cell_type": "code",
   "execution_count": null,
   "metadata": {},
   "outputs": [],
   "source": [
    "def g(x, a, b):\n",
    "    return a * np.sin(b * x) \n",
    "\n",
    "popt, pcov = scipy.optimize.curve_fit(g, x, y, p0=[2,2])  # given initial guess\n",
    "print(popt)\n",
    "print(pcov)\n",
    "\n",
    "plt.plot(x, y, 'r*', x, g(x, popt[0], popt[1]))\n",
    "plt.show()"
   ]
  },
  {
   "cell_type": "markdown",
   "metadata": {},
   "source": [
    "---\n",
    "# \" scipy.sparse \"\n",
    "    : Sparse Matrices\n",
    "    \n",
    "A special type of matrix that mostly composed of zero values. Although it is faster in operation, on the other hand, it is waste of memory resources as those zero values do not contain any information. \n",
    "\n",
    "Let give an example about a usage of sparce matrices; assume that you have followers watch your channel and mark between 1 to 5 as they like your videos. So you have customers assigned rows, and videos assigned columns in your data sheet. Think that you have thousands of video, so, a customer couldn't be watch them all. There will be zeros on your rows. If you do your computations based on Sparse matrices, this computation will be faster.\n",
    "   "
   ]
  },
  {
   "cell_type": "code",
   "execution_count": null,
   "metadata": {},
   "outputs": [],
   "source": [
    "import scipy.sparse as sps\n",
    "X = sps.lil_matrix((2,9))    # Row-based linked list sparse matrix (LIL)\n",
    "X[0,2] = 2.0  \n",
    "X[1,3] = 5.0\n",
    "\n",
    "print (X.todense())"
   ]
  },
  {
   "cell_type": "code",
   "execution_count": null,
   "metadata": {},
   "outputs": [],
   "source": [
    "# Dense to Sparce\n",
    "np.random.seed(seed=15)\n",
    "dense = np.array([[2,4],[1,3]])   # create a dense array\n",
    "\n",
    "print(dense)"
   ]
  },
  {
   "cell_type": "code",
   "execution_count": null,
   "metadata": {},
   "outputs": [],
   "source": [
    "# A dense matrix stored in a NumPy array can be converted into a \n",
    "# sparse matrix using the CSR representation by calling the \n",
    "# csr_matrix() function.\n",
    "from scipy.sparse import csr_matrix\n",
    "\n",
    "sparse = csr_matrix(dense)    # Compressed Sparse Row matrix (CSR)\n",
    "print(sparse)"
   ]
  },
  {
   "cell_type": "code",
   "execution_count": null,
   "metadata": {},
   "outputs": [],
   "source": [
    "sparse.todense()"
   ]
  },
  {
   "cell_type": "markdown",
   "metadata": {},
   "source": [
    "---\n",
    "# \" scipy.special \"\n",
    "    : Special Functions\n",
    "\n",
    "Some universal functions are available in this package. Such as;\n",
    "\n",
    "    - Cubic root\n",
    "    - Exponential\n",
    "    - Lambert\n",
    "    - Gamma\n",
    "    - Permutation / Combination etc.\n",
    "   \n",
    "   "
   ]
  },
  {
   "cell_type": "code",
   "execution_count": null,
   "metadata": {},
   "outputs": [],
   "source": [
    "from scipy import special\n",
    "dir(special)\n",
    "help(special.bernoulli)"
   ]
  },
  {
   "cell_type": "code",
   "execution_count": null,
   "metadata": {},
   "outputs": [],
   "source": [
    "# Lets define a cubic root function and solve it\n",
    "from scipy.special import cbrt\n",
    "\n",
    "f = cbrt([2.5, 9, 0.8, 234])\n",
    "print (f)\n"
   ]
  },
  {
   "cell_type": "code",
   "execution_count": null,
   "metadata": {},
   "outputs": [],
   "source": [
    "# Exponential function\n",
    "from scipy.special import exp10\n",
    "\n",
    "f = exp10([2, 9])\n",
    "print(f)"
   ]
  },
  {
   "cell_type": "markdown",
   "metadata": {},
   "source": [
    "---\n",
    "# \" scipy.stats \"\n",
    "    : Statistics and Random Numbers\n",
    "   \n",
    "The sub-package that all the statistical functions are located. It contains probabilistic descriptions of random processes.\n"
   ]
  },
  {
   "cell_type": "code",
   "execution_count": null,
   "metadata": {},
   "outputs": [],
   "source": [
    "import scipy.stats\n",
    "# help(scipy.stats)   # complete listing of statsistical functions"
   ]
  },
  {
   "cell_type": "code",
   "execution_count": null,
   "metadata": {},
   "outputs": [],
   "source": [
    "num = np.random.normal(size=1000)\n",
    "\n",
    "plt.plot(num,'r*')"
   ]
  },
  {
   "cell_type": "code",
   "execution_count": null,
   "metadata": {},
   "outputs": [],
   "source": [
    "np.mean(num)"
   ]
  },
  {
   "cell_type": "code",
   "execution_count": null,
   "metadata": {},
   "outputs": [],
   "source": [
    "np.median(num)"
   ]
  },
  {
   "cell_type": "code",
   "execution_count": null,
   "metadata": {},
   "outputs": [],
   "source": [
    "# The median is also the percentile 50, because 50% of the observation are below it\n",
    "scipy.stats.scoreatpercentile(num, 50)"
   ]
  },
  {
   "cell_type": "code",
   "execution_count": null,
   "metadata": {},
   "outputs": [],
   "source": [
    "scipy.stats.describe(num)"
   ]
  },
  {
   "cell_type": "markdown",
   "metadata": {},
   "source": [
    "---\n",
    "# scipy.spatial"
   ]
  },
  {
   "cell_type": "code",
   "execution_count": null,
   "metadata": {},
   "outputs": [],
   "source": [
    "# \"'ordinary' straight-line distance between two points in Euclidean space.\"\n",
    "\n",
    "from scipy.spatial import distance\n",
    "coords = [(35.0456, 44.2), (36.1667, 44.2)]\n",
    "distance.cdist(coords, coords, 'euclidean')\n"
   ]
  },
  {
   "cell_type": "code",
   "execution_count": null,
   "metadata": {},
   "outputs": [],
   "source": [
    "# Cubic root function\n",
    "\n",
    "from scipy.special import cbrt\n",
    "func = cbrt([20, 384, 2.83, 1398])\n",
    "print (func)"
   ]
  },
  {
   "cell_type": "code",
   "execution_count": null,
   "metadata": {},
   "outputs": [],
   "source": [
    "# Exponential function\n",
    "\n",
    "from scipy.special import exp10\n",
    "func = exp10([7, 2.2, 1])\n",
    "print (func)"
   ]
  },
  {
   "cell_type": "code",
   "execution_count": null,
   "metadata": {},
   "outputs": [],
   "source": [
    "# log sum exponential fuction\n",
    "\n",
    "from scipy.special import logsumexp\n",
    "import numpy as np\n",
    "x = np.arange(10)\n",
    "func = logsumexp(x)   # compute the log of the sum of exponentials\n",
    "print (func)"
   ]
  },
  {
   "cell_type": "markdown",
   "metadata": {},
   "source": [
    "## Numpy examples"
   ]
  },
  {
   "cell_type": "code",
   "execution_count": null,
   "metadata": {},
   "outputs": [],
   "source": [
    "# Quadratic equation\n",
    "\n",
    "import numpy as np\n",
    "\n",
    "p = np.poly1d([1,5,-6])    ### x**2 + 5*x - 6\n",
    "np.roots(p)"
   ]
  },
  {
   "cell_type": "code",
   "execution_count": null,
   "metadata": {},
   "outputs": [],
   "source": [
    "# Cubic equation\n",
    "p = np.poly1d([1,5,6,1])\n",
    "np.roots(p)"
   ]
  },
  {
   "cell_type": "code",
   "execution_count": null,
   "metadata": {},
   "outputs": [],
   "source": [
    "# Complex roots\n",
    "p = np.poly1d([2, -3, 4, 5])\n",
    "np.roots(p)"
   ]
  },
  {
   "cell_type": "markdown",
   "metadata": {},
   "source": [
    "---\n",
    "## Homework #8\n",
    "\n",
    "The December 26, 2004 00:58 (UTC) magnitude (M) 9.1 Sumatra-Andaman earthquake located at 3.295°N 95.982°E by USGS. \n",
    "\n",
    "Please calculate both shortest distance and spherical distance between Sumatra earthquake epicentral location and Gebze Technical University Civil Engineering Department building location (40.8068°N 29.3555°E) by using at least one _**SciPy sub-module**_ _(geopy is not allowed)_. Then explain the difference between them. \n",
    "\n",
    "![](./Figures/earth-dist.png)\n",
    "\n",
    "*** _Hint: Haversine function_\n",
    "\n",
    "*** For detailes about Sumatra Earhquake mechanism and Tsunami generation simulations you may want to visit https://www.usgs.gov/centers/pcmsc/science/tsunami-generation-2004-m91-sumatra-andaman-earthquake?qt-science_center_objects=0#qt-science_center_objects\n",
    "\n",
    "PS : Do not forget to upload your answer sheets to CE_103 Class on MS Teams.\n"
   ]
  }
 ],
 "metadata": {
  "kernelspec": {
   "display_name": "Python 3",
   "language": "python",
   "name": "python3"
  },
  "language_info": {
   "codemirror_mode": {
    "name": "ipython",
    "version": 3
   },
   "file_extension": ".py",
   "mimetype": "text/x-python",
   "name": "python",
   "nbconvert_exporter": "python",
   "pygments_lexer": "ipython3",
   "version": "3.6.8"
  }
 },
 "nbformat": 4,
 "nbformat_minor": 4
}
