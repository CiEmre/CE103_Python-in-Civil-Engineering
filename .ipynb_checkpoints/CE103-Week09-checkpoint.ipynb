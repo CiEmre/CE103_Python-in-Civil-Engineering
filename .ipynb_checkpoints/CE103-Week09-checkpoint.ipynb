{
 "cells": [
  {
   "cell_type": "markdown",
   "metadata": {},
   "source": [
    "### CE 103- INTRODUCTION TO COMPUTERS and PROGRAMMING"
   ]
  },
  {
   "cell_type": "markdown",
   "metadata": {},
   "source": [
    "### _The topics of the week !_\n",
    "\n",
    "- I/O Functions\n",
    "    - File Input / Output\n",
    "    - Open / Close Files\n",
    "    - _File_ Object Attributes\n",
    "    - Reading and Writing Files\n",
    "    - Directories \n",
    "    \n",
    "We will learn about file opretions such as opening a file, reading from it, writing to it, closing it. \n",
    "Lets start with basic screen output command \"print\" before go in details with file operations."
   ]
  },
  {
   "cell_type": "code",
   "execution_count": null,
   "metadata": {},
   "outputs": [],
   "source": [
    "print(1, 2, 3, 4, sep=' , ', end=' . ')"
   ]
  },
  {
   "cell_type": "code",
   "execution_count": null,
   "metadata": {},
   "outputs": [],
   "source": [
    "# Lets start with simplest i/o function\n",
    "print('Success is not a destination, it\\'s a journey')"
   ]
  },
  {
   "cell_type": "code",
   "execution_count": null,
   "metadata": {},
   "outputs": [],
   "source": [
    "print('Success is not a {}, it\\'s a {}'.format('DESTINATION','JOURNEY'))"
   ]
  },
  {
   "cell_type": "code",
   "execution_count": null,
   "metadata": {},
   "outputs": [],
   "source": [
    "print(f\"Success is not a {'DESTINATION'}, it\\'s a {'JOURNEY'}\")"
   ]
  },
  {
   "cell_type": "code",
   "execution_count": null,
   "metadata": {},
   "outputs": [],
   "source": [
    "for i in 'Success':\n",
    "    print(i)"
   ]
  },
  {
   "cell_type": "markdown",
   "metadata": {},
   "source": [
    "#### Read a line of text from standard **_input_** comes from the keyboard\n"
   ]
  },
  {
   "cell_type": "code",
   "execution_count": null,
   "metadata": {},
   "outputs": [],
   "source": [
    "input()     # ask a user for some text input"
   ]
  },
  {
   "cell_type": "code",
   "execution_count": null,
   "metadata": {},
   "outputs": [],
   "source": [
    "str = input(\"Write your guess as \\\"Heads\\\" or \\\"Tails\\\"\")\n",
    "print(\"Your guess is\", str)"
   ]
  },
  {
   "cell_type": "markdown",
   "metadata": {},
   "source": [
    "### The Conversion Component\n",
    "\n",
    "As default, .format() method uses string which may be cahenged by using **\" coversion \"** component."
   ]
  },
  {
   "cell_type": "code",
   "execution_count": null,
   "metadata": {},
   "outputs": [],
   "source": [
    "'%d' % 11         # defines digit \n",
    "# '{:d}'.format(11) "
   ]
  },
  {
   "cell_type": "code",
   "execution_count": null,
   "metadata": {},
   "outputs": [],
   "source": [
    "'%f' % 22         # defines float \n",
    "# '{:f}'.format(22)"
   ]
  },
  {
   "cell_type": "code",
   "execution_count": null,
   "metadata": {},
   "outputs": [],
   "source": [
    "'%s' % 'foobar'    # defines string \n",
    "# '{:s}'.format('foobar')"
   ]
  },
  {
   "cell_type": "code",
   "execution_count": null,
   "metadata": {},
   "outputs": [],
   "source": [
    "'{:b}'.format(333)  # binary integer conversion\n"
   ]
  },
  {
   "cell_type": "code",
   "execution_count": null,
   "metadata": {},
   "outputs": [],
   "source": [
    "'%c' % 44    # refers specific character"
   ]
  },
  {
   "cell_type": "code",
   "execution_count": null,
   "metadata": {},
   "outputs": [],
   "source": [
    "'{:g}'.format(3.14159)  # g conversion chooses floating point or exponential as output "
   ]
  },
  {
   "cell_type": "code",
   "execution_count": null,
   "metadata": {},
   "outputs": [],
   "source": [
    "'{:g}'.format(-123456789.8765)"
   ]
  },
  {
   "cell_type": "markdown",
   "metadata": {},
   "source": [
    "---\n",
    "# File processing operations\n",
    "\n",
    "File is storage on the disk at specific location with specially named. It stores data for future use. In Python, file has to be opened first in order to write or read it and needs to be closed, when the related process finished.\n",
    "\n",
    "**_\"os\"_** module provides file-processing operations "
   ]
  },
  {
   "cell_type": "code",
   "execution_count": null,
   "metadata": {},
   "outputs": [],
   "source": [
    "import os"
   ]
  },
  {
   "cell_type": "code",
   "execution_count": null,
   "metadata": {},
   "outputs": [],
   "source": [
    "# rename a file\n",
    "os.rename(\"filename\", \"filename_new\")  # (old_filename, new_filename)\n",
    "os.remove(\"filename_new\")              # delete a file\n",
    "os.mkdir(\"Data_Output\")    # create a new directory\n",
    "os.chdir(\"Data_Input\")     # change current directory\n",
    "os.getcwd()                # path of current directory\n",
    "os.rmdir(\"Data_Output\")    # delete directory"
   ]
  },
  {
   "cell_type": "markdown",
   "metadata": {},
   "source": [
    "### _Character Encoding in Python_\n",
    "\n",
    "There are tens of available encodings in Python, while ASCII is one of the basics and simplest one. Default encoding is \"utf-8\"."
   ]
  },
  {
   "cell_type": "markdown",
   "metadata": {},
   "source": [
    "## The **_open()_** function\n",
    "\n",
    "Its a file object and generally used with two arguments as _(filename, mode). \n",
    "The \"filename\" argument refers to the filename itself as a string, \"mode\" argument is also a string which contains 'r', 'w', 'a' or 'r+'.\n",
    "    \n",
    "    - r : the file will only be read (default)\n",
    "    - t : opens in text mode (default)\n",
    "    - w : the file opens for only writing (an existing file with the same name will be erased)\n",
    "    - a : opens the file for appending\n",
    "    - + : opens the file for updating (reading and writing)\n",
    "    - b : opens the file in binary mode\n",
    "    \n",
    "To create a new file, use open() method with parameter \"x\" (for a non existing file), \"a\" or \"w\" (creates a file if it is not exist).\n",
    "\n",
    "    - \"a\" will append to the end of the existing file\n",
    "    - \"w\" will overwrite any existing file"
   ]
  },
  {
   "cell_type": "code",
   "execution_count": null,
   "metadata": {},
   "outputs": [],
   "source": [
    "f = open('filename', 'w', encoding = 'utf-8')   # opens the file only for writing\n",
    "f.close       # necessery to free-up system resources"
   ]
  },
  {
   "cell_type": "code",
   "execution_count": null,
   "metadata": {},
   "outputs": [],
   "source": [
    "f.mode      # get the mode of file as write, read, append etc."
   ]
  },
  {
   "cell_type": "code",
   "execution_count": null,
   "metadata": {},
   "outputs": [],
   "source": [
    "f.name      # print the file name"
   ]
  },
  {
   "cell_type": "code",
   "execution_count": null,
   "metadata": {},
   "outputs": [],
   "source": [
    "f.tell      # get the current file position"
   ]
  },
  {
   "cell_type": "code",
   "execution_count": null,
   "metadata": {},
   "outputs": [],
   "source": [
    "f.seek(0)     # bring file cursor to initial position"
   ]
  },
  {
   "cell_type": "code",
   "execution_count": null,
   "metadata": {},
   "outputs": [],
   "source": [
    "with open('filename') as f:\n",
    "    inp_data = f.read()\n",
    "f.closed       # not necessery to run close() "
   ]
  },
  {
   "cell_type": "code",
   "execution_count": null,
   "metadata": {},
   "outputs": [],
   "source": [
    "# if a file object is closed, file object will fail automatically\n",
    "f.read()   # will occur error message as below"
   ]
  },
  {
   "cell_type": "code",
   "execution_count": null,
   "metadata": {},
   "outputs": [],
   "source": [
    "# f.write() writes string contents to the file and counts the number of characters\n",
    "# use \"\\n\" at the end of the line to continue with next line\n",
    "\n",
    "f = open('filename', 'w')   # lets open the file for read and write\n",
    "\n",
    "f.write('Lets write some words in the FIRST line of a file.\\n')\n",
    "f.write('This could be the SECOND line. Am I right?.\\n') "
   ]
  },
  {
   "cell_type": "code",
   "execution_count": null,
   "metadata": {},
   "outputs": [],
   "source": [
    "f = open('filename', 'r')\n",
    "output = f.read()\n",
    "print(\"Name of the file is\", f.name)"
   ]
  },
  {
   "cell_type": "code",
   "execution_count": null,
   "metadata": {},
   "outputs": [],
   "source": [
    "f = open('filename', 'a+')   # lets open the file for append)\n",
    "f.write('3rd Line\\n')\n",
    "f.write('4th Line\\n')\n",
    "f.write('5th Line\\n')\n",
    "line = f.readline()\n",
    "\n",
    "print (line) # did not append anything to the file yet !!"
   ]
  },
  {
   "cell_type": "code",
   "execution_count": null,
   "metadata": {},
   "outputs": [],
   "source": [
    "#lets write a loop to read lines seperatelly\n",
    "f = open('filename', 'r')\n",
    "\n",
    "for line in f:\n",
    "    print(line)\n",
    "    \n",
    "f.close()"
   ]
  },
  {
   "cell_type": "markdown",
   "metadata": {},
   "source": [
    "### _Using_ **_read()_** _method to read the content of a file_\n",
    "\n",
    "\n",
    "\n"
   ]
  },
  {
   "cell_type": "code",
   "execution_count": null,
   "metadata": {},
   "outputs": [],
   "source": [
    "f = open(\"Hello.txt\", \"r\")\n",
    "\n",
    "#print(f.read())       # reads complete file\n",
    "#print(f.read(1))    # reads only first 100 characters of the file\n",
    "print(f.readline())   # reads one line of the file\n",
    "print(f.readline())   # reads first two lines by calling it twise"
   ]
  },
  {
   "cell_type": "code",
   "execution_count": null,
   "metadata": {},
   "outputs": [],
   "source": [
    "f = open(\"Hello.txt\", \"r\")\n",
    "for i in f:\n",
    "    print(i * 2) "
   ]
  },
  {
   "cell_type": "markdown",
   "metadata": {},
   "source": [
    "## The **_write()_** function\n",
    "\n",
    "It writes a string \"str\" to the file, unless flush() or close() method is called, the string may not show up in the file. "
   ]
  },
  {
   "cell_type": "code",
   "execution_count": null,
   "metadata": {},
   "outputs": [],
   "source": [
    "f = open(\"write.txt\", \"w+\")\n",
    "print (\"File name is\", f.name)\n",
    "\n",
    "\n",
    "line1 = (\"lets write something for line 1.\\n\") \n",
    "line = f.write(line1)\n",
    "\n",
    "addline = [\"lets write something for line 2.\\n\", \"third line.\\n\", \"4th line.\\n\"] \n",
    "newline = f.writelines(addline)"
   ]
  },
  {
   "cell_type": "code",
   "execution_count": null,
   "metadata": {},
   "outputs": [],
   "source": [
    "f = open(\"write.txt\", \"r\")\n",
    "for i in range(4):\n",
    "   newline = f.readline()\n",
    "   print(newline)\n",
    "\n",
    "f.close()"
   ]
  },
  {
   "cell_type": "markdown",
   "metadata": {},
   "source": [
    "---\n",
    "## I/O functions for CSV files\n",
    "\n",
    "A CSV(Comma Seperated Value) is a plain teext document in a scpecific format using commas to seperate the values. It is a usefull format for import and export datasheets divided by commas. Python has csv module to read this specific type of file format. "
   ]
  },
  {
   "cell_type": "code",
   "execution_count": null,
   "metadata": {},
   "outputs": [],
   "source": [
    "import csv\n",
    "with open('tuik.csv', mode = 'r') as file:   # opens the csv file\n",
    "    f = csv.reader(file)                     # reads the csv file\n",
    "    for line in f:\n",
    "        print(line)                          # displays lines in csv file"
   ]
  },
  {
   "cell_type": "markdown",
   "metadata": {},
   "source": [
    "### Reading a Specific Line from a File"
   ]
  },
  {
   "cell_type": "code",
   "execution_count": null,
   "metadata": {},
   "outputs": [],
   "source": [
    "line_number = 2  # define a specific line number\n",
    "\n",
    "with open(\"Hello.txt\", 'r') as file:\n",
    "    current_line = 1\n",
    "    for line in file:\n",
    "        if current_line == line_number:\n",
    "            print(line, \"written in line number\", line_number)\n",
    "            break\n",
    "        current_line += 1"
   ]
  },
  {
   "cell_type": "code",
   "execution_count": null,
   "metadata": {},
   "outputs": [],
   "source": [
    "# using linecache module and getline() method to select a specific line \n",
    "\n",
    "import linecache\n",
    "\n",
    "line = linecache.getline(\"Hello.txt\", 2) # filename and line number defined\n",
    "print (line)\n"
   ]
  },
  {
   "cell_type": "markdown",
   "metadata": {},
   "source": [
    "---\n",
    "## Merge txt files\n",
    "\n",
    "Python has a module _shutil_ for merging two text files and store in a new one."
   ]
  },
  {
   "cell_type": "code",
   "execution_count": null,
   "metadata": {},
   "outputs": [],
   "source": [
    "import shutil\n",
    "   \n",
    "file_1 = (r'Hello.txt') \n",
    "file_2 = (r'write.txt') \n",
    "  \n",
    "merged = input(\"Merged file name is: \") \n",
    "print() \n",
    "  \n",
    "with open(merged, \"w\") as nfile: \n",
    "  \n",
    "    for f in [file_1, file_2]: \n",
    "        with open(f, \"r\") as file: \n",
    "            shutil.copyfileobj(file, nfile) \n",
    "  \n",
    "print(\"\\n MERGED !\") \n",
    "print(\"View it?? (y / n): \") \n",
    "\n",
    "view = input()    # will read the user input and checks the answer\n",
    "if view == 'n': \n",
    "    exit() \n",
    "else: \n",
    "    print() \n",
    "    f = open(merged, 'r')\n",
    "    print(f.read()) \n",
    "    f.close() "
   ]
  },
  {
   "cell_type": "code",
   "execution_count": null,
   "metadata": {},
   "outputs": [],
   "source": [
    "with open('Hello.txt', 'r') as reader, open('write.txt', 'w') as writer:\n",
    "    m_file = reader.readlines()\n",
    "    print( m_file )\n",
    "    \n",
    "    new_content = list(reversed(m_file))\n",
    "    print( new_content)"
   ]
  },
  {
   "cell_type": "markdown",
   "metadata": {},
   "source": [
    "---\n",
    "## I/O functions with ZIP files \n",
    "\n",
    "ZIP file is a single file which includes one or more compressed files. ZIP reduces the storage requirements and improves the file transfer speed."
   ]
  },
  {
   "cell_type": "code",
   "execution_count": null,
   "metadata": {},
   "outputs": [],
   "source": [
    "from zipfile import ZipFile   # the module to study with zip files\n",
    "\n",
    "with ZipFile('Data_Input/narrow2.zip','w') as z:\n",
    "    z.write('Data_Input/Kusma-GyadiBridge_Nepal.png')\n",
    "    z.printdir()       # print content of the zip file\n",
    "#    z.extractall()     # extracts all the files    "
   ]
  },
  {
   "cell_type": "code",
   "execution_count": null,
   "metadata": {},
   "outputs": [],
   "source": [
    "#f = \"narrow.zip\"\n",
    "with ZipFile('Data_Input/narrow2.zip', 'r') as zipfile:\n",
    "    zipfile.printdir()       # print content of the zip file\n",
    "    zipfile.extractall()     # extracts all the files"
   ]
  },
  {
   "cell_type": "markdown",
   "metadata": {},
   "source": [
    "---\n",
    "## I/O functions with Dictionaries"
   ]
  },
  {
   "cell_type": "code",
   "execution_count": null,
   "metadata": {},
   "outputs": [],
   "source": [
    "# Lets convert a text file into a dictionary\n",
    "\n",
    "with open('civil_abb.txt', 'r') as r:\n",
    "    print(repr(r.readline()))"
   ]
  },
  {
   "cell_type": "code",
   "execution_count": null,
   "metadata": {},
   "outputs": [],
   "source": [
    "f = open('civil_abb.txt', 'r')\n",
    "answer = {}       # create an empty dictionary\n",
    "for line in f:\n",
    "    key, val = line.strip().split('-')\n",
    "    answer[key.strip()] = val.strip()\n",
    "\n",
    "f.close()"
   ]
  },
  {
   "cell_type": "code",
   "execution_count": null,
   "metadata": {},
   "outputs": [],
   "source": [
    "print(answer)\n",
    "#print(key)\n",
    "#print(val)"
   ]
  },
  {
   "cell_type": "code",
   "execution_count": null,
   "metadata": {},
   "outputs": [],
   "source": [
    "answer.values   # it is a dictionary"
   ]
  },
  {
   "cell_type": "markdown",
   "metadata": {},
   "source": [
    "#### _A dictionary file can be saved as .csv, .json or .txt_"
   ]
  },
  {
   "cell_type": "code",
   "execution_count": null,
   "metadata": {},
   "outputs": [],
   "source": [
    "# save as CSV file\n",
    "\n",
    "import csv\n",
    "\n",
    "with open(\"civil_abb.txt\", \"r\") as r:           # read from txt file\n",
    "    reader = csv.reader(r, delimiter=\"-\")\n",
    "    lines = list(reader)\n",
    "\n",
    "with open(\"civil_abb_out.csv\", \"w\") as w:       # write to a csv file with delimeter \",\"\n",
    "    writer = csv.writer(w, delimiter=\",\")\n",
    "    writer.writerows(lines)\n",
    "\n",
    "with open('civil_abb_out.csv', mode = 'r') as file:   # reads the csv file\n",
    "    f = csv.reader(file)                       \n",
    "    for line in f:\n",
    "        print(line) "
   ]
  },
  {
   "cell_type": "code",
   "execution_count": null,
   "metadata": {},
   "outputs": [],
   "source": [
    "# save as JSON file\n",
    "\n",
    "import json\n",
    "\n",
    "json.dump( answer, open( \"civil_abb_out.json\", 'w' ) )    # Serialize data into file\n",
    "\n",
    "json.load( open( \"civil_abb_out.json\" ) )     # read from file"
   ]
  },
  {
   "cell_type": "markdown",
   "metadata": {},
   "source": [
    "---\n",
    "## JSON for structural data save\n",
    "\n",
    "JSON (JavaScript Object Notation) is a popular data interchangable format. It is a script made of text in a programming language. Python has **_json_** package which is similar with dictionary. This package converts Python objects to JSON objects. So it takes two parameters as dictionary and indent. JSON supports strings, numbers, nested lists so on, which may be very complex datasets. Encoding the JSON is called _serialization_."
   ]
  },
  {
   "cell_type": "code",
   "execution_count": null,
   "metadata": {},
   "outputs": [],
   "source": [
    "import json \n",
    "  \n",
    "dictionary ={                                    # create a dictionary to convert json object\n",
    "    \"LectureCodes\" : [\"GTU_CE103\",\"GTU_CE105\",\"GTU_CE247\"], \n",
    "    \"Avg_StudentPerLecture\" : 75, \n",
    "    \"NumberOfClass\" : 12, \n",
    "    \"Students\" : [{\"Name/Surname\" : 'Braced Frame',\"age\" : 19}, {\"Name/Surname\" : 'Axial Load',\"age\" : 18}]}\n",
    "  \n",
    "json_file = json.dumps(dictionary, indent = 1)  # converted pythton object to json object (Serializing json)\n",
    "with open(\"class.json\", \"w\") as outfile:         # write a sample json file\n",
    "    outfile.write(json_file) "
   ]
  },
  {
   "cell_type": "code",
   "execution_count": null,
   "metadata": {},
   "outputs": [],
   "source": [
    "# to read a json object file\n",
    "\n",
    "with open('class.json', 'r') as j_file:      # open json file\n",
    "    json_file = json.load(j_file)            # reads from jsaon file\n",
    "\n",
    "print(json_file)"
   ]
  },
  {
   "cell_type": "code",
   "execution_count": null,
   "metadata": {},
   "outputs": [],
   "source": [
    "json.dumps(json_file)"
   ]
  },
  {
   "cell_type": "code",
   "execution_count": null,
   "metadata": {},
   "outputs": [],
   "source": [
    "json.dumps(json_file, indent=2)   # insert whitespaces "
   ]
  },
  {
   "cell_type": "markdown",
   "metadata": {},
   "source": [
    "---\n",
    "## Download files from web \n",
    "\n",
    "Python has a _requests_ module ti download files from web pages by using URL."
   ]
  },
  {
   "cell_type": "code",
   "execution_count": null,
   "metadata": {},
   "outputs": [],
   "source": [
    "import requests "
   ]
  },
  {
   "cell_type": "code",
   "execution_count": null,
   "metadata": {},
   "outputs": [],
   "source": [
    "# lets import an image from GTU Civil Engineering Dept. web page\n",
    "img = requests.get(\"https://travel.home.sndimg.com/content/dam/images/travel/fullset/2014/09/08/de/worlds-most-extreme-101-07.rend.hgtvcom.966.644.suffix/1491584797931.jpeg\")\n",
    "\n",
    "with open(\"Kusma-GyadiBridge_Nepal.png\",'wb') as f:\n",
    "    f.write(img.content)            # writes content of the url in to a file"
   ]
  },
  {
   "cell_type": "code",
   "execution_count": null,
   "metadata": {},
   "outputs": [],
   "source": [
    "# lets import data in csv format\n",
    "import csv\n",
    "import requests\n",
    "\n",
    "csv_url = 'https://www1.ncdc.noaa.gov/pub/data/cdo/samples/PRECIP_HLY_sample_csv.csv'\n",
    "ali = requests.get(csv_url, stream=True)  # to get the raw socket response from the server\n",
    "\n",
    "with open('eventlist.csv','wb') as w :\n",
    "    w.write(ali.content)"
   ]
  },
  {
   "cell_type": "code",
   "execution_count": null,
   "metadata": {},
   "outputs": [],
   "source": [
    "veli = ali.content  # read the content of the server’s response\n",
    "veli"
   ]
  },
  {
   "cell_type": "code",
   "execution_count": null,
   "metadata": {},
   "outputs": [],
   "source": [
    "ali.headers"
   ]
  },
  {
   "cell_type": "code",
   "execution_count": null,
   "metadata": {},
   "outputs": [],
   "source": [
    "ali.apparent_encoding"
   ]
  },
  {
   "cell_type": "code",
   "execution_count": null,
   "metadata": {},
   "outputs": [],
   "source": [
    "elli = veli.decode('utf-8')\n",
    "print(elli)\n",
    "\n",
    "\n",
    "json_file = json.dumps(elli, indent = 2)  # converted pythton object to json object (Serializing json)\n",
    "with open(\"eventlist.json\", \"w\") as outfile:         # write a sample json file\n",
    "    outfile.write(json_file) "
   ]
  },
  {
   "cell_type": "code",
   "execution_count": null,
   "metadata": {},
   "outputs": [],
   "source": [
    "# read specific columns or raws from file\n",
    "\n",
    "with open('eventlist.csv','r') as r:\n",
    "    for line in r:\n",
    "        raws = line.split(',')\n",
    "        #raws = csv.reader(r)\n",
    "        print(raws[5])           # prints 5th column"
   ]
  },
  {
   "cell_type": "markdown",
   "metadata": {},
   "source": [
    "### download JSON file from web"
   ]
  },
  {
   "cell_type": "code",
   "execution_count": null,
   "metadata": {},
   "outputs": [],
   "source": [
    "get_json = requests.get('https://support.oneskyapp.com/hc/en-us/article_attachments/202761727/example_2.json', stream=True)\n",
    "exp2 = json.loads(get_json.text)\n",
    "type(exp2)\n",
    "exp2"
   ]
  },
  {
   "cell_type": "markdown",
   "metadata": {},
   "source": [
    "---\n",
    "## Homework #9\n",
    "\n",
    "Please follow the instructions below for your first Earthquake Catalog Analysis assignment. \n",
    "\n",
    "   1. Visit the \"http://koeri.boun.edu.tr/sismo/liste.txt\" web page and _\"download\"_ the recent earthquake catalog list in CSV format. \n",
    "   2. Read columns of your file and draw two figures by using \"subplot module\"; one for **\"Time vs ML magnitude\"**, and another one for **\"Time vs Depth(km)\"**.\n",
    "   3. Define a **function** in Python to calculate **\"Distance(km)\"** column for each earthquake._(Distance will be calculated between Gebze Technical University Civil Engineering Department building location (40.8068°N 29.3555°E) and earthquake location in km.)_\n",
    "   4. BONUS : Try to plot a map of the seismic activity _(Seismicity Map)_.\n",
    "\n",
    "\n",
    "*** PS : Do not forget to upload your answer sheets to CE_103 Class on MS Teams.\n"
   ]
  }
 ],
 "metadata": {
  "kernelspec": {
   "display_name": "Python 3",
   "language": "python",
   "name": "python3"
  },
  "language_info": {
   "codemirror_mode": {
    "name": "ipython",
    "version": 3
   },
   "file_extension": ".py",
   "mimetype": "text/x-python",
   "name": "python",
   "nbconvert_exporter": "python",
   "pygments_lexer": "ipython3",
   "version": "3.6.8"
  }
 },
 "nbformat": 4,
 "nbformat_minor": 4
}
