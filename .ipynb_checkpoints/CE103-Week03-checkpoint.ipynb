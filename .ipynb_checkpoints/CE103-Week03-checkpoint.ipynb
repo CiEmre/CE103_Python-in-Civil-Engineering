{
 "cells": [
  {
   "cell_type": "markdown",
   "metadata": {},
   "source": [
    "### CE 103- INTRODUCTION TO COMPUTERS and PROGRAMMING"
   ]
  },
  {
   "cell_type": "markdown",
   "metadata": {},
   "source": [
    "### _The topics of the week !_\n",
    "\n",
    "- Numerical Routines **_NumPy_**\n",
    "    - Array\n",
    "    - Multidimensional Arrays\n",
    "    - Matrix manipulations"
   ]
  },
  {
   "cell_type": "markdown",
   "metadata": {},
   "source": [
    "#### List VS Array\n",
    "\n",
    "We learned about both lists and arrays last week, but, what is the difference between them? When to use a Python array or a list? \n",
    "\n",
    "Python has lots of data structures with different functions and features. Lists, tuples, dictionaries are some of the built-in data structures that you don't have to import. But array is an additional data structure that has to be imported as a module or an extra package. To use an array, it has to be imported from the **_NumPy package_**.\n",
    "\n",
    "![](./Figures/array_vs_list.png)\n",
    "\n",
    "So, if you have a relatively short sequence of items and you don't plan to use any mathematical operation, its better to use list, on the other hans, if you have a very long data sequence (in same datatype) **_NumPy package_** will be very useful and highly recommended even if you plan to use mathemetical operations. \n",
    "\n",
    "## Array in Python \n",
    "\n",
    "Array is a python module which defines the data structure holds a fix number of items with same datatypes. An array stores items which called \"elements\" and each location of an element described by \"index\". \"Element\" and \"index\" are important terms to understand the concept of array. \n",
    "\n",
    "To use arrays in Python, we need to import **_NumPy package_**. Because array is not a fundamental data type like strings, integer etc., we need to import the  **_NumPy package_** and declare an array. An array referred as _\"ndarray\"_ is shorthand for N-dimensional array which is with any number of dimension.\n"
   ]
  },
  {
   "cell_type": "markdown",
   "metadata": {},
   "source": [
    "---\n",
    "# NumPy\n",
    "\n",
    "NumPy (Numerical Python) is an open source Python library which is very useful general-purpose array-processing package and a core of the scientific and engineering computing ecosystem of Python. It includes multidimensional array object, broadcasting functions, linear algebra calculations, Fourier transform and more. The NumPy library also contains matrix data structures and can be used to perform mathematical operations on arrays. NumPy can allow a wide variety of datatypes speedly. \n",
    "\n",
    "If you have Python you can install NumPy as below;\n",
    "\n",
    "<font color=blue>conda install numpy<font>\n",
    "\n",
    ",or,\n",
    "\n",
    "<font color=blue>pip install numpy<font>\n",
    "\n",
    "#### **How to import NumPy ?**\n",
    "\n",
    "We prefer NumPy because it provides an enormous range of fast and efficient mathematical operations. \n",
    "Not only for NumPy but also for all packages or libraries in Python, you need to use statement **_\"import\"_** to make them accessible.  "
   ]
  },
  {
   "cell_type": "code",
   "execution_count": 539,
   "metadata": {},
   "outputs": [],
   "source": [
    "import numpy as np"
   ]
  },
  {
   "cell_type": "markdown",
   "metadata": {},
   "source": [
    ": np stands for an abbreviation in order to keep code standardized and make it easier to understand and faster to run. "
   ]
  },
  {
   "cell_type": "code",
   "execution_count": 540,
   "metadata": {},
   "outputs": [],
   "source": [
    "# the command below will bring you to the reference documentation;\n",
    "\n",
    "help(np.array)"
   ]
  },
  {
   "cell_type": "markdown",
   "metadata": {},
   "source": [
    "---\n",
    "\n",
    "### **NumPy Array**\n",
    "\n",
    "The NumPy array can be defined as a grid of elements which can be indexed in various ways. An array in Numpy is a table of element with same type which indexed by tuple of positive integers. Tuple of integers giving the size of the array is the _shape_ of an array. Dimensions of a NumPy array is called _axes_. The number of axes in array called _rank_. A _vector_ is an array with a single column, a _matrix_ is an array with multiple columns."
   ]
  },
  {
   "cell_type": "code",
   "execution_count": 482,
   "metadata": {
    "collapsed": true,
    "jupyter": {
     "outputs_hidden": true
    }
   },
   "outputs": [
    {
     "name": "stdout",
     "output_type": "stream",
     "text": [
      "<class 'numpy.ndarray'>\n",
      "2\n",
      "int64\n",
      "(3,)\n",
      "1\n",
      "3\n"
     ]
    }
   ],
   "source": [
    "import numpy as np\n",
    "\n",
    "a = np.array([1,2,3])  # this is a rank = 1 array\n",
    "\n",
    "print(type(a))   # print type of the array\n",
    "print(a[1])      # indexing elements of array\n",
    "print(a.dtype)   # print type of elements in array\n",
    "print(a.shape)   # print shape of array\n",
    "print(a.ndim)    # print number of dimensions (axes)\n",
    "print(a.size)    # print size of the array"
   ]
  },
  {
   "cell_type": "code",
   "execution_count": 483,
   "metadata": {
    "collapsed": true,
    "jupyter": {
     "outputs_hidden": true
    }
   },
   "outputs": [
    {
     "name": "stdout",
     "output_type": "stream",
     "text": [
      "(2, 3)\n",
      "6\n"
     ]
    }
   ],
   "source": [
    "import numpy as np\n",
    "b = np.array([[1,2,3],[4,5,6]])\n",
    "print(b.shape)\n",
    "print(b[1,2])"
   ]
  },
  {
   "cell_type": "markdown",
   "metadata": {},
   "source": [
    "---\n",
    "#### **_Specify a numpy array with fuctions;_**"
   ]
  },
  {
   "cell_type": "code",
   "execution_count": 484,
   "metadata": {
    "collapsed": true,
    "jupyter": {
     "outputs_hidden": true
    }
   },
   "outputs": [
    {
     "name": "stdout",
     "output_type": "stream",
     "text": [
      "[[0. 0. 0. 0.]\n",
      " [0. 0. 0. 0.]\n",
      " [0. 0. 0. 0.]] \n",
      "\n",
      "[[1. 1. 1.]\n",
      " [1. 1. 1.]] \n",
      "\n",
      "[[0.84030669 0.99304365 0.99819033]] \n",
      "\n",
      "[[5 5]\n",
      " [5 5]\n",
      " [5 5]] \n",
      "\n"
     ]
    }
   ],
   "source": [
    "import numpy as np\n",
    "\n",
    "a= np.zeros((3,4))     # create a matrix of zeros\n",
    "print(a,'\\n')\n",
    "\n",
    "b = np.ones((2,3))     # create a matrix of ones\n",
    "print(b,'\\n')\n",
    "\n",
    "c = np.random.random((1,3))  # create a matrix of random numbers\n",
    "print(c,'\\n')\n",
    "\n",
    "d = np.full((3,2),5)  # create a constant matrix\n",
    "print(d,'\\n')"
   ]
  },
  {
   "cell_type": "code",
   "execution_count": 485,
   "metadata": {
    "collapsed": true,
    "jupyter": {
     "outputs_hidden": true
    }
   },
   "outputs": [
    {
     "name": "stdout",
     "output_type": "stream",
     "text": [
      "[[1. 0. 0.]\n",
      " [0. 1. 0.]\n",
      " [0. 0. 1.]] \n",
      "\n"
     ]
    }
   ],
   "source": [
    "e = np.eye(3)        # create an identity matrix\n",
    "print(e,'\\n')"
   ]
  },
  {
   "cell_type": "code",
   "execution_count": 486,
   "metadata": {
    "collapsed": true,
    "jupyter": {
     "outputs_hidden": true
    }
   },
   "outputs": [
    {
     "name": "stdout",
     "output_type": "stream",
     "text": [
      "[[ 1.  3.  5.]\n",
      " [ 7.  9. 11.]] \n",
      "\n"
     ]
    }
   ],
   "source": [
    "f = np.array([[1, 3, 5], [7, 9, 11]], dtype = 'float')  # create array from a float type list \n",
    "print(f,'\\n')"
   ]
  },
  {
   "cell_type": "code",
   "execution_count": 487,
   "metadata": {
    "collapsed": true,
    "jupyter": {
     "outputs_hidden": true
    }
   },
   "outputs": [
    {
     "name": "stdout",
     "output_type": "stream",
     "text": [
      "[0 1 2 3 4 5 6 7 8]\n",
      "[ 1  3  5  7  9 11] \n",
      "\n"
     ]
    }
   ],
   "source": [
    "gg = np.arange(9)\n",
    "print(gg)\n",
    "g = np.arange(1, 12, 2)  # create an array of integers between 1 to 12 with steps 2 (first #, last #, step size)\n",
    "print(g,'\\n')"
   ]
  },
  {
   "cell_type": "code",
   "execution_count": 488,
   "metadata": {
    "collapsed": true,
    "jupyter": {
     "outputs_hidden": true
    }
   },
   "outputs": [
    {
     "name": "stdout",
     "output_type": "stream",
     "text": [
      "[ 5.   7.5 10.  12.5 15. ] \n",
      "\n"
     ]
    }
   ],
   "source": [
    "h = np.linspace(5, 15, 5) # create an array with 5 items between 5 to 15 \n",
    "print(h,'\\n') "
   ]
  },
  {
   "cell_type": "code",
   "execution_count": 489,
   "metadata": {
    "collapsed": true,
    "jupyter": {
     "outputs_hidden": true
    }
   },
   "outputs": [
    {
     "name": "stdout",
     "output_type": "stream",
     "text": [
      "[[0.94608722 0.33056072 0.50815197 0.42840906]\n",
      " [0.69638841 0.35487764 0.82663057 0.70424716]\n",
      " [0.88761895 0.08600517 0.75076953 0.06813477]\n",
      " [0.11230799 0.32154756 0.70482116 0.16154017]] \n",
      "\n",
      "[[[[0.94608722 0.33056072]\n",
      "   [0.50815197 0.42840906]]\n",
      "\n",
      "  [[0.69638841 0.35487764]\n",
      "   [0.82663057 0.70424716]]]\n",
      "\n",
      "\n",
      " [[[0.88761895 0.08600517]\n",
      "   [0.75076953 0.06813477]]\n",
      "\n",
      "  [[0.11230799 0.32154756]\n",
      "   [0.70482116 0.16154017]]]] \n",
      "\n"
     ]
    }
   ],
   "source": [
    "i = np.random.random((4,4))\n",
    "print(i,'\\n')\n",
    "\n",
    "j = i.reshape(2,2,2,2)\n",
    "print(j,'\\n')  "
   ]
  },
  {
   "cell_type": "markdown",
   "metadata": {},
   "source": [
    "---\n",
    "#### **_more array functions;_**\n"
   ]
  },
  {
   "cell_type": "code",
   "execution_count": 490,
   "metadata": {
    "collapsed": true,
    "jupyter": {
     "outputs_hidden": true
    }
   },
   "outputs": [
    {
     "name": "stdout",
     "output_type": "stream",
     "text": [
      "[4 2 1 5 3 8 8]\n",
      "[ 4  2 55  1  5  3]\n",
      "[4 2 1 3]\n",
      "[1 2 3 4 5]\n"
     ]
    }
   ],
   "source": [
    "a = np.array([4, 2, 1, 5, 3])\n",
    "print(np.append(a, [8,8]))         # Appends values to end of array\n",
    "print(np.insert(a, 2, 55))         # Inserts values into array before index 2 (array,2,values)\n",
    "print(np.delete(a, 3, axis = 0))   # delete row on index 3 of array\n",
    "print(np.sort(a))"
   ]
  },
  {
   "cell_type": "code",
   "execution_count": 491,
   "metadata": {
    "collapsed": true,
    "jupyter": {
     "outputs_hidden": true
    }
   },
   "outputs": [
    {
     "name": "stdout",
     "output_type": "stream",
     "text": [
      "[False False False False]\n",
      "[False False  True  True]\n",
      "False\n"
     ]
    }
   ],
   "source": [
    "# comparison of two different array\n",
    "\n",
    "a = np.array([1, 2, 3, 4])\n",
    "b = np.array([5, 6, 1, 2])\n",
    "\n",
    "print(a == b)\n",
    "print(a > b)\n",
    "\n",
    "# ,or, array-wise comparison can be used as below;\n",
    "print(np.array_equal(a, b))\n"
   ]
  },
  {
   "cell_type": "markdown",
   "metadata": {},
   "source": [
    "---\n",
    "#### **_shape and resize array;_**\n"
   ]
  },
  {
   "cell_type": "code",
   "execution_count": 492,
   "metadata": {
    "collapsed": true,
    "jupyter": {
     "outputs_hidden": true
    }
   },
   "outputs": [
    {
     "name": "stdout",
     "output_type": "stream",
     "text": [
      "[[0.35070109 0.10206894 0.44660153 0.80520969]\n",
      " [0.61254075 0.0641514  0.4271081  0.72191871]\n",
      " [0.5768439  0.17575743 0.33684102 0.78753307]\n",
      " [0.85104751 0.66889787 0.67785567 0.23522294]]\n",
      "2\n",
      "16\n"
     ]
    },
    {
     "data": {
      "text/plain": [
       "(4, 4)"
      ]
     },
     "execution_count": 492,
     "metadata": {},
     "output_type": "execute_result"
    }
   ],
   "source": [
    "i = np.random.random([4,4])\n",
    "print(i)\n",
    "\n",
    "i.ndim           # gives number of dimensions of the array \n",
    "print(i.ndim)\n",
    "\n",
    "print(np.size(i))  # gives total number of elements of the array\n",
    "np.shape(i)        # gives the shape of the array\n",
    "\n"
   ]
  },
  {
   "cell_type": "code",
   "execution_count": 493,
   "metadata": {
    "collapsed": true,
    "jupyter": {
     "outputs_hidden": true
    }
   },
   "outputs": [
    {
     "name": "stdout",
     "output_type": "stream",
     "text": [
      "[[1 2]\n",
      " [3 4]\n",
      " [5 6]\n",
      " [7 8]]\n"
     ]
    }
   ],
   "source": [
    "a = np.array([1, 2, 3, 4, 5, 6, 7, 8])\n",
    "\n",
    "# b = a.reshape(3,2) # gives a new shape to an array with same items, both arrays should have same number of elements.\n",
    "b = a.reshape(4, 2)\n",
    "print(b)"
   ]
  },
  {
   "cell_type": "markdown",
   "metadata": {},
   "source": [
    "---\n",
    "#### **_Array indexing;_**\n",
    "\n",
    "Arrays can be multidimensional, we should specify a slice for each dimension, just like in list operations."
   ]
  },
  {
   "cell_type": "code",
   "execution_count": 494,
   "metadata": {
    "collapsed": true,
    "jupyter": {
     "outputs_hidden": true
    }
   },
   "outputs": [
    {
     "name": "stdout",
     "output_type": "stream",
     "text": [
      "[[1 3 5]\n",
      " [2 4 6]\n",
      " [7 8 9]] \n",
      "\n",
      "[[1 3]\n",
      " [2 4]] \n",
      "\n"
     ]
    }
   ],
   "source": [
    "a = np.array([[1,3,5],[2,4,6],[7,8,9]])\n",
    "print(a,'\\n')\n",
    "\n",
    "b = a[:2,0:2]  # pull out the subarray of first 2 raws and columns 0 to 1\n",
    "print(b,'\\n')\n"
   ]
  },
  {
   "cell_type": "code",
   "execution_count": 495,
   "metadata": {
    "collapsed": true,
    "jupyter": {
     "outputs_hidden": true
    }
   },
   "outputs": [
    {
     "name": "stdout",
     "output_type": "stream",
     "text": [
      "6\n"
     ]
    }
   ],
   "source": [
    "print(a[1,2])  # element value at 1th row, 2nd column "
   ]
  },
  {
   "cell_type": "code",
   "execution_count": 496,
   "metadata": {
    "collapsed": true,
    "jupyter": {
     "outputs_hidden": true
    }
   },
   "outputs": [
    {
     "name": "stdout",
     "output_type": "stream",
     "text": [
      "[[ 1 11]\n",
      " [ 2  4]]\n"
     ]
    }
   ],
   "source": [
    "b[0,1] = 11\n",
    "print(b)"
   ]
  },
  {
   "cell_type": "code",
   "execution_count": 497,
   "metadata": {
    "collapsed": true,
    "jupyter": {
     "outputs_hidden": true
    }
   },
   "outputs": [
    {
     "name": "stdout",
     "output_type": "stream",
     "text": [
      "[1 3 5] [[2 4 6]]\n",
      "[3 4 8] [[3]\n",
      " [4]\n",
      " [8]]\n"
     ]
    }
   ],
   "source": [
    "a = np.array([[1,3,5],[2,4,6],[7,8,9]])\n",
    "\n",
    "row1 = a[0, :]   \n",
    "row2 = a[1:2, :]\n",
    "print(row1, row2)\n",
    "\n",
    "col1 = a[:,1]\n",
    "col2 = a[:, 1:2]\n",
    "print(col1, col2)"
   ]
  },
  {
   "cell_type": "code",
   "execution_count": 498,
   "metadata": {
    "collapsed": true,
    "jupyter": {
     "outputs_hidden": true
    }
   },
   "outputs": [
    {
     "name": "stdout",
     "output_type": "stream",
     "text": [
      "[1 4 7]\n",
      "[1 4 7]\n",
      "[3 3]\n",
      "[3 3]\n"
     ]
    }
   ],
   "source": [
    "a = np.array([[1,3,5],[2,4,6],[7,8,9]])\n",
    "\n",
    "print(a[[0, 1, 2], [0, 1, 0]])\n",
    "print(np.array([a[0, 0], a[1, 1], a[2, 0]]))\n",
    "\n",
    "print(a[[0, 0], [1, 1]]) \n",
    "print(np.array([a[0, 1], a[0, 1]])) "
   ]
  },
  {
   "cell_type": "code",
   "execution_count": 499,
   "metadata": {
    "collapsed": true,
    "jupyter": {
     "outputs_hidden": true
    }
   },
   "outputs": [
    {
     "name": "stdout",
     "output_type": "stream",
     "text": [
      "[[1 3 5]\n",
      " [2 4 6]\n",
      " [7 8 9]]\n",
      "[[11 13 15]\n",
      " [12 14 16]\n",
      " [17 18 19]]\n"
     ]
    }
   ],
   "source": [
    "a = np.array([[1,3,5],[2,4,6],[7,8,9]])\n",
    "\n",
    "b = np.array([0, 2, 0, 1]) \n",
    "print(a[np.arange(3)]) \n",
    "\n",
    "a[np.arange(3)] += 10\n",
    "print( a )\n"
   ]
  },
  {
   "cell_type": "code",
   "execution_count": 500,
   "metadata": {
    "collapsed": true,
    "jupyter": {
     "outputs_hidden": true
    }
   },
   "outputs": [
    {
     "data": {
      "text/plain": [
       "array([[11, 13, 15],\n",
       "       [12, 14, 16]])"
      ]
     },
     "execution_count": 500,
     "metadata": {},
     "output_type": "execute_result"
    }
   ],
   "source": [
    "a[0:2]"
   ]
  },
  {
   "cell_type": "code",
   "execution_count": 501,
   "metadata": {
    "collapsed": true,
    "jupyter": {
     "outputs_hidden": true
    }
   },
   "outputs": [
    {
     "name": "stdout",
     "output_type": "stream",
     "text": [
      "[[ True  True]\n",
      " [ True False]\n",
      " [False  True]]\n"
     ]
    }
   ],
   "source": [
    "a = np.array([[3,4], [7, 1], [2, 4]])\n",
    "bool_idx = (a > 2)\n",
    "print(bool_idx) \n",
    "\n",
    "#print(a[bool_idx])   # print the values \"true\" for the condition a > 2\n",
    "#print(a[a > 2])"
   ]
  },
  {
   "cell_type": "markdown",
   "metadata": {},
   "source": [
    "---\n",
    "#### **_Datatypes_**\n",
    "\n",
    "\"dtype' command can be used to identify the type of an array"
   ]
  },
  {
   "cell_type": "code",
   "execution_count": 502,
   "metadata": {
    "collapsed": true,
    "jupyter": {
     "outputs_hidden": true
    }
   },
   "outputs": [
    {
     "name": "stdout",
     "output_type": "stream",
     "text": [
      "int64\n"
     ]
    }
   ],
   "source": [
    "a = np.array([1,2])\n",
    "print(a.dtype)         # Returns type of elements in array"
   ]
  },
  {
   "cell_type": "code",
   "execution_count": 503,
   "metadata": {
    "collapsed": true,
    "jupyter": {
     "outputs_hidden": true
    }
   },
   "outputs": [
    {
     "name": "stdout",
     "output_type": "stream",
     "text": [
      "float64\n"
     ]
    }
   ],
   "source": [
    "a = np.array([1.0, 2.0]) \n",
    "print(a.dtype)           "
   ]
  },
  {
   "cell_type": "code",
   "execution_count": 504,
   "metadata": {
    "collapsed": true,
    "jupyter": {
     "outputs_hidden": true
    }
   },
   "outputs": [
    {
     "name": "stdout",
     "output_type": "stream",
     "text": [
      "int64\n"
     ]
    }
   ],
   "source": [
    "a = np.array([1, 2], dtype=np.int64) \n",
    "print(a.dtype)                    "
   ]
  },
  {
   "cell_type": "code",
   "execution_count": 505,
   "metadata": {
    "collapsed": true,
    "jupyter": {
     "outputs_hidden": true
    }
   },
   "outputs": [
    {
     "data": {
      "text/plain": [
       "[1, 2]"
      ]
     },
     "execution_count": 505,
     "metadata": {},
     "output_type": "execute_result"
    }
   ],
   "source": [
    "a = np.array([1,2])\n",
    "a.tolist()           # Convert array to a Python list"
   ]
  },
  {
   "cell_type": "code",
   "execution_count": 506,
   "metadata": {
    "collapsed": true,
    "jupyter": {
     "outputs_hidden": true
    }
   },
   "outputs": [
    {
     "name": "stdout",
     "output_type": "stream",
     "text": [
      " ones(shape, dtype=None, order='C')\n",
      "\n",
      "Return a new array of given shape and type, filled with ones.\n",
      "\n",
      "Parameters\n",
      "----------\n",
      "shape : int or sequence of ints\n",
      "    Shape of the new array, e.g., ``(2, 3)`` or ``2``.\n",
      "dtype : data-type, optional\n",
      "    The desired data-type for the array, e.g., `numpy.int8`.  Default is\n",
      "    `numpy.float64`.\n",
      "order : {'C', 'F'}, optional\n",
      "    Whether to store multidimensional data in C- or Fortran-contiguous\n",
      "    (row- or column-wise) order in memory.\n",
      "\n",
      "Returns\n",
      "-------\n",
      "out : ndarray\n",
      "    Array of ones with the given shape, dtype, and order.\n",
      "\n",
      "See Also\n",
      "--------\n",
      "zeros, ones_like\n",
      "\n",
      "Examples\n",
      "--------\n",
      ">>> np.ones(5)\n",
      "array([ 1.,  1.,  1.,  1.,  1.])\n",
      "\n",
      ">>> np.ones((5,), dtype=int)\n",
      "array([1, 1, 1, 1, 1])\n",
      "\n",
      ">>> np.ones((2, 1))\n",
      "array([[ 1.],\n",
      "       [ 1.]])\n",
      "\n",
      ">>> s = (2,2)\n",
      ">>> np.ones(s)\n",
      "array([[ 1.,  1.],\n",
      "       [ 1.,  1.]])\n"
     ]
    }
   ],
   "source": [
    "np.info(np.ones)    # View documentation for \"ones\" properties"
   ]
  },
  {
   "cell_type": "markdown",
   "metadata": {},
   "source": [
    "---\n",
    "#### **_Basic array operations_**\n",
    "\n",
    "_Addition, subtraction, multiplication, division, etc._"
   ]
  },
  {
   "cell_type": "code",
   "execution_count": 507,
   "metadata": {
    "collapsed": true,
    "jupyter": {
     "outputs_hidden": true
    }
   },
   "outputs": [
    {
     "name": "stdout",
     "output_type": "stream",
     "text": [
      "[[0.2716638  0.37122724]] [1. 1.]\n"
     ]
    },
    {
     "data": {
      "text/plain": [
       "array([[0.6791595, 0.9280681]])"
      ]
     },
     "execution_count": 507,
     "metadata": {},
     "output_type": "execute_result"
    }
   ],
   "source": [
    "# Lets define two different arrays; \n",
    "\n",
    "data = np.random.random([1,2])\n",
    "ones = np.ones(2)\n",
    "\n",
    "print(data, ones)\n",
    "\n",
    "data + ones\n",
    "data - ones\n",
    "data * ones\n",
    "data / data\n",
    "\n",
    "#Operation between a vector and a scalar is allowed.\n",
    "\n",
    "data * 2.5"
   ]
  },
  {
   "cell_type": "markdown",
   "metadata": {},
   "source": [
    " _Maxinum, minimum, sum, mean, product, standard deviation, etc._"
   ]
  },
  {
   "cell_type": "code",
   "execution_count": 508,
   "metadata": {
    "collapsed": true,
    "jupyter": {
     "outputs_hidden": true
    }
   },
   "outputs": [
    {
     "name": "stdout",
     "output_type": "stream",
     "text": [
      "[0.40492836 0.9573896  0.43001095]\n"
     ]
    }
   ],
   "source": [
    "a = np.random.random([3,])\n",
    "print(a)"
   ]
  },
  {
   "cell_type": "code",
   "execution_count": 509,
   "metadata": {
    "collapsed": true,
    "jupyter": {
     "outputs_hidden": true
    }
   },
   "outputs": [
    {
     "name": "stdout",
     "output_type": "stream",
     "text": [
      "[[0.3782329  0.46582747 0.24685883]\n",
      " [0.79606347 0.88884586 0.9596028 ]]\n"
     ]
    }
   ],
   "source": [
    "b = np.random.rand(2,3)      # 2x3 array of random floats between 0–1\n",
    "print(b)"
   ]
  },
  {
   "cell_type": "code",
   "execution_count": 510,
   "metadata": {
    "collapsed": true,
    "jupyter": {
     "outputs_hidden": true
    }
   },
   "outputs": [
    {
     "name": "stdout",
     "output_type": "stream",
     "text": [
      "[[57.00457651]\n",
      " [61.25205296]\n",
      " [56.240308  ]]\n"
     ]
    }
   ],
   "source": [
    "c = np.random.rand(3,1)*100  # 3x1 array of random floats between 0–100\n",
    "print(c)"
   ]
  },
  {
   "cell_type": "code",
   "execution_count": 511,
   "metadata": {
    "collapsed": true,
    "jupyter": {
     "outputs_hidden": true
    }
   },
   "outputs": [
    {
     "name": "stdout",
     "output_type": "stream",
     "text": [
      "[[12  1  6 10  7]\n",
      " [ 6 10  2 13  7]\n",
      " [ 3 11  4  6 11]]\n"
     ]
    }
   ],
   "source": [
    "d = np.random.randint(14,size=(3,5))    # 3x5 array with random ints between 0–4\n",
    "print(d)"
   ]
  },
  {
   "cell_type": "code",
   "execution_count": 512,
   "metadata": {
    "collapsed": true,
    "jupyter": {
     "outputs_hidden": true
    }
   },
   "outputs": [
    {
     "name": "stdout",
     "output_type": "stream",
     "text": [
      "0.9573895980333219\n",
      "0.40492836357266027\n",
      "1.7923289095961619\n"
     ]
    }
   ],
   "source": [
    "print(a.max())     # find the maximum value element in array\n",
    "print(a.min())     # fint the minimum value element in array\n",
    "print(a.sum())     # find the sum of the elements in array"
   ]
  },
  {
   "cell_type": "code",
   "execution_count": 513,
   "metadata": {
    "collapsed": true,
    "jupyter": {
     "outputs_hidden": true
    }
   },
   "outputs": [
    {
     "name": "stdout",
     "output_type": "stream",
     "text": [
      "[4 5 8 6]\n",
      "[-2 -1  2  0]\n",
      "[ 2  4 10  6]\n",
      "[ 1  4 25  9]\n",
      "[ 2  4 10  6]\n"
     ]
    }
   ],
   "source": [
    "# we can use arithmetic operators to do element-wise operation on array;\n",
    "\n",
    "a = np.array([1, 2, 5, 3]) \n",
    "  \n",
    "print ( a+3)     # add a scalar to each element of array \n",
    "print (a-3)      # subtract a scalar from each element of array \n",
    "print (a*2)      # multiply each element by 2 \n",
    "print (a**2)     # calculate square of each element  \n",
    "\n",
    "# we can also multiply array by a scalar as below;\n",
    "a *= 2\n",
    "print (a) # modify existing array \n",
    "  "
   ]
  },
  {
   "cell_type": "code",
   "execution_count": 514,
   "metadata": {
    "collapsed": true,
    "jupyter": {
     "outputs_hidden": true
    }
   },
   "outputs": [
    {
     "name": "stdout",
     "output_type": "stream",
     "text": [
      "[[ 3  7]\n",
      " [11 15]]\n",
      "[[ 3  7]\n",
      " [11 15]]\n",
      "[[20 28]\n",
      " [52 76]]\n"
     ]
    }
   ],
   "source": [
    "# we can use arithmetic operators to do operation on array;\n",
    "  \n",
    "a = np.array([[1, 3], [5, 7]]) \n",
    "b = np.array([[2, 4], [6, 8]]) \n",
    "   \n",
    "print (a + b)       # add arrays with eachother\n",
    "print (a + b)       # multiply arrays (elementwise multiplication)\n",
    "print (a.dot(b))    # matrix multiplication "
   ]
  },
  {
   "cell_type": "code",
   "execution_count": 515,
   "metadata": {
    "collapsed": true,
    "jupyter": {
     "outputs_hidden": true
    }
   },
   "outputs": [
    {
     "name": "stdout",
     "output_type": "stream",
     "text": [
      "[-1  0  1  2  3  4  4  5  6]\n",
      "[[ 1  2  4]\n",
      " [ 3  4  6]\n",
      " [-1  0  5]]\n"
     ]
    }
   ],
   "source": [
    "#we can also sort a NumPy array by np.sort;\n",
    "\n",
    "a = np.array([[1, 4, 2], \n",
    "                 [3, 4, 6], \n",
    "              [0, -1, 5]])\n",
    "\n",
    "print(np.sort(a, axis = None))  # Array elements in sorted orde\n",
    "    \n",
    "print(np.sort(a, axis = 1))    # sort array row-wise"
   ]
  },
  {
   "cell_type": "code",
   "execution_count": 516,
   "metadata": {
    "collapsed": true,
    "jupyter": {
     "outputs_hidden": true
    }
   },
   "outputs": [
    {
     "name": "stdout",
     "output_type": "stream",
     "text": [
      "[ 6.12323400e-17  1.00000000e+00 -9.99998732e-01]\n",
      "[ 2.71828183  7.3890561  20.08553692]\n",
      "[1.         1.41421356 1.73205081]\n",
      "[0.         0.69314718 1.09861229]\n",
      "\n",
      "Original array:\n",
      " [[1 2 3]\n",
      " [3 4 5]\n",
      " [9 6 0]]\n",
      "Transpose of array:\n",
      " [[1 3 9]\n",
      " [2 4 6]\n",
      " [3 5 0]]\n"
     ]
    }
   ],
   "source": [
    "# NumPy also provides mathematical functions such as sin, cos, exp, transpose etc.\n",
    "\n",
    "a = np.array([np.pi/2, np.pi*2, 3.14]) # create an array of sine values \n",
    "print (np.cos(a)) \n",
    "  \n",
    "b = np.array([1, 2, 3]) # exponential values \n",
    "print (np.exp(b)) \n",
    "  \n",
    "print(np.sqrt(b)) # square root of array values\n",
    "print(np.log(b))  # logarithmic values of array elements\n",
    "\n",
    "b = np.array([[1, 2, 3], [3, 4, 5], [9, 6, 0]]) \n",
    "print (\"\\nOriginal array:\\n\", b) \n",
    "print (\"Transpose of array:\\n\", b.T) # transpose of array "
   ]
  },
  {
   "cell_type": "code",
   "execution_count": 517,
   "metadata": {
    "collapsed": true,
    "jupyter": {
     "outputs_hidden": true
    }
   },
   "outputs": [
    {
     "name": "stdout",
     "output_type": "stream",
     "text": [
      "[0 1 2 3 4 5 6 7 8 9]\n"
     ]
    }
   ],
   "source": [
    "# we can find unique element in an array\n",
    "\n",
    "a = np.array([1, 1, 2, 3, 4, 5, 6, 7, 2, 3, 1, 4, 8, 9, 0])\n",
    "print(np.unique(a))\n"
   ]
  },
  {
   "cell_type": "markdown",
   "metadata": {},
   "source": [
    "---\n",
    "#### **_Matrix operations;_**"
   ]
  },
  {
   "cell_type": "code",
   "execution_count": 518,
   "metadata": {
    "collapsed": true,
    "jupyter": {
     "outputs_hidden": true
    }
   },
   "outputs": [
    {
     "name": "stdout",
     "output_type": "stream",
     "text": [
      "[[1 2]\n",
      " [3 4]]\n",
      "2\n",
      "[[3 4]]\n",
      "[1 3]\n"
     ]
    }
   ],
   "source": [
    "# Lets define an array which we can manipulate matrices also;\n",
    "\n",
    "a = np.array([[1,2],[3,4]])\n",
    "print(a)\n",
    "\n",
    "print(a[0,1])\n",
    "print(a[1::])\n",
    "print(a[:,0])"
   ]
  },
  {
   "cell_type": "code",
   "execution_count": 519,
   "metadata": {
    "collapsed": true,
    "jupyter": {
     "outputs_hidden": true
    }
   },
   "outputs": [
    {
     "name": "stdout",
     "output_type": "stream",
     "text": [
      "4\n",
      "1\n",
      "10\n"
     ]
    }
   ],
   "source": [
    "print(a.max())     # find the maximum value element in matrix\n",
    "print(a.min())     # fint the minimum value element in matrix\n",
    "print(a.sum())     # find the sum of the elements in matrix"
   ]
  },
  {
   "cell_type": "markdown",
   "metadata": {},
   "source": [
    "![](./Figures/array-sum.png)"
   ]
  },
  {
   "cell_type": "code",
   "execution_count": 520,
   "metadata": {
    "collapsed": true,
    "jupyter": {
     "outputs_hidden": true
    }
   },
   "outputs": [
    {
     "name": "stdout",
     "output_type": "stream",
     "text": [
      "[4 6]\n",
      "[3 7]\n"
     ]
    }
   ],
   "source": [
    "print(a.sum(axis=0))  # column sums\n",
    "print(a.sum(axis=1))  # row sums"
   ]
  },
  {
   "cell_type": "code",
   "execution_count": 521,
   "metadata": {
    "collapsed": true,
    "jupyter": {
     "outputs_hidden": true
    }
   },
   "outputs": [
    {
     "name": "stdout",
     "output_type": "stream",
     "text": [
      "[3 4]\n",
      "[2 4]\n"
     ]
    }
   ],
   "source": [
    "# find maximum and minimum rows or columns of the matrix\n",
    "print(a.max(axis=0))\n",
    "print(a.max(axis=1))"
   ]
  },
  {
   "cell_type": "code",
   "execution_count": 522,
   "metadata": {
    "collapsed": true,
    "jupyter": {
     "outputs_hidden": true
    }
   },
   "outputs": [
    {
     "name": "stdout",
     "output_type": "stream",
     "text": [
      "[[0.14285635 0.00261717 0.31180399]\n",
      " [0.42464343 0.5585037  0.69318662]]\n",
      "[[1. 1. 1.]\n",
      " [1. 1. 1.]]\n",
      "[[1.14285635 1.00261717 1.31180399]\n",
      " [1.42464343 1.5585037  1.69318662]]\n"
     ]
    }
   ],
   "source": [
    "# Two matrices at same size can be multiply or add with each other\n",
    "\n",
    "data = np.random.random([2,3])\n",
    "ones = np.ones([2,3])\n",
    "\n",
    "print(data)\n",
    "print(ones)\n",
    "\n",
    "a = data + ones\n",
    "print(a)\n",
    "\n",
    "# Arithmetic operations on matrices with different size con do if only one matrix thas only one column or row\n",
    "\n",
    "b = data + np.ones([1,3])\n"
   ]
  },
  {
   "cell_type": "markdown",
   "metadata": {},
   "source": [
    "For matrix multiplications use the **_dot_** function to compute inner product of vector instead of **' * '** that unlike MATLAB. **_dot_** product can also be used for a vector by a matrix or matrix by matrix multiplications."
   ]
  },
  {
   "cell_type": "code",
   "execution_count": 523,
   "metadata": {
    "collapsed": true,
    "jupyter": {
     "outputs_hidden": true
    }
   },
   "outputs": [
    {
     "name": "stdout",
     "output_type": "stream",
     "text": [
      "10\n",
      "10\n",
      "[10 22]\n",
      "[10 22]\n",
      "[[19 22]\n",
      " [43 50]]\n",
      "[[19 22]\n",
      " [43 50]]\n"
     ]
    }
   ],
   "source": [
    "x = np.array([[1,2],[3,4]])\n",
    "y = np.array([[5,6],[7,8]])\n",
    "\n",
    "v = np.array([2,4])\n",
    "w = np.array([1,2])\n",
    "\n",
    "print(v.dot(w))         # Inner product of vectors\n",
    "print(np.dot(v, w))\n",
    "\n",
    "print(x.dot(v))         # Matrix / vector product\n",
    "print(np.dot(x, v))\n",
    "\n",
    "print(x.dot(y))         # Matrix / matrix product\n",
    "print(np.dot(x, y))"
   ]
  },
  {
   "cell_type": "code",
   "execution_count": 524,
   "metadata": {
    "collapsed": true,
    "jupyter": {
     "outputs_hidden": true
    }
   },
   "outputs": [],
   "source": [
    "# to transpose a matrix, use the T attribute of an array object:\n",
    "\n",
    "a = np.array([[1,2], [3,4]])"
   ]
  },
  {
   "cell_type": "code",
   "execution_count": 525,
   "metadata": {
    "collapsed": true,
    "jupyter": {
     "outputs_hidden": true
    }
   },
   "outputs": [
    {
     "name": "stdout",
     "output_type": "stream",
     "text": [
      "[[1 2]\n",
      " [3 4]] \n",
      "\n"
     ]
    }
   ],
   "source": [
    "print(a, '\\n') "
   ]
  },
  {
   "cell_type": "code",
   "execution_count": 526,
   "metadata": {
    "collapsed": true,
    "jupyter": {
     "outputs_hidden": true
    }
   },
   "outputs": [
    {
     "name": "stdout",
     "output_type": "stream",
     "text": [
      "[[1 3]\n",
      " [2 4]] \n",
      "\n"
     ]
    }
   ],
   "source": [
    "print(a.T,'\\n')   "
   ]
  },
  {
   "cell_type": "code",
   "execution_count": 527,
   "metadata": {
    "collapsed": true,
    "jupyter": {
     "outputs_hidden": true
    }
   },
   "outputs": [
    {
     "name": "stdout",
     "output_type": "stream",
     "text": [
      "[ 0  6 12 18 24]\n",
      "[ 1  7 13 19]\n",
      "[ 5 11 17 23]\n",
      "[10 16 22]\n"
     ]
    }
   ],
   "source": [
    "a = np.arange(25).reshape(5,5)\n",
    "\n",
    "print(a.diagonal())\n",
    "print(a.diagonal(1))\n",
    "print(a.diagonal(-1))\n",
    "print(a.diagonal(-2))"
   ]
  },
  {
   "cell_type": "code",
   "execution_count": 528,
   "metadata": {
    "collapsed": true,
    "jupyter": {
     "outputs_hidden": true
    }
   },
   "outputs": [
    {
     "name": "stdout",
     "output_type": "stream",
     "text": [
      "[[ 0  1  2  3  4]\n",
      " [ 5  6  7  8  9]\n",
      " [10 11 12 13 14]]\n"
     ]
    }
   ],
   "source": [
    "a = np.arange(15).reshape(3,5)\n",
    "\n",
    "print(a)\n"
   ]
  },
  {
   "cell_type": "code",
   "execution_count": 529,
   "metadata": {
    "collapsed": true,
    "jupyter": {
     "outputs_hidden": true
    }
   },
   "outputs": [
    {
     "name": "stdout",
     "output_type": "stream",
     "text": [
      "[[1]\n",
      " [2]\n",
      " [3]\n",
      " [4]]\n"
     ]
    },
    {
     "data": {
      "text/plain": [
       "array([[1, 3],\n",
       "       [2, 4]])"
      ]
     },
     "execution_count": 529,
     "metadata": {},
     "output_type": "execute_result"
    }
   ],
   "source": [
    "a = np.array([[1,2], [3,4]])\n",
    "\n",
    "print(np.reshape(a,[4,1]))  # shape refers to the array size or dimension size\n",
    "np.transpose(a)"
   ]
  },
  {
   "cell_type": "markdown",
   "metadata": {},
   "source": [
    "---\n",
    "#### **_N-deminsional arrays_**\n",
    "\n",
    "![](./Figures/3d-array.png)\n",
    "\n",
    "Not only 3D, it may be in 4 or more dimensional array. N-dimensional arrays are widely used in Machine Learning algorithms. Here is an example of 3D NumPy array defined below;"
   ]
  },
  {
   "cell_type": "code",
   "execution_count": 530,
   "metadata": {
    "collapsed": true,
    "jupyter": {
     "outputs_hidden": true
    }
   },
   "outputs": [
    {
     "name": "stdout",
     "output_type": "stream",
     "text": [
      "[[[0.39570033 0.45442201]\n",
      "  [0.48645826 0.43808904]\n",
      "  [0.42316404 0.83818979]]\n",
      "\n",
      " [[0.32425814 0.06970726]\n",
      "  [0.7385326  0.68882506]\n",
      "  [0.18288533 0.91079792]]\n",
      "\n",
      " [[0.10811512 0.55515685]\n",
      "  [0.11926944 0.77703459]\n",
      "  [0.27290666 0.9276458 ]]\n",
      "\n",
      " [[0.83496198 0.44538112]\n",
      "  [0.78472587 0.19536607]\n",
      "  [0.46140665 0.77831207]]]\n"
     ]
    }
   ],
   "source": [
    "a = np.random.random((4,3,2))  # refers 3D array with 3 values as 4,3,2.\n",
    "\n",
    "print(a)"
   ]
  },
  {
   "cell_type": "code",
   "execution_count": 531,
   "metadata": {
    "collapsed": true,
    "jupyter": {
     "outputs_hidden": true
    }
   },
   "outputs": [
    {
     "data": {
      "text/plain": [
       "0.2656804792204241"
      ]
     },
     "execution_count": 531,
     "metadata": {},
     "output_type": "execute_result"
    }
   ],
   "source": [
    "a.std()   # calculates the standart deviation of elemnts in array"
   ]
  },
  {
   "cell_type": "code",
   "execution_count": 532,
   "metadata": {
    "collapsed": true,
    "jupyter": {
     "outputs_hidden": true
    }
   },
   "outputs": [
    {
     "data": {
      "text/plain": [
       "0.07058611703879421"
      ]
     },
     "execution_count": 532,
     "metadata": {},
     "output_type": "execute_result"
    }
   ],
   "source": [
    "a.var()   # calculates variance of the array"
   ]
  },
  {
   "cell_type": "code",
   "execution_count": 533,
   "metadata": {
    "collapsed": true,
    "jupyter": {
     "outputs_hidden": true
    }
   },
   "outputs": [
    {
     "data": {
      "text/plain": [
       "0.5088046658254868"
      ]
     },
     "execution_count": 533,
     "metadata": {},
     "output_type": "execute_result"
    }
   ],
   "source": [
    "a.mean()   # calculates the average value of array"
   ]
  },
  {
   "cell_type": "code",
   "execution_count": 534,
   "metadata": {
    "collapsed": true,
    "jupyter": {
     "outputs_hidden": true
    }
   },
   "outputs": [
    {
     "data": {
      "text/plain": [
       "array([ 0.39570033,  0.85012234,  1.3365806 ,  1.77466963,  2.19783367,\n",
       "        3.03602346,  3.3602816 ,  3.42998886,  4.16852146,  4.85734652,\n",
       "        5.04023185,  5.95102977,  6.05914489,  6.61430174,  6.73357118,\n",
       "        7.51060577,  7.78351243,  8.71115823,  9.54612021,  9.99150133,\n",
       "       10.7762272 , 10.97159326, 11.43299991, 12.21131198])"
      ]
     },
     "execution_count": 534,
     "metadata": {},
     "output_type": "execute_result"
    }
   ],
   "source": [
    "a.cumsum()  # calculates the cumulative summation of elements in the array"
   ]
  },
  {
   "cell_type": "code",
   "execution_count": 535,
   "metadata": {
    "collapsed": true,
    "jupyter": {
     "outputs_hidden": true
    }
   },
   "outputs": [
    {
     "name": "stdout",
     "output_type": "stream",
     "text": [
      "[[2 3 4]\n",
      " [1 4 3]\n",
      " [2 5 6]]\n"
     ]
    }
   ],
   "source": [
    "a = np.array([[2,3,4],[1,4,3],[2,5,6]])\n",
    "print(a)"
   ]
  },
  {
   "cell_type": "code",
   "execution_count": 536,
   "metadata": {
    "collapsed": true,
    "jupyter": {
     "outputs_hidden": true
    }
   },
   "outputs": [
    {
     "data": {
      "text/plain": [
       "array([[2, 3, 4],\n",
       "       [1, 4, 3],\n",
       "       [2, 5, 6]])"
      ]
     },
     "execution_count": 536,
     "metadata": {},
     "output_type": "execute_result"
    }
   ],
   "source": [
    "a.conj()    # gives the conjugate of elements of the array"
   ]
  },
  {
   "cell_type": "code",
   "execution_count": 537,
   "metadata": {
    "collapsed": true,
    "jupyter": {
     "outputs_hidden": true
    }
   },
   "outputs": [
    {
     "data": {
      "text/plain": [
       "2"
      ]
     },
     "execution_count": 537,
     "metadata": {},
     "output_type": "execute_result"
    }
   ],
   "source": [
    "a.trace(-2)  # perform a summation of each diagonal."
   ]
  },
  {
   "cell_type": "code",
   "execution_count": 538,
   "metadata": {
    "collapsed": true,
    "jupyter": {
     "outputs_hidden": true
    }
   },
   "outputs": [
    {
     "data": {
      "text/plain": [
       "array([-0.3125+0.46351241j, -0.3125-0.46351241j])"
      ]
     },
     "execution_count": 538,
     "metadata": {},
     "output_type": "execute_result"
    }
   ],
   "source": [
    "a = np.array([3.2, 2, 1])\n",
    "np.roots(a)"
   ]
  },
  {
   "cell_type": "markdown",
   "metadata": {},
   "source": [
    "---"
   ]
  },
  {
   "cell_type": "markdown",
   "metadata": {},
   "source": [
    "## Homework #3\n",
    "---\n",
    "Please solve the deterministic linear equation ( A x = B ) given below by using NumPy. You can represent the problem as matrices and apply matrix algebra to solve it.\n",
    "\n",
    "_2p + 3q + r = 9_\n",
    "\n",
    "_p + 5q + 2r = 11_\n",
    "\n",
    "_p = 6_\n",
    "\n",
    "Formulize the problem with matrices and solve it for the vector x.\n",
    "\n",
    "PS: Do not forget to upload your pdf files to http://derskutusu.gtu.edu.tr/\n",
    "\n",
    "---"
   ]
  },
  {
   "cell_type": "code",
   "execution_count": null,
   "metadata": {
    "collapsed": true,
    "jupyter": {
     "outputs_hidden": true
    }
   },
   "outputs": [],
   "source": []
  }
 ],
 "metadata": {
  "kernelspec": {
   "display_name": "Python 3",
   "language": "python",
   "name": "python3"
  },
  "language_info": {
   "codemirror_mode": {
    "name": "ipython",
    "version": 3
   },
   "file_extension": ".py",
   "mimetype": "text/x-python",
   "name": "python",
   "nbconvert_exporter": "python",
   "pygments_lexer": "ipython3",
   "version": "3.6.8"
  }
 },
 "nbformat": 4,
 "nbformat_minor": 4
}
