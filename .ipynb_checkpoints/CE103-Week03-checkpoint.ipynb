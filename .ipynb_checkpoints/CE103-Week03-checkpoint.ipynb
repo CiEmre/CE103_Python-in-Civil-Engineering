{
 "cells": [
  {
   "cell_type": "markdown",
   "metadata": {},
   "source": [
    "### CE 103- INTRODUCTION TO COMPUTERS and PROGRAMMING"
   ]
  },
  {
   "cell_type": "markdown",
   "metadata": {},
   "source": [
    "### _The topics of the week !_\n",
    "\n",
    "- Numerical Routines **_NumPy_**\n",
    "    - Array\n",
    "    - Multidimensional Arrays\n",
    "    - Matrix manipulations"
   ]
  },
  {
   "cell_type": "markdown",
   "metadata": {},
   "source": [
    "#### List VS Array\n",
    "\n",
    "We learned about both lists and arrays last week, but, what is the difference between them? When to use a Python array or a list? \n",
    "\n",
    "Python has lots of data structures with different functions and features. Lists, tuples, dictionaries are some of the built-in data structures that you don't have to import. But array is an additional data structure that has to be imported as a module or an extra package. To use an array, it has to be imported from the **_NumPy package_**.\n",
    "\n",
    "![](./Figures/array_vs_list.png)\n",
    "\n",
    "So, if you have a relatively short sequence of items and you don't plan to use any mathematical operation, its better to use list, on the other hans, if you have a very long data sequence (in same datatype) **_NumPy package_** will be very useful and highly recommended even if you plan to use mathemetical operations. \n",
    "\n",
    "## Array in Python \n",
    "\n",
    "Array is a python module which defines the data structure holds a fix number of items with same datatypes. An array stores items which called \"elements\" and each location of an element described by \"index\". \"Element\" and \"index\" are important terms to understand the concept of array. \n",
    "\n",
    "To use arrays in Python, we need to import **_NumPy package_**. Because array is not a fundamental data type like strings, integer etc., we need to import the  **_NumPy package_** and declare an array. An array referred as _\"ndarray\"_ is shorthand for N-dimensional array which is with any number of dimension.\n"
   ]
  },
  {
   "cell_type": "markdown",
   "metadata": {},
   "source": [
    "---\n",
    "# NumPy\n",
    "\n",
    "NumPy (Numerical Python) is an open source Python library which is very useful general-purpose array-processing package and a core of the scientific and engineering computing ecosystem of Python. It includes multidimensional array object, broadcasting functions, linear algebra calculations, Fourier transform and more. The NumPy library also contains matrix data structures and can be used to perform mathematical operations on arrays. NumPy can allow a wide variety of datatypes speedly. \n",
    "\n",
    "If you have Python you can install NumPy as below;\n",
    "\n",
    "<font color=blue>conda install numpy<font>\n",
    "\n",
    ",or,\n",
    "\n",
    "<font color=blue>pip install numpy<font>\n",
    "\n",
    "#### **How to import NumPy ?**\n",
    "\n",
    "We prefer NumPy because it provides an enormous range of fast and efficient mathematical operations. \n",
    "Not only for NumPy but also for all packages or libraries in Python, you need to use statement **_\"import\"_** to make them accessible.  "
   ]
  },
  {
   "cell_type": "code",
   "execution_count": 539,
   "metadata": {},
   "outputs": [],
   "source": [
    "import numpy as np"
   ]
  },
  {
   "cell_type": "markdown",
   "metadata": {},
   "source": [
    ": np stands for an abbreviation in order to keep code standardized and make it easier to understand and faster to run. "
   ]
  },
  {
   "cell_type": "markdown",
   "metadata": {},
   "source": [
    "The command below will bring you to the reference documentation;\n",
    "\n",
    "<font color=green>help(<font><font color=black>np.<font><font color=blue>array<font><font color=green>)<font>"
   ]
  },
  {
   "cell_type": "markdown",
   "metadata": {},
   "source": [
    "---\n",
    "\n",
    "### **NumPy Array**\n",
    "\n",
    "The NumPy array can be defined as a grid of elements which can be indexed in various ways. An array in Numpy is a table of element with same type which indexed by tuple of positive integers. Tuple of integers giving the size of the array is the _shape_ of an array. Dimensions of a NumPy array is called _axes_. The number of axes in array called _rank_. A _vector_ is an array with a single column, a _matrix_ is an array with multiple columns."
   ]
  },
  {
   "cell_type": "code",
   "execution_count": 541,
   "metadata": {},
   "outputs": [],
   "source": [
    "import numpy as np\n",
    "\n",
    "a = np.array([1,2,3])  # this is a rank = 1 array\n",
    "\n",
    "print(type(a))   # print type of the array\n",
    "print(a[1])      # indexing elements of array\n",
    "print(a.dtype)   # print type of elements in array\n",
    "print(a.shape)   # print shape of array\n",
    "print(a.ndim)    # print number of dimensions (axes)\n",
    "print(a.size)    # print size of the array"
   ]
  },
  {
   "cell_type": "code",
   "execution_count": 542,
   "metadata": {},
   "outputs": [],
   "source": [
    "import numpy as np\n",
    "b = np.array([[1,2,3],[4,5,6]])\n",
    "print(b.shape)\n",
    "print(b[1,2])"
   ]
  },
  {
   "cell_type": "markdown",
   "metadata": {},
   "source": [
    "---\n",
    "#### **_Specify a numpy array with fuctions;_**"
   ]
  },
  {
   "cell_type": "code",
   "execution_count": 543,
   "metadata": {},
   "outputs": [],
   "source": [
    "import numpy as np\n",
    "\n",
    "a= np.zeros((3,4))     # create a matrix of zeros\n",
    "print(a,'\\n')\n",
    "\n",
    "b = np.ones((2,3))     # create a matrix of ones\n",
    "print(b,'\\n')\n",
    "\n",
    "c = np.random.random((1,3))  # create a matrix of random numbers\n",
    "print(c,'\\n')\n",
    "\n",
    "d = np.full((3,2),5)  # create a constant matrix\n",
    "print(d,'\\n')"
   ]
  },
  {
   "cell_type": "code",
   "execution_count": 577,
   "metadata": {},
   "outputs": [],
   "source": [
    "e = np.eye(3)        # create an identity matrix\n",
    "print(e,'\\n')"
   ]
  },
  {
   "cell_type": "code",
   "execution_count": 578,
   "metadata": {},
   "outputs": [],
   "source": [
    "f = np.array([[1, 3, 5], [7, 9, 11]], dtype = 'float')  # create array from a float type list \n",
    "print(f,'\\n')"
   ]
  },
  {
   "cell_type": "code",
   "execution_count": 579,
   "metadata": {},
   "outputs": [],
   "source": [
    "gg = np.arange(9)\n",
    "print(gg)\n",
    "g = np.arange(1, 12, 2)  # create an array of integers between 1 to 12 with steps 2 (first #, last #, step size)\n",
    "print(g,'\\n')"
   ]
  },
  {
   "cell_type": "code",
   "execution_count": 580,
   "metadata": {},
   "outputs": [],
   "source": [
    "h = np.linspace(5, 15, 5) # create an array with 5 items between 5 to 15 \n",
    "print(h,'\\n') "
   ]
  },
  {
   "cell_type": "code",
   "execution_count": 581,
   "metadata": {},
   "outputs": [],
   "source": [
    "i = np.random.random((4,4))\n",
    "print(i,'\\n')\n",
    "\n",
    "j = i.reshape(2,2,2,2)\n",
    "print(j,'\\n')  "
   ]
  },
  {
   "cell_type": "markdown",
   "metadata": {},
   "source": [
    "---\n",
    "#### **_more array functions;_**\n"
   ]
  },
  {
   "cell_type": "code",
   "execution_count": 582,
   "metadata": {},
   "outputs": [],
   "source": [
    "a = np.array([4, 2, 1, 5, 3])\n",
    "print(np.append(a, [8,8]))         # Appends values to end of array\n",
    "print(np.insert(a, 2, 55))         # Inserts values into array before index 2 (array,2,values)\n",
    "print(np.delete(a, 3, axis = 0))   # delete row on index 3 of array\n",
    "print(np.sort(a))"
   ]
  },
  {
   "cell_type": "code",
   "execution_count": 583,
   "metadata": {},
   "outputs": [],
   "source": [
    "# comparison of two different array\n",
    "\n",
    "a = np.array([1, 2, 3, 4])\n",
    "b = np.array([5, 6, 1, 2])\n",
    "\n",
    "print(a == b)\n",
    "print(a > b)\n",
    "\n",
    "# ,or, array-wise comparison can be used as below;\n",
    "print(np.array_equal(a, b))\n"
   ]
  },
  {
   "cell_type": "markdown",
   "metadata": {},
   "source": [
    "---\n",
    "#### **_shape and resize array;_**\n"
   ]
  },
  {
   "cell_type": "code",
   "execution_count": 584,
   "metadata": {},
   "outputs": [
    {
     "data": {
      "text/plain": [
       "(4, 4)"
      ]
     },
     "execution_count": 584,
     "metadata": {},
     "output_type": "execute_result"
    }
   ],
   "source": [
    "i = np.random.random([4,4])\n",
    "print(i)\n",
    "\n",
    "i.ndim           # gives number of dimensions of the array \n",
    "print(i.ndim)\n",
    "\n",
    "print(np.size(i))  # gives total number of elements of the array\n",
    "np.shape(i)        # gives the shape of the array\n",
    "\n"
   ]
  },
  {
   "cell_type": "code",
   "execution_count": 585,
   "metadata": {},
   "outputs": [],
   "source": [
    "a = np.array([1, 2, 3, 4, 5, 6, 7, 8])\n",
    "\n",
    "# b = a.reshape(3,2) # gives a new shape to an array with same items, both arrays should have same number of elements.\n",
    "b = a.reshape(4, 2)\n",
    "print(b)"
   ]
  },
  {
   "cell_type": "markdown",
   "metadata": {},
   "source": [
    "---\n",
    "#### **_Array indexing;_**\n",
    "\n",
    "Arrays can be multidimensional, we should specify a slice for each dimension, just like in list operations."
   ]
  },
  {
   "cell_type": "code",
   "execution_count": 586,
   "metadata": {},
   "outputs": [],
   "source": [
    "a = np.array([[1,3,5],[2,4,6],[7,8,9]])\n",
    "print(a,'\\n')\n",
    "\n",
    "b = a[:2,0:2]  # pull out the subarray of first 2 raws and columns 0 to 1\n",
    "print(b,'\\n')\n"
   ]
  },
  {
   "cell_type": "code",
   "execution_count": 587,
   "metadata": {},
   "outputs": [],
   "source": [
    "print(a[1,2])  # element value at 1th row, 2nd column "
   ]
  },
  {
   "cell_type": "code",
   "execution_count": 588,
   "metadata": {},
   "outputs": [],
   "source": [
    "b[0,1] = 11\n",
    "print(b)"
   ]
  },
  {
   "cell_type": "code",
   "execution_count": 589,
   "metadata": {},
   "outputs": [],
   "source": [
    "a = np.array([[1,3,5],[2,4,6],[7,8,9]])\n",
    "\n",
    "row1 = a[0, :]   \n",
    "row2 = a[1:2, :]\n",
    "print(row1, row2)\n",
    "\n",
    "col1 = a[:,1]\n",
    "col2 = a[:, 1:2]\n",
    "print(col1, col2)"
   ]
  },
  {
   "cell_type": "code",
   "execution_count": 590,
   "metadata": {},
   "outputs": [],
   "source": [
    "a = np.array([[1,3,5],[2,4,6],[7,8,9]])\n",
    "\n",
    "print(a[[0, 1, 2], [0, 1, 0]])\n",
    "print(np.array([a[0, 0], a[1, 1], a[2, 0]]))\n",
    "\n",
    "print(a[[0, 0], [1, 1]]) \n",
    "print(np.array([a[0, 1], a[0, 1]])) "
   ]
  },
  {
   "cell_type": "code",
   "execution_count": 591,
   "metadata": {},
   "outputs": [],
   "source": [
    "a = np.array([[1,3,5],[2,4,6],[7,8,9]])\n",
    "\n",
    "b = np.array([0, 2, 0, 1]) \n",
    "print(a[np.arange(3)]) \n",
    "\n",
    "a[np.arange(3)] += 10\n",
    "print( a )\n"
   ]
  },
  {
   "cell_type": "code",
   "execution_count": 592,
   "metadata": {},
   "outputs": [
    {
     "data": {
      "text/plain": [
       "array([[11, 13, 15],\n",
       "       [12, 14, 16]])"
      ]
     },
     "execution_count": 592,
     "metadata": {},
     "output_type": "execute_result"
    }
   ],
   "source": [
    "a[0:2]"
   ]
  },
  {
   "cell_type": "code",
   "execution_count": 593,
   "metadata": {},
   "outputs": [],
   "source": [
    "a = np.array([[3,4], [7, 1], [2, 4]])\n",
    "bool_idx = (a > 2)\n",
    "print(bool_idx) \n",
    "\n",
    "print(a[bool_idx])   # print the values \"true\" for the condition a > 2\n",
    "print(a[a > 2])"
   ]
  },
  {
   "cell_type": "markdown",
   "metadata": {},
   "source": [
    "---\n",
    "#### **_Datatypes_**\n",
    "\n",
    "\"dtype' command can be used to identify the type of an array"
   ]
  },
  {
   "cell_type": "code",
   "execution_count": 594,
   "metadata": {},
   "outputs": [],
   "source": [
    "a = np.array([1,2])\n",
    "print(a.dtype)         # Returns type of elements in array"
   ]
  },
  {
   "cell_type": "code",
   "execution_count": 595,
   "metadata": {},
   "outputs": [],
   "source": [
    "a = np.array([1.0, 2.0]) \n",
    "print(a.dtype)           "
   ]
  },
  {
   "cell_type": "code",
   "execution_count": 596,
   "metadata": {},
   "outputs": [],
   "source": [
    "a = np.array([1, 2], dtype=np.int64) \n",
    "print(a.dtype)                    "
   ]
  },
  {
   "cell_type": "code",
   "execution_count": 597,
   "metadata": {},
   "outputs": [
    {
     "data": {
      "text/plain": [
       "[1, 2]"
      ]
     },
     "execution_count": 597,
     "metadata": {},
     "output_type": "execute_result"
    }
   ],
   "source": [
    "a = np.array([1,2])\n",
    "a.tolist()           # Convert array to a Python list"
   ]
  },
  {
   "cell_type": "code",
   "execution_count": 631,
   "metadata": {},
   "outputs": [],
   "source": [
    "np.info(np.ones)    # View documentation for \"ones\" properties"
   ]
  },
  {
   "cell_type": "markdown",
   "metadata": {},
   "source": [
    "---\n",
    "#### **_Basic array operations_**\n",
    "\n",
    "_Addition, subtraction, multiplication, division, etc._"
   ]
  },
  {
   "cell_type": "code",
   "execution_count": 599,
   "metadata": {},
   "outputs": [
    {
     "data": {
      "text/plain": [
       "array([[0.57642296, 1.1003136 ]])"
      ]
     },
     "execution_count": 599,
     "metadata": {},
     "output_type": "execute_result"
    }
   ],
   "source": [
    "# Lets define two different arrays; \n",
    "\n",
    "data = np.random.random([1,2])\n",
    "ones = np.ones(2)\n",
    "\n",
    "print(data, ones)\n",
    "\n",
    "data + ones\n",
    "data - ones\n",
    "data * ones\n",
    "data / data\n",
    "\n",
    "#Operation between a vector and a scalar is allowed.\n",
    "\n",
    "data * 2.5"
   ]
  },
  {
   "cell_type": "markdown",
   "metadata": {},
   "source": [
    " _Maxinum, minimum, sum, mean, product, standard deviation, etc._"
   ]
  },
  {
   "cell_type": "code",
   "execution_count": 600,
   "metadata": {},
   "outputs": [
    {
     "name": "stdout",
     "output_type": "stream",
     "text": [
      "[0.08787661 0.25343105 0.29239384]\n"
     ]
    }
   ],
   "source": [
    "a = np.random.random([3,])\n",
    "print(a)"
   ]
  },
  {
   "cell_type": "code",
   "execution_count": 601,
   "metadata": {},
   "outputs": [
    {
     "name": "stdout",
     "output_type": "stream",
     "text": [
      "[[0.60448588 0.61110317 0.23501275]\n",
      " [0.09858378 0.26170206 0.25310952]]\n"
     ]
    }
   ],
   "source": [
    "b = np.random.rand(2,3)      # 2x3 array of random floats between 0–1\n",
    "print(b)"
   ]
  },
  {
   "cell_type": "code",
   "execution_count": 602,
   "metadata": {},
   "outputs": [
    {
     "name": "stdout",
     "output_type": "stream",
     "text": [
      "[[11.83298288]\n",
      " [62.42811694]\n",
      " [60.07702119]]\n"
     ]
    }
   ],
   "source": [
    "c = np.random.rand(3,1)*100  # 3x1 array of random floats between 0–100\n",
    "print(c)"
   ]
  },
  {
   "cell_type": "code",
   "execution_count": 603,
   "metadata": {},
   "outputs": [
    {
     "name": "stdout",
     "output_type": "stream",
     "text": [
      "[[ 7  1  0  5  5]\n",
      " [ 6  5  2 13  8]\n",
      " [ 5 12  5  1 12]]\n"
     ]
    }
   ],
   "source": [
    "d = np.random.randint(14,size=(3,5))    # 3x5 array with random ints between 0–4\n",
    "print(d)"
   ]
  },
  {
   "cell_type": "code",
   "execution_count": 604,
   "metadata": {},
   "outputs": [
    {
     "name": "stdout",
     "output_type": "stream",
     "text": [
      "0.29239384379142574\n",
      "0.08787661310778372\n",
      "0.6337015058300635\n"
     ]
    }
   ],
   "source": [
    "print(a.max())     # find the maximum value element in array\n",
    "print(a.min())     # fint the minimum value element in array\n",
    "print(a.sum())     # find the sum of the elements in array"
   ]
  },
  {
   "cell_type": "code",
   "execution_count": 605,
   "metadata": {},
   "outputs": [
    {
     "name": "stdout",
     "output_type": "stream",
     "text": [
      "[4 5 8 6]\n",
      "[-2 -1  2  0]\n",
      "[ 2  4 10  6]\n",
      "[ 1  4 25  9]\n",
      "[ 2  4 10  6]\n"
     ]
    }
   ],
   "source": [
    "# we can use arithmetic operators to do element-wise operation on array;\n",
    "\n",
    "a = np.array([1, 2, 5, 3]) \n",
    "  \n",
    "print ( a+3)     # add a scalar to each element of array \n",
    "print (a-3)      # subtract a scalar from each element of array \n",
    "print (a*2)      # multiply each element by 2 \n",
    "print (a**2)     # calculate square of each element  \n",
    "\n",
    "# we can also multiply array by a scalar as below;\n",
    "a *= 2\n",
    "print (a) # modify existing array \n",
    "  "
   ]
  },
  {
   "cell_type": "code",
   "execution_count": 606,
   "metadata": {},
   "outputs": [
    {
     "name": "stdout",
     "output_type": "stream",
     "text": [
      "[[ 3  7]\n",
      " [11 15]]\n",
      "[[ 3  7]\n",
      " [11 15]]\n",
      "[[20 28]\n",
      " [52 76]]\n"
     ]
    }
   ],
   "source": [
    "# we can use arithmetic operators to do operation on array;\n",
    "  \n",
    "a = np.array([[1, 3], [5, 7]]) \n",
    "b = np.array([[2, 4], [6, 8]]) \n",
    "   \n",
    "print (a + b)       # add arrays with eachother\n",
    "print (a + b)       # multiply arrays (elementwise multiplication)\n",
    "print (a.dot(b))    # matrix multiplication "
   ]
  },
  {
   "cell_type": "code",
   "execution_count": 607,
   "metadata": {},
   "outputs": [
    {
     "name": "stdout",
     "output_type": "stream",
     "text": [
      "[-1  0  1  2  3  4  4  5  6]\n",
      "[[ 1  2  4]\n",
      " [ 3  4  6]\n",
      " [-1  0  5]]\n"
     ]
    }
   ],
   "source": [
    "#we can also sort a NumPy array by np.sort;\n",
    "\n",
    "a = np.array([[1, 4, 2], \n",
    "                 [3, 4, 6], \n",
    "              [0, -1, 5]])\n",
    "\n",
    "print(np.sort(a, axis = None))  # Array elements in sorted orde\n",
    "    \n",
    "print(np.sort(a, axis = 1))    # sort array row-wise"
   ]
  },
  {
   "cell_type": "code",
   "execution_count": 632,
   "metadata": {},
   "outputs": [],
   "source": [
    "# NumPy also provides mathematical functions such as sin, cos, exp, transpose etc.\n",
    "\n",
    "a = np.array([np.pi/2, np.pi*2, 3.14]) # create an array of sine values \n",
    "print (np.cos(a)) \n",
    "  \n",
    "b = np.array([1, 2, 3]) # exponential values \n",
    "print (np.exp(b)) \n",
    "  \n",
    "print(np.sqrt(b)) # square root of array values\n",
    "print(np.log(b))  # logarithmic values of array elements\n",
    "\n",
    "b = np.array([[1, 2, 3], [3, 4, 5], [9, 6, 0]]) \n",
    "print (\"\\nOriginal array:\\n\", b) \n",
    "print (\"Transpose of array:\\n\", b.T) # transpose of array "
   ]
  },
  {
   "cell_type": "code",
   "execution_count": 609,
   "metadata": {},
   "outputs": [
    {
     "name": "stdout",
     "output_type": "stream",
     "text": [
      "[0 1 2 3 4 5 6 7 8 9]\n"
     ]
    }
   ],
   "source": [
    "# we can find unique element in an array\n",
    "\n",
    "a = np.array([1, 1, 2, 3, 4, 5, 6, 7, 2, 3, 1, 4, 8, 9, 0])\n",
    "print(np.unique(a))\n"
   ]
  },
  {
   "cell_type": "markdown",
   "metadata": {},
   "source": [
    "---\n",
    "#### **_Matrix operations;_**"
   ]
  },
  {
   "cell_type": "code",
   "execution_count": 634,
   "metadata": {},
   "outputs": [],
   "source": [
    "# Lets define an array which we can manipulate matrices also;\n",
    "\n",
    "a = np.array([[1,2],[3,4]])\n",
    "print(a)\n",
    "\n",
    "print(a[0,1])\n",
    "print(a[1::])\n",
    "print(a[:,0])"
   ]
  },
  {
   "cell_type": "code",
   "execution_count": 635,
   "metadata": {},
   "outputs": [],
   "source": [
    "print(a.max())     # find the maximum value element in matrix\n",
    "print(a.min())     # fint the minimum value element in matrix\n",
    "print(a.sum())     # find the sum of the elements in matrix"
   ]
  },
  {
   "cell_type": "markdown",
   "metadata": {},
   "source": [
    "![](./Figures/array-sum.png)"
   ]
  },
  {
   "cell_type": "code",
   "execution_count": 612,
   "metadata": {},
   "outputs": [
    {
     "name": "stdout",
     "output_type": "stream",
     "text": [
      "[4 6]\n",
      "[3 7]\n"
     ]
    }
   ],
   "source": [
    "print(a.sum(axis=0))  # column sums\n",
    "print(a.sum(axis=1))  # row sums"
   ]
  },
  {
   "cell_type": "code",
   "execution_count": 613,
   "metadata": {},
   "outputs": [
    {
     "name": "stdout",
     "output_type": "stream",
     "text": [
      "[3 4]\n",
      "[2 4]\n"
     ]
    }
   ],
   "source": [
    "# find maximum and minimum rows or columns of the matrix\n",
    "print(a.max(axis=0))\n",
    "print(a.max(axis=1))"
   ]
  },
  {
   "cell_type": "code",
   "execution_count": 636,
   "metadata": {},
   "outputs": [
    {
     "name": "stdout",
     "output_type": "stream",
     "text": [
      "[[0.85031018 0.59240982 0.58693998]\n",
      " [0.86380222 0.70032802 0.83099887]]\n",
      "[[1. 1. 1.]\n",
      " [1. 1. 1.]]\n"
     ]
    }
   ],
   "source": [
    "# Two matrices at same size can be multiply or add with each other\n",
    "\n",
    "data = np.random.random([2,3])\n",
    "ones = np.ones([2,3])\n",
    "\n",
    "print(data)\n",
    "print(ones)\n",
    "\n",
    "a = data + ones\n",
    "print(a)\n",
    "\n",
    "# Arithmetic operations on matrices with different size con do if only one matrix thas only one column or row\n",
    "\n",
    "b = data + np.ones([1,3])\n"
   ]
  },
  {
   "cell_type": "markdown",
   "metadata": {},
   "source": [
    "For matrix multiplications use the **_dot_** function to compute inner product of vector instead of **' * '** that unlike MATLAB. **_dot_** product can also be used for a vector by a matrix or matrix by matrix multiplications."
   ]
  },
  {
   "cell_type": "code",
   "execution_count": 637,
   "metadata": {},
   "outputs": [],
   "source": [
    "x = np.array([[1,2],[3,4]])\n",
    "y = np.array([[5,6],[7,8]])\n",
    "\n",
    "v = np.array([2,4])\n",
    "w = np.array([1,2])\n",
    "\n",
    "print(v.dot(w))         # Inner product of vectors\n",
    "print(np.dot(v, w))\n",
    "\n",
    "print(x.dot(v))         # Matrix / vector product\n",
    "print(np.dot(x, v))\n",
    "\n",
    "print(x.dot(y))         # Matrix / matrix product\n",
    "print(np.dot(x, y))"
   ]
  },
  {
   "cell_type": "code",
   "execution_count": 616,
   "metadata": {},
   "outputs": [],
   "source": [
    "# to transpose a matrix, use the T attribute of an array object:\n",
    "\n",
    "a = np.array([[1,2], [3,4]])"
   ]
  },
  {
   "cell_type": "code",
   "execution_count": 617,
   "metadata": {},
   "outputs": [
    {
     "name": "stdout",
     "output_type": "stream",
     "text": [
      "[[1 2]\n",
      " [3 4]] \n",
      "\n"
     ]
    }
   ],
   "source": [
    "print(a, '\\n') "
   ]
  },
  {
   "cell_type": "code",
   "execution_count": 618,
   "metadata": {},
   "outputs": [
    {
     "name": "stdout",
     "output_type": "stream",
     "text": [
      "[[1 3]\n",
      " [2 4]] \n",
      "\n"
     ]
    }
   ],
   "source": [
    "print(a.T,'\\n')   "
   ]
  },
  {
   "cell_type": "code",
   "execution_count": 619,
   "metadata": {},
   "outputs": [
    {
     "name": "stdout",
     "output_type": "stream",
     "text": [
      "[ 0  6 12 18 24]\n",
      "[ 1  7 13 19]\n",
      "[ 5 11 17 23]\n",
      "[10 16 22]\n"
     ]
    }
   ],
   "source": [
    "a = np.arange(25).reshape(5,5)\n",
    "\n",
    "print(a.diagonal())\n",
    "print(a.diagonal(1))\n",
    "print(a.diagonal(-1))\n",
    "print(a.diagonal(-2))"
   ]
  },
  {
   "cell_type": "code",
   "execution_count": 620,
   "metadata": {},
   "outputs": [
    {
     "name": "stdout",
     "output_type": "stream",
     "text": [
      "[[ 0  1  2  3  4]\n",
      " [ 5  6  7  8  9]\n",
      " [10 11 12 13 14]]\n"
     ]
    }
   ],
   "source": [
    "a = np.arange(15).reshape(3,5)\n",
    "\n",
    "print(a)\n"
   ]
  },
  {
   "cell_type": "code",
   "execution_count": 621,
   "metadata": {},
   "outputs": [
    {
     "name": "stdout",
     "output_type": "stream",
     "text": [
      "[[1]\n",
      " [2]\n",
      " [3]\n",
      " [4]]\n"
     ]
    },
    {
     "data": {
      "text/plain": [
       "array([[1, 3],\n",
       "       [2, 4]])"
      ]
     },
     "execution_count": 621,
     "metadata": {},
     "output_type": "execute_result"
    }
   ],
   "source": [
    "a = np.array([[1,2], [3,4]])\n",
    "\n",
    "print(np.reshape(a,[4,1]))  # shape refers to the array size or dimension size\n",
    "np.transpose(a)"
   ]
  },
  {
   "cell_type": "markdown",
   "metadata": {},
   "source": [
    "---\n",
    "#### **_N-deminsional arrays_**\n",
    "\n",
    "![](./Figures/3d-array.png)\n",
    "\n",
    "Not only 3D, it may be in 4 or more dimensional array. N-dimensional arrays are widely used in Machine Learning algorithms. Here is an example of 3D NumPy array defined below;"
   ]
  },
  {
   "cell_type": "code",
   "execution_count": 622,
   "metadata": {},
   "outputs": [
    {
     "name": "stdout",
     "output_type": "stream",
     "text": [
      "[[[0.89406018 0.53621239]\n",
      "  [0.90738195 0.96312734]\n",
      "  [0.78262678 0.12779878]]\n",
      "\n",
      " [[0.47268932 0.67592389]\n",
      "  [0.50619957 0.48076893]\n",
      "  [0.91702649 0.27090327]]\n",
      "\n",
      " [[0.06515115 0.48063709]\n",
      "  [0.6957881  0.22378559]\n",
      "  [0.44188    0.47354595]]\n",
      "\n",
      " [[0.43568714 0.86656121]\n",
      "  [0.81410531 0.887552  ]\n",
      "  [0.90920915 0.32635922]]]\n"
     ]
    }
   ],
   "source": [
    "a = np.random.random((4,3,2))  # refers 3D array with 3 values as 4,3,2.\n",
    "\n",
    "print(a)"
   ]
  },
  {
   "cell_type": "code",
   "execution_count": 623,
   "metadata": {},
   "outputs": [
    {
     "data": {
      "text/plain": [
       "0.2672073432266211"
      ]
     },
     "execution_count": 623,
     "metadata": {},
     "output_type": "execute_result"
    }
   ],
   "source": [
    "a.std()   # calculates the standart deviation of elemnts in array"
   ]
  },
  {
   "cell_type": "code",
   "execution_count": 624,
   "metadata": {},
   "outputs": [
    {
     "data": {
      "text/plain": [
       "0.0713997642742293"
      ]
     },
     "execution_count": 624,
     "metadata": {},
     "output_type": "execute_result"
    }
   ],
   "source": [
    "a.var()   # calculates variance of the array"
   ]
  },
  {
   "cell_type": "code",
   "execution_count": 625,
   "metadata": {},
   "outputs": [
    {
     "data": {
      "text/plain": [
       "0.5897908671639411"
      ]
     },
     "execution_count": 625,
     "metadata": {},
     "output_type": "execute_result"
    }
   ],
   "source": [
    "a.mean()   # calculates the average value of array"
   ]
  },
  {
   "cell_type": "code",
   "execution_count": 626,
   "metadata": {},
   "outputs": [
    {
     "data": {
      "text/plain": [
       "array([ 0.89406018,  1.43027257,  2.33765452,  3.30078185,  4.08340863,\n",
       "        4.21120741,  4.68389673,  5.35982062,  5.8660202 ,  6.34678913,\n",
       "        7.26381562,  7.53471889,  7.59987004,  8.08050713,  8.77629523,\n",
       "        9.00008083,  9.44196082,  9.91550677, 10.35119392, 11.21775513,\n",
       "       12.03186044, 12.91941244, 13.8286216 , 14.15498081])"
      ]
     },
     "execution_count": 626,
     "metadata": {},
     "output_type": "execute_result"
    }
   ],
   "source": [
    "a.cumsum()  # calculates the cumulative summation of elements in the array"
   ]
  },
  {
   "cell_type": "code",
   "execution_count": 627,
   "metadata": {},
   "outputs": [
    {
     "name": "stdout",
     "output_type": "stream",
     "text": [
      "[[2 3 4]\n",
      " [1 4 3]\n",
      " [2 5 6]]\n"
     ]
    }
   ],
   "source": [
    "a = np.array([[2,3,4],[1,4,3],[2,5,6]])\n",
    "print(a)"
   ]
  },
  {
   "cell_type": "code",
   "execution_count": 628,
   "metadata": {},
   "outputs": [
    {
     "data": {
      "text/plain": [
       "array([[2, 3, 4],\n",
       "       [1, 4, 3],\n",
       "       [2, 5, 6]])"
      ]
     },
     "execution_count": 628,
     "metadata": {},
     "output_type": "execute_result"
    }
   ],
   "source": [
    "a.conj()    # gives the conjugate of elements of the array"
   ]
  },
  {
   "cell_type": "code",
   "execution_count": 629,
   "metadata": {},
   "outputs": [
    {
     "data": {
      "text/plain": [
       "2"
      ]
     },
     "execution_count": 629,
     "metadata": {},
     "output_type": "execute_result"
    }
   ],
   "source": [
    "a.trace(-2)  # perform a summation of each diagonal."
   ]
  },
  {
   "cell_type": "code",
   "execution_count": 630,
   "metadata": {},
   "outputs": [
    {
     "data": {
      "text/plain": [
       "array([-0.3125+0.46351241j, -0.3125-0.46351241j])"
      ]
     },
     "execution_count": 630,
     "metadata": {},
     "output_type": "execute_result"
    }
   ],
   "source": [
    "a = np.array([3.2, 2, 1])\n",
    "np.roots(a)"
   ]
  },
  {
   "cell_type": "markdown",
   "metadata": {},
   "source": [
    "---"
   ]
  },
  {
   "cell_type": "markdown",
   "metadata": {},
   "source": [
    "## Homework #3\n",
    "---\n",
    "Please solve the deterministic linear equation ( A x = B ) given below by using NumPy. You can represent the problem as matrices and apply matrix algebra to solve it.\n",
    "\n",
    "_2p + 3q + r = 9_\n",
    "\n",
    "_p + 5q + 2r = 11_\n",
    "\n",
    "_p = 6_\n",
    "\n",
    "Formulize the problem with matrices and solve it for the vector x.\n",
    "\n",
    "PS: Do not forget to upload your pdf files to http://derskutusu.gtu.edu.tr/\n",
    "\n",
    "---"
   ]
  },
  {
   "cell_type": "code",
   "execution_count": null,
   "metadata": {
    "collapsed": true,
    "jupyter": {
     "outputs_hidden": true
    }
   },
   "outputs": [],
   "source": []
  }
 ],
 "metadata": {
  "kernelspec": {
   "display_name": "Python 3",
   "language": "python",
   "name": "python3"
  },
  "language_info": {
   "codemirror_mode": {
    "name": "ipython",
    "version": 3
   },
   "file_extension": ".py",
   "mimetype": "text/x-python",
   "name": "python",
   "nbconvert_exporter": "python",
   "pygments_lexer": "ipython3",
   "version": "3.6.8"
  }
 },
 "nbformat": 4,
 "nbformat_minor": 4
}
