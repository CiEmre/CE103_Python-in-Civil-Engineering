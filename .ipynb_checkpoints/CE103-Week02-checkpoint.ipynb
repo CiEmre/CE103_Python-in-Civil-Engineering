{
 "cells": [
  {
   "cell_type": "markdown",
   "metadata": {},
   "source": [
    "### CE 103- INTRODUCTION TO COMPUTERS and PROGRAMMING"
   ]
  },
  {
   "cell_type": "markdown",
   "metadata": {},
   "source": [
    "### _The topics of the week !_\n",
    "\n",
    "- Strings\n",
    "- Python Collections\n",
    "    - Lists     ----->  Ordered and changeable collection which allows duplicate members.\n",
    "    - Tuples    ----->  Ordered and unchangeble collection which allows duplicate members.\n",
    "    - Dictionaries -->  Unordered, changeable, indexed and single members collection.\n",
    "    - Arrays    \n",
    "   "
   ]
  },
  {
   "cell_type": "markdown",
   "metadata": {},
   "source": [
    "---"
   ]
  },
  {
   "cell_type": "markdown",
   "metadata": {},
   "source": [
    "### Crash entry to programming world of PYTHON\n",
    "\n",
    "\n",
    "Basic reference tools for Python and Notebook\n",
    "\n",
    "If you prefer to use your local Python, type the coomand below in to your _terminal window_ to run your python code.\n",
    "\n",
    "$ **<font color=green>python<font>** **<font color=red>example.py<font>**\n",
    "\n",
    ",or, \n",
    "\n",
    "if you are using notebook interface,\n",
    "\n",
    "_**<font color=orange>Shift + Enter</font>**_ --> execute cell and jump to the next one\n",
    "\n",
    "_**<font color=orange>Ctrl/Cmd + Enter</font>**_ --> execute cell and don't jump to the next cell\n",
    "\n",
    "To write outputs in to the screen or plot figures;\n",
    "\n",
    "**<font color=green>print**</font>(**<font color=red>\"Hello\"</font>**)\n",
    "\n",
    "---"
   ]
  },
  {
   "cell_type": "markdown",
   "metadata": {},
   "source": [
    "# Strings\n",
    "\n",
    "We have learned last week that Python (such as other programming languages) can be used as a calculater by using math symbols and also Numbers. \n",
    "\n",
    "#### <font color=green>!!! A string is a sequence of characters !!!</font>\n",
    "\n",
    "A character is simply a symbol. ACtually computers deal with numbers (binary), not with characters. All characters you may see on the screen are stored and manipulated as a combination of zeros (0) and ones (1), internally. Converting the character to a number is called encoding (ASCII, Unicode etc.) and the visa versa is decoding. \n",
    "\n",
    "A string is a series of Unicode characters."
   ]
  },
  {
   "cell_type": "code",
   "execution_count": 115,
   "metadata": {},
   "outputs": [],
   "source": [
    "# Python can also manipulate \"strings\". They can be adressed in single quotes ('..') or in double quotes (\"  \").\n",
    "\n",
    "iron = \"Cause if we can't protect the Earth, \"\n",
    "man = 'you can be sure we will avenge it'\n",
    "\n",
    "ironman = iron + man\n",
    "print(iron + man)\n",
    "print(\"iron + man\")"
   ]
  },
  {
   "cell_type": "markdown",
   "metadata": {},
   "source": [
    "![](./Figures/ironman2.jpg)"
   ]
  },
  {
   "cell_type": "code",
   "execution_count": null,
   "metadata": {},
   "outputs": [],
   "source": [
    "# Backslash can be used to enclose for special characters in the output string \n",
    "\n",
    "'I\\'m Iron man'\n",
    "\"I am Iron man\"\n",
    "\n",
    "'Lines can be seperated \\nby backslash with symbol \"n\"'"
   ]
  },
  {
   "cell_type": "code",
   "execution_count": 126,
   "metadata": {},
   "outputs": [
    {
     "name": "stdout",
     "output_type": "stream",
     "text": [
      "use backslash with \n",
      "\"print\"\n",
      " command\n"
     ]
    }
   ],
   "source": [
    "#set the rule variable\n",
    "rule = 'use backslash with \\n\"print\"\\n command'\n",
    "\n",
    "print(rule)"
   ]
  },
  {
   "cell_type": "code",
   "execution_count": 127,
   "metadata": {},
   "outputs": [],
   "source": [
    "print ('MyData\\notes\\CE103')     # \\n means newline"
   ]
  },
  {
   "cell_type": "code",
   "execution_count": 128,
   "metadata": {},
   "outputs": [
    {
     "name": "stdout",
     "output_type": "stream",
     "text": [
      "MyData\\notes\\CE103\n"
     ]
    }
   ],
   "source": [
    "print (r'MyData\\notes\\CE103')    # use r before the quote"
   ]
  },
  {
   "cell_type": "markdown",
   "metadata": {},
   "source": [
    "---\n",
    "### How to access characters in string?\n",
    "\n",
    "Method of indexing can be used to access the characters in a string. Indexing could be think as pointing between characters. Index starts from 0. The left edge of the character numbered as O, increases from left to right and the right edge of the character starts with -1, e.g. -1 refers to the last character, -2 refers to the second last character and so on.\n",
    "\n",
    "![](./Figures/string-sequence.png)\n",
    "\n",
    "Accessing an index out of the range will cause an <font color=orange>IndexError</font>. We can also access individual characters using slicing. \n",
    "The index must be an integer, otherwhise, this will result into <font color=orange>TypeError</font>.\n"
   ]
  },
  {
   "cell_type": "code",
   "execution_count": 67,
   "metadata": {},
   "outputs": [],
   "source": [
    "MyString = \"\"\"We are the champions my friends,\n",
    "we keep on fighting till the end.\n",
    "\"\"\"\n",
    "print(MyString)"
   ]
  },
  {
   "cell_type": "code",
   "execution_count": 67,
   "metadata": {},
   "outputs": [],
   "source": [
    "# Lets assign Steve Job's words as string to a variable\n",
    "str = \"Your time is limited, so don\\’t waste it living someone else\\’s life.\"\n",
    "\n",
    "print('first character = ', str[0])    #first character\n",
    "print('last character = ', str[-1])        #last character\n",
    "print('slicing 6nd to 9th character = ', str[6:9])     #slicing 6nd to 9th character\n",
    "print('slicing 25th to 37nd last character = ', str[25:-37]   #slicing 25th to 37nd last character"
   ]
  },
  {
   "cell_type": "code",
   "execution_count": 67,
   "metadata": {},
   "outputs": [],
   "source": [
    "str = 'abcdefg'      \n",
    "print(str[::2])\n",
    "print(str[1::2])\n",
    "print(str[::-1])"
   ]
  },
  {
   "cell_type": "code",
   "execution_count": 67,
   "metadata": {},
   "outputs": [],
   "source": [
    "str = 'abcdefg'  \n",
    "st[8]   # index must be in range \n",
    "st[1.5] # index must be an integer"
   ]
  },
  {
   "cell_type": "markdown",
   "metadata": {},
   "source": [
    "---\n",
    "Elements of a string cannot be changed once it has been assigned. We can assign different strings to the same variable name."
   ]
  },
  {
   "cell_type": "code",
   "execution_count": 129,
   "metadata": {},
   "outputs": [],
   "source": [
    "str = 'hulk'\n",
    "print(str)"
   ]
  },
  {
   "cell_type": "markdown",
   "metadata": {},
   "source": [
    "![](./Figures/hulk.jpg)"
   ]
  },
  {
   "cell_type": "code",
   "execution_count": 114,
   "metadata": {},
   "outputs": [
    {
     "name": "stdout",
     "output_type": "stream",
     "text": [
      "2,4,6\n"
     ]
    }
   ],
   "source": [
    "str = '2,4,6'\n",
    "print(str)"
   ]
  },
  {
   "cell_type": "markdown",
   "metadata": {},
   "source": [
    "---\n",
    "String is one of the most used datatypes in Python with its operational features.\n",
    "\n",
    "A string can be a join of two or more strings which is called concantenation. ' + ' operator can be used joining while ' * ' operator can be used to repeat the string with a given numbers. \n"
   ]
  },
  {
   "cell_type": "code",
   "execution_count": 71,
   "metadata": {},
   "outputs": [
    {
     "name": "stdout",
     "output_type": "stream",
     "text": [
      "to be, or, not to be, \n",
      "to be, to be, to be,  that's the problem\n"
     ]
    }
   ],
   "source": [
    "str1 = 'to be, '\n",
    "str2 ='or, not '\n",
    "\n",
    "print( str1 + str2 + str1)\n",
    "print(str1 * 3,\"that\\'s the problem\")"
   ]
  },
  {
   "cell_type": "markdown",
   "metadata": {},
   "source": [
    "---\n",
    "The built-in functions such as enumarate(), len() etc. and numerous methods such as  lower(), upper(), join(), split(), find(), replace() etc. are very usefull for the work with sequence as well as works with string.\n"
   ]
  },
  {
   "cell_type": "code",
   "execution_count": 105,
   "metadata": {},
   "outputs": [],
   "source": [
    "str = 'winter is coming'\n",
    "\n",
    "list_enumerate = list(enumerate(str)) #contains all items as pairs\n",
    "print(list_enumerate) \n",
    "print(len(str)) #count characters"
   ]
  },
  {
   "cell_type": "code",
   "execution_count": 105,
   "metadata": {},
   "outputs": [],
   "source": [
    "str2 = 'sUmmEr is ENDing'\n",
    "print(str2.upper())\n",
    "str2.lower()\n",
    "print(str2)\n",
    "str2.split()\n",
    "str2.find('is')\n",
    "str2.replace('is','is not')"
   ]
  },
  {
   "cell_type": "code",
   "execution_count": 105,
   "metadata": {},
   "outputs": [],
   "source": [
    "p = \"Why, Mr. Anderson? Why keep fighting?\"\n",
    "print(p.find('Why'))      \n",
    "p.rfind('Why')"
   ]
  },
  {
   "cell_type": "code",
   "execution_count": 105,
   "metadata": {},
   "outputs": [],
   "source": [
    "print('Why keep fighting?'.replace('fighting','laughing'))\n",
    "print(p.replace('Why','please',2))                     "
   ]
  },
  {
   "cell_type": "code",
   "execution_count": 105,
   "metadata": {},
   "outputs": [
    {
     "name": "stdout",
     "output_type": "stream",
     "text": [
      "[(0, 'w'), (1, 'i'), (2, 'n'), (3, 't'), (4, 'e'), (5, 'r'), (6, ' '), (7, 'i'), (8, 's'), (9, ' '), (10, 'c'), (11, 'o'), (12, 'm'), (13, 'i'), (14, 'n'), (15, 'g')]\n",
      "16\n",
      "SUMMER IS ENDING\n",
      "sUmmEr is ENDing\n",
      "-1\n",
      "Why keep laughing?\n",
      "Why, Mr. Anderson? Why keep fighting?\n",
      "3\n"
     ]
    }
   ],
   "source": [
    "print(p.count('h'))"
   ]
  },
  {
   "cell_type": "markdown",
   "metadata": {},
   "source": [
    "---\n",
    "# Lists\n",
    "\n",
    "Python offers a sequence of datatypes in order to group values. Lists are one of the most versatile and frequently used items. They created by comma-separated values (elements) between square brackets [ ] in any number and any different type such as integer, float, string etc."
   ]
  },
  {
   "cell_type": "code",
   "execution_count": 73,
   "metadata": {},
   "outputs": [],
   "source": [
    "lst = [] # create empty list"
   ]
  },
  {
   "cell_type": "code",
   "execution_count": 73,
   "metadata": {},
   "outputs": [],
   "source": [
    "lst = [1, 2, 3]# list of integers"
   ]
  },
  {
   "cell_type": "code",
   "execution_count": 73,
   "metadata": {},
   "outputs": [],
   "source": [
    "lst = [3.14, \"pi\", (22/7)] # list of different datatypes"
   ]
  },
  {
   "cell_type": "code",
   "execution_count": 73,
   "metadata": {},
   "outputs": [],
   "source": [
    "lst = [\"week\",[2,4,6],['tuesday']] # nested list"
   ]
  },
  {
   "cell_type": "markdown",
   "metadata": {},
   "source": [
    "---\n",
    "#### Access items of a list\n",
    "\n",
    "   ##### _***1.Index Operator***_\n",
    "\n",
    "An index operator ([ ]) can be used to access the elements of a list. Index starts with 0 and must be an integer. If you access the index number out of the range it will cause <font color=red>IndexError</font>; if you use float or other types, it will cause <font color=red>TypeError</font> will occur.\n"
   ]
  },
  {
   "cell_type": "code",
   "execution_count": 101,
   "metadata": {},
   "outputs": [],
   "source": [
    "mylst = ['a','v','e','n','g','e','r','s']\n",
    "\n",
    "print(mylst[0])\n",
    "print(mylst[5])\n",
    "print(mylst[-5])"
   ]
  },
  {
   "cell_type": "code",
   "execution_count": 101,
   "metadata": {},
   "outputs": [],
   "source": [
    "mylst[1.0]       #TypeError ! only integer can be used "
   ]
  },
  {
   "cell_type": "code",
   "execution_count": 101,
   "metadata": {},
   "outputs": [],
   "source": [
    "nested = [\"Squares\", [4,9,16,25]] # Nested List\n",
    "print(nested[0][5])    \n",
    "print(nested[1][2])"
   ]
  },
  {
   "cell_type": "markdown",
   "metadata": {},
   "source": [
    "##### _***2.Slice Operator***_\n",
    "\n",
    "We can also access the elemts of a list by slicing operator.\n",
    "\n",
    "![](./Figures/captainamerica.jpg)"
   ]
  },
  {
   "cell_type": "code",
   "execution_count": null,
   "metadata": {},
   "outputs": [],
   "source": [
    "slc = ['C','a','p','t','a','i','n','A','m','e','r','i','c','a']\n",
    "\n",
    "print(my_list[:]) # elements beginning to end\n",
    "print(my_list[5:11]) # elements 5th to 11th\n",
    "print(my_list[:-5]) # elements beginning to 4th\n",
    "print(my_list[4:]) # elements 5th to end\n"
   ]
  },
  {
   "cell_type": "markdown",
   "metadata": {},
   "source": [
    "As differs from strings, the elements of lists can be changed which means they are mutable."
   ]
  },
  {
   "cell_type": "code",
   "execution_count": null,
   "metadata": {},
   "outputs": [],
   "source": [
    "sqr = [4, 9, 16, 25, 36, 49]\n",
    "\n",
    "sqr[0] = ('2x2')            # change the 1st item   \n",
    "sqr[1:-3] = ['3x3', '4x4']  # change 2nd to 3rd items        "
   ]
  },
  {
   "cell_type": "code",
   "execution_count": null,
   "metadata": {},
   "outputs": [],
   "source": [
    "sqr.append(7) # adds new item to the end of the list\n",
    "sqr.extend([100, 121, 144])\n",
    "sqr.insert(1,3)"
   ]
  },
  {
   "cell_type": "code",
   "execution_count": null,
   "metadata": {},
   "outputs": [],
   "source": [
    "# define sqr list again\n",
    "sqr = [4, 9, 16, 25, 36, 49]\n",
    "\n",
    "sqr[3:3] = [64, 91]\n",
    "print(sqr.index(8))\n",
    "print(sqr.count(8))\n",
    "sqr.sort()\n",
    "sqr.reverse()\n",
    "\n",
    "print(sqr)"
   ]
  },
  {
   "cell_type": "code",
   "execution_count": null,
   "metadata": {},
   "outputs": [],
   "source": [
    "# define sqr list again to see the commands for delete values from a list\n",
    "sqr = [4, 9, 16, 25, 36, 49]\n",
    "\n",
    "del sqr[3]    # delete one specific item\n",
    "del sqr[4:9]  # delete multiple items from the list\n",
    "del sqr       # delete entire list"
   ]
  },
  {
   "cell_type": "code",
   "execution_count": null,
   "metadata": {},
   "outputs": [],
   "source": [
    "sqr.remove('3x3') # remove the given item\n",
    "sqr.clear()\n",
    "sqr[2:3] = []"
   ]
  },
  {
   "cell_type": "code",
   "execution_count": null,
   "metadata": {},
   "outputs": [],
   "source": [
    "# if index is not specified in pop() it removes and returns the last item\n",
    "print(sqr.pop()) # provides first in, last out data structure\n",
    "print(sqr.pop(3)) # remove an item at the given index"
   ]
  },
  {
   "cell_type": "code",
   "execution_count": null,
   "metadata": {},
   "outputs": [],
   "source": [
    "# We can also use ' + ' operator to join two lists. \n",
    "# This is also called concatenation as mentoned above.\n",
    "print(sqr + [169])\n",
    "\n",
    "#The * operator repeats a list for the given number of times.\n",
    "print(sqr * 2)\n"
   ]
  },
  {
   "cell_type": "code",
   "execution_count": null,
   "metadata": {},
   "outputs": [],
   "source": [
    "# Lets check if an item is in the list or not\n",
    "chk = ['n','e','o']\n",
    "print('n' in my_list)\n",
    "print('a' in my_list)\n",
    "print('k' not in my_list)"
   ]
  },
  {
   "cell_type": "markdown",
   "metadata": {},
   "source": [
    "---\n",
    "## Tuple\n",
    "\n",
    "A tuple is a collection which is similar to a list. The elements of a tuple is ordered and unchangeable while, in a list, elements can be changed. A Tuple is written with round brackets \"( )\", separated by commas. A tuple item may be any type (float, string, integer, list etc.) and have any number.\n"
   ]
  },
  {
   "cell_type": "code",
   "execution_count": null,
   "metadata": {},
   "outputs": [],
   "source": [
    "tpl = ()          # create empty tuple\n",
    "tpl = (1, 2, 3)  # having integers\n",
    "tpl = (3.14, \"pi\", (22/7)) # tuple of different datatypes\n",
    "\n",
    "tpl = (\"week\",[2,4,6],(1,2,3)) # nested tuple"
   ]
  },
  {
   "cell_type": "code",
   "execution_count": null,
   "metadata": {},
   "outputs": [],
   "source": [
    "#A tuple created without parenthesis called tuple packing.\n",
    "\n",
    "tpl2 = 3.14, (22/7), \"pi\""
   ]
  },
  {
   "cell_type": "code",
   "execution_count": null,
   "metadata": {},
   "outputs": [],
   "source": [
    "a, b, c = tpl2    # unpacking tuple\n",
    "\n",
    "print(a)      \n",
    "print(b)      \n",
    "print(c)      "
   ]
  },
  {
   "cell_type": "markdown",
   "metadata": {},
   "source": [
    "#### Access items of a tuple\n",
    "\n",
    "##### _***1.Index Operator***_\n",
    "\n",
    "An index operator ([ ]) can be used to access the elements of a list. Index starts with 0 and must be an integer. If you access the index number out of the range it will cause <font color=red>IndexError</font>; if you use float or other types, it will cause <font color=red>TypeError</font> will occur."
   ]
  },
  {
   "cell_type": "code",
   "execution_count": null,
   "metadata": {},
   "outputs": [],
   "source": [
    "mytpl = ('E','n','g','i','n','e','e','r','i','n','g')\n",
    "\n",
    "print(mytpl[0])\n",
    "print(mytpl[5])\n",
    "print(mytpl[-5])"
   ]
  },
  {
   "cell_type": "code",
   "execution_count": null,
   "metadata": {},
   "outputs": [],
   "source": [
    "mytpl[1.0]          #TypeError ! only integer can be used "
   ]
  },
  {
   "cell_type": "code",
   "execution_count": null,
   "metadata": {},
   "outputs": [],
   "source": [
    "nested = (\"Squares\", [4,9,16,25]) # Nested List\n",
    "print(nested[0][5])    \n",
    "print(nested[1][2])"
   ]
  },
  {
   "cell_type": "markdown",
   "metadata": {},
   "source": [
    "##### _***2.Slice Operator***_\n",
    "\n",
    "We can also access the elemts of a list by slicing operator.\n",
    "\n",
    "![](./Figures/blackwidow.jpg)\n"
   ]
  },
  {
   "cell_type": "code",
   "execution_count": null,
   "metadata": {},
   "outputs": [],
   "source": [
    "slc = ('b','l','a','c','k','w','i','d','o','w')\n",
    "\n",
    "print(mytpl[:]) # elements beginning to end\n",
    "print(mytpl[5:11]) # elements 5th to 11th\n",
    "print(mytpl[:-5]) # elements beginning to 4th\n",
    "print(mytpl[4:]) # elements 5th to end \n"
   ]
  },
  {
   "cell_type": "code",
   "execution_count": null,
   "metadata": {},
   "outputs": [],
   "source": [
    "# A tuple can be assigned to a different item called reassignment.\n",
    "mytpl = (4, 9, 16, [64, 81])"
   ]
  },
  {
   "cell_type": "code",
   "execution_count": null,
   "metadata": {},
   "outputs": [],
   "source": [
    "mytpl[1] = 5 # TypeError : 'tuple' object does not support item assignment"
   ]
  },
  {
   "cell_type": "code",
   "execution_count": null,
   "metadata": {},
   "outputs": [],
   "source": [
    "mytpl[2][0] = 1  #mutable element item can be changed"
   ]
  },
  {
   "cell_type": "code",
   "execution_count": null,
   "metadata": {},
   "outputs": [],
   "source": [
    "mytpl = ('s','p','i','d','e','r') # reassigned"
   ]
  },
  {
   "cell_type": "code",
   "execution_count": null,
   "metadata": {},
   "outputs": [],
   "source": [
    "# We can also use ' + ' operator to join two lists. \n",
    "# This is also called concatenation as mentoned above.\n",
    "print((1, 2, 3) + (4, 5, 6))\n",
    "\n",
    "# The * operator repeats a list for the given number of times.\n",
    "print('money' * 3)"
   ]
  },
  {
   "cell_type": "markdown",
   "metadata": {},
   "source": [
    "---\n",
    "## Dictionary\n",
    "\n",
    "A dictionary in the Python is an unordered, changable and indexed collection of items, which are written by curly brackets {}. A dicionary is a composition of key:value pairs. Each key has to retrieve a specific value.\n"
   ]
  },
  {
   "cell_type": "code",
   "execution_count": null,
   "metadata": {},
   "outputs": [],
   "source": [
    "# Create and print a dictionary:\n",
    "\n",
    "earthquake = {\n",
    "  \"location\": \"Elazig\",\n",
    "  \"magnitude\": \"6.8\",\n",
    "  \"year\": 2020,\n",
    "  \"month\":\"January\"  \n",
    "}\n",
    "print(earthquake)"
   ]
  },
  {
   "cell_type": "code",
   "execution_count": null,
   "metadata": {},
   "outputs": [],
   "source": [
    "# to access the items of the dictionary refer its key name.\n",
    "\n",
    "x = earthquake[\"location\"]\n",
    "#,or,\n",
    "x = earthquake.get(\"year\")"
   ]
  },
  {
   "cell_type": "code",
   "execution_count": null,
   "metadata": {},
   "outputs": [],
   "source": [
    "#change values of specific item;\n",
    "earthquake[\"location\"] = \"Sivrice-Elazig\""
   ]
  },
  {
   "cell_type": "code",
   "execution_count": null,
   "metadata": {},
   "outputs": [],
   "source": [
    "print(len(earthquake))   # gives number of the items in dictionary"
   ]
  },
  {
   "cell_type": "code",
   "execution_count": null,
   "metadata": {},
   "outputs": [],
   "source": [
    "earthquake[\"depth\"] = 16  # adding new item to the dictionary"
   ]
  },
  {
   "cell_type": "code",
   "execution_count": null,
   "metadata": {},
   "outputs": [],
   "source": [
    "# Ways to remove items from the dictionary;\n",
    "\n",
    "earthquake.pop(\"location\")  # removes the item with the specified key name\n",
    "earthquake.popitem()        # removes the last inserted item\n",
    "del earthquake[\"month\"]     # removes the item with the specified key name\n",
    "newdict = earthquake.copy() # copies the dictionary\n",
    "earthquake.clear()          # empties the dictionar"
   ]
  },
  {
   "cell_type": "markdown",
   "metadata": {},
   "source": [
    "---\n",
    "## Arrays\n",
    "\n",
    "We defined a dictionary for an earthquake with its specified features or items. Lets assume that we have thousands of earthquakes listed with different values (for example; magnitude ranges between 3 to 7, depth changes between 5km to 20 km. etc.) To access the specified eartquke, or group of earthquakes we can use arrays in Python.\n",
    "\n",
    "Arrays are used to store multiple values in a single variable. Lists can do, too. List can also a data structure that offers a sequence of dataytpes while arrays can only stores values of same datatype."
   ]
  },
  {
   "cell_type": "code",
   "execution_count": null,
   "metadata": {},
   "outputs": [],
   "source": [
    "#Lets assign different tyoes of magnitudes to a key;\n",
    "\n",
    "M = [\"Ml\", \"Mw\", \"Mb\"]  # single key can hold multiple variable.\n",
    "m1 = \"Ml\"\n",
    "m2 = \"Mw\"\n",
    "m3 = \"Mb\"\n",
    "\n",
    "a = M[0]     # value of the fisrt array item\n",
    "M[0] = \"Md\"  # reassign first array item\n",
    "print(M)"
   ]
  },
  {
   "cell_type": "code",
   "execution_count": 142,
   "metadata": {},
   "outputs": [],
   "source": [
    "a = len(M)   # number of elements in an array\n",
    "print(a)"
   ]
  },
  {
   "cell_type": "code",
   "execution_count": null,
   "metadata": {},
   "outputs": [],
   "source": [
    "M.append('Ml')  # add an element to an array"
   ]
  },
  {
   "cell_type": "code",
   "execution_count": null,
   "metadata": {},
   "outputs": [],
   "source": [
    "M.pop(1)        # remove an element from the array"
   ]
  },
  {
   "cell_type": "code",
   "execution_count": null,
   "metadata": {},
   "outputs": [],
   "source": [
    "M.remove('Mb')  # remove the element that has the value \"Mb\""
   ]
  },
  {
   "cell_type": "markdown",
   "metadata": {},
   "source": [
    "---"
   ]
  },
  {
   "cell_type": "markdown",
   "metadata": {},
   "source": [
    "---"
   ]
  },
  {
   "cell_type": "markdown",
   "metadata": {},
   "source": [
    "## Homework #2\n",
    "---\n",
    "\n",
    "Please write a code that calculates your weighted grade average which belongs to 2019/2020 fall semester (Define two lists, one for grade and one for credits). Assume that your GPA increases 5% at each semester and calculate your graduation credit.  \n",
    "\n",
    "\n",
    "\n",
    "PS: Do not forget to upload your pdf files to http://derskutusu.gtu.edu.tr/\n",
    "\n",
    "---"
   ]
  },
  {
   "cell_type": "code",
   "execution_count": null,
   "metadata": {},
   "outputs": [],
   "source": []
  }
 ],
 "metadata": {
  "kernelspec": {
   "display_name": "Python 3",
   "language": "python",
   "name": "python3"
  },
  "language_info": {
   "codemirror_mode": {
    "name": "ipython",
    "version": 3
   },
   "file_extension": ".py",
   "mimetype": "text/x-python",
   "name": "python",
   "nbconvert_exporter": "python",
   "pygments_lexer": "ipython3",
   "version": "3.6.8"
  }
 },
 "nbformat": 4,
 "nbformat_minor": 4
}
