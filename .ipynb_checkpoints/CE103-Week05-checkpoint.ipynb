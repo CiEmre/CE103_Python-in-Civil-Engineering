{
 "cells": [
  {
   "cell_type": "markdown",
   "metadata": {},
   "source": [
    "### CE 103- INTRODUCTION TO COMPUTERS and PROGRAMMING"
   ]
  },
  {
   "cell_type": "markdown",
   "metadata": {},
   "source": [
    "### _The topics of the week !_\n",
    "\n",
    "- Plotting\n",
    "    - Matplotlib module\n",
    "    - Subplot\n",
    "    \n",
    "    \n",
    "Visulization is necessery especially when we are working with data series. **Matplotlib** is a flexible data visulization library of Python. It has a lot of handy defaults for plotting with the help of the **_plot()_** function and using **_show()_** function to visualize it on the screen.  \n",
    "\n",
    "Python consists modules which can be considered as a code libraries. These modules are files containing a set of functions. **Matplotlib** is a module that includes applications all about visualizing different types of data sequences.\n"
   ]
  },
  {
   "cell_type": "markdown",
   "metadata": {},
   "source": [
    "If you would like to install Matplotlib, easiest way is to use \"pip\" command;\n",
    "\n",
    "**_pip install matplotlib_**\n",
    " \n",
    "if you are using web-based Python platform, just call it by;"
   ]
  },
  {
   "cell_type": "markdown",
   "metadata": {},
   "source": [
    "<font color=green>import<font> <font color=black>matplotlib<font> <font color=green>as<font> <font color=black>plt<font>\n",
    "    \n",
    "matplotlib library has **_plot, pyplot_** and **_pylab_**, and much more... modules to import for data  visualize under the alias such as \"plt\" \n"
   ]
  },
  {
   "cell_type": "code",
   "execution_count": null,
   "metadata": {},
   "outputs": [],
   "source": [
    "# Let's plot a linear line by defining two different lists;\n",
    "# import \"pyplot\" module of the matplatlib library under the alias plt\n",
    "import matplotlib.pyplot as plt\n",
    "\n",
    "x = [1,2,3,4,5,6,7,8,9]\n",
    "y = [3,5,7,2,4,8,1,6,9]\n",
    "\n",
    "plt.plot(x,y)\n"
   ]
  },
  {
   "cell_type": "markdown",
   "metadata": {},
   "source": [
    "---\n",
    "\n",
    "### _The anatomy of matplotlib plot !_\n",
    "\n",
    "**_Figure_** : represents the overall window or page that everything is drawn on.\n",
    "\n",
    "**_Axes_** : the area associated with ticks, labels etc., that data is plotted with functions. \n",
    "\n",
    "![](./Figures/figure-exp.png)"
   ]
  },
  {
   "cell_type": "code",
   "execution_count": null,
   "metadata": {},
   "outputs": [],
   "source": [
    "import matplotlib.pyplot as plt\n",
    "\n",
    "x = [1,2,3,4,5,6,7,8,9]\n",
    "y = [3,5,7,2,4,8,1,6,9]\n",
    "\n",
    "plt.plot(x,y, color='green', linewidth=3)\n",
    "plt.xlabel('numbers')\n",
    "plt.ylabel('more numbers')\n",
    "plt.xlim(0, 15)\n",
    "plt.ylim(0, 25)\n",
    "#plt.plot(x,y)\n",
    "plt.show()"
   ]
  },
  {
   "cell_type": "code",
   "execution_count": null,
   "metadata": {},
   "outputs": [],
   "source": [
    "# single line command can also take an arbitraray number of arguments to plot x versus y as below;\n",
    "\n",
    "plt.plot([1, 2, 3, 4], [2, 4, 9, 16])\n",
    "#plt.plot([1, 2, 3, 4], [2, 4, 9, 16],'r--')"
   ]
  },
  {
   "cell_type": "markdown",
   "metadata": {},
   "source": [
    "---\n",
    "### _Controling line properties_\n",
    "\n",
    "**_linewidth_** : set the width of the line plot\n",
    "\n",
    "**_color_** : set the color of the line as below\n",
    "\n",
    "![](./Figures/color.png)"
   ]
  },
  {
   "cell_type": "code",
   "execution_count": null,
   "metadata": {},
   "outputs": [],
   "source": [
    "import matplotlib.pyplot as plt\n",
    "\n",
    "x = [1,2,3,4,5,6,7,8,9]\n",
    "y = [3,5,7,2,4,8,1,6,9]\n",
    "\n",
    "plt.plot(x, 'g*', linewidth=2, label='x values')\n",
    "plt.plot(y, 'b--', linewidth=1, label='y values')\n",
    "plt.xlabel('numbers')\n",
    "plt.ylabel('more numbers')\n",
    "plt.legend()\n",
    "plt.show()"
   ]
  },
  {
   "cell_type": "code",
   "execution_count": null,
   "metadata": {},
   "outputs": [],
   "source": [
    "# \"%matplotlib inline\"  renders the figure in a notebook \n",
    "%matplotlib inline                    \n",
    "import matplotlib.pyplot as plt\n",
    "plt.style.use('seaborn-whitegrid')    # defines a form of style sheet (see https://matplotlib.org/ for list of styles)\n",
    "#plt.style.use('dark_background')\n",
    "import numpy as np\n",
    "\n",
    "# lets use \"linspace\" function which returns evenly spaced numbers over the specified interval\n",
    "array = np.linspace(0, 10, num=100)       # refers np.linspace(start=0, stop=10, num=100)\n",
    "plt.plot(array, np.sin(array));           # define a sine wave for array variable\n",
    "\n",
    "plt.plot(array, np.cos(array),color='blue', linestyle='solid', linewidth='3')   # plot cosine with a blue continuous line of width 3\n",
    "plt.plot(array, np.sin(array + 30), color='g', linestyle='--')\n",
    "plt.plot(array, np.sin(array + 45), color='c', linestyle='-.')\n",
    "plt.plot(array, np.sin(array + 60), color='k', linestyle='dotted')"
   ]
  },
  {
   "cell_type": "markdown",
   "metadata": {},
   "source": [
    "---\n",
    "### _**Scatter** plots_"
   ]
  },
  {
   "cell_type": "code",
   "execution_count": null,
   "metadata": {},
   "outputs": [],
   "source": [
    "plt.style.use('seaborn-whitegrid')\n",
    "\n",
    "x = np.linspace(0, 10, 30)\n",
    "y = np.sin(x)\n",
    "\n",
    "plt.plot(x, y, '-ok');\n",
    "\n",
    "# or\n",
    "\n",
    "plt.plot(x, y + 2, '*');"
   ]
  },
  {
   "cell_type": "code",
   "execution_count": null,
   "metadata": {},
   "outputs": [],
   "source": [
    "import numpy as np\n",
    "y = np.arange(2,50,2)\n",
    "\n",
    "# can show each computation of x with different symbol\n",
    "plt.plot(y, np.log(y*y), 'r*', y, np.log(y*y**2), 'b^', y, np.log(y*y**3), 'gs')\n",
    "#plt.show()"
   ]
  },
  {
   "cell_type": "code",
   "execution_count": null,
   "metadata": {},
   "outputs": [],
   "source": [
    "x = 0.2 * np.random.rand(100)\n",
    "y = 0.5 * np.random.rand(100)\n",
    "\n",
    "#plt.scatter(x, y, s=50, marker='^', color='g')"
   ]
  },
  {
   "cell_type": "code",
   "execution_count": null,
   "metadata": {},
   "outputs": [],
   "source": [
    "%matplotlib inline\n",
    "x = np.arange(0.0, 20.0, 2.0)\n",
    "y = x ** 1.2\n",
    "s = np.random.rand(30) * 1000\n",
    "\n",
    "plt.scatter(x, y, s, c=\"g\", alpha=0.5, marker=r'1')"
   ]
  },
  {
   "cell_type": "code",
   "execution_count": null,
   "metadata": {},
   "outputs": [],
   "source": [
    "plt.style.use('classic')  # skip back to the classic style sheet of plot\n",
    "np.random.seed(19680801)\n",
    "%matplotlib inline\n",
    "\n",
    "num = 50\n",
    "x = np.random.rand(num)\n",
    "y = np.random.rand(num)\n",
    "colors = np.random.rand(num)\n",
    "area = (30 * np.random.rand(num))**2\n",
    "\n",
    "plt.scatter(x, y, s=area, c=colors, alpha=0.5)\n",
    "plt.show()"
   ]
  },
  {
   "cell_type": "markdown",
   "metadata": {},
   "source": [
    "---\n",
    "### _**bar** or **histogram** plotting_\n",
    "\n",
    "\"hist()\" function generates histogram plots"
   ]
  },
  {
   "cell_type": "code",
   "execution_count": null,
   "metadata": {},
   "outputs": [],
   "source": [
    "%matplotlib inline\n",
    "plt.hist(x, bins=10, color='pink')\n",
    "plt.ylim(0,25)\n",
    "plt.show()"
   ]
  },
  {
   "cell_type": "code",
   "execution_count": null,
   "metadata": {},
   "outputs": [],
   "source": [
    "# 2D histogram may be customized as below\n",
    "%matplotlib inline\n",
    "\n",
    "plt.hist2d(x, y, bins=10)\n",
    "plt.show()"
   ]
  },
  {
   "cell_type": "markdown",
   "metadata": {},
   "source": [
    "---\n",
    "### _**Subplot** in matplotlib_\n",
    "\n",
    "A \"figure\" represents the whole window in the user interface, meanwhile, there can be **\"subplots\"** in different sizes. These **subplots** can be arranged in regular grid with the specified number of colomns and rows. \n",
    "\n",
    "![](./Figures/subplot.png)\n"
   ]
  },
  {
   "cell_type": "code",
   "execution_count": null,
   "metadata": {},
   "outputs": [],
   "source": [
    "# lets draw a single plot with subplot\n",
    "%matplotlib inline\n",
    "\n",
    "x = np.linspace(0, 3 * np.pi, 300)\n",
    "y = np.sin(x**2)\n",
    "\n",
    "fig, ax = plt.subplots()\n",
    "ax.plot(x, y)\n",
    "ax.set_title('A single plot')"
   ]
  },
  {
   "cell_type": "code",
   "execution_count": null,
   "metadata": {},
   "outputs": [],
   "source": [
    "# Lets subplot a time series of random numbers\n",
    "\n",
    "fig, (ax1, ax2) = plt.subplots(2, 1)\n",
    "fig.subplots_adjust(hspace=0.5)       # add an extra space between the subplots\n",
    "\n",
    "t = np.arange(0, 30, 0.01)\n",
    "s1 = 0.01 * np.sin(2 * np.pi*t)   # white noise added\n",
    "s2 = 0.01 * np.sin(2 * np.pi*t) + np.random.randn(len(t))   # white noise added\n",
    "\n",
    "ax1.plot(t, s1, c='goldenrod')\n",
    "\n",
    "ax1.set_xlim(0, 5)\n",
    "ax1.set_xlabel('time')\n",
    "ax1.set_ylabel('sin')\n",
    "#ax1.set_ylim(-3,3 )\n",
    "\n",
    "ax2.set_xlim(0, 5)\n",
    "ax2.set_xlabel('time')\n",
    "ax2.set_ylabel('noise')\n",
    "ax2.plot(t, s2, c='darkslategray')\n",
    "plt.show()"
   ]
  },
  {
   "cell_type": "code",
   "execution_count": null,
   "metadata": {},
   "outputs": [],
   "source": [
    "# we can use sharing both axes \n",
    "fig, axs = plt.subplots(2, sharex=True, sharey=True, gridspec_kw={'hspace': 0})\n",
    "fig.suptitle('Sharing axes')\n",
    "\n",
    "axs[0].plot(t, s1)\n",
    "axs[1].plot(t, s2)\n"
   ]
  },
  {
   "cell_type": "code",
   "execution_count": null,
   "metadata": {},
   "outputs": [],
   "source": [
    "fig, ax = plt.subplots(2, 3, sharex='col', sharey='row')\n"
   ]
  },
  {
   "cell_type": "markdown",
   "metadata": {},
   "source": [
    "---\n",
    "#### Customize more complicated arrangements can also be perform by using \"GridSpec\", \"subplotspec\" or \"subplot2grid\" module\n"
   ]
  },
  {
   "cell_type": "code",
   "execution_count": null,
   "metadata": {},
   "outputs": [],
   "source": [
    "# Customize more complicated arrangements can also be perform by using \"GridSpec\", \"subplotspec\" or \"subplot2grid\" module\n",
    "import matplotlib.gridspec as gridspec\n",
    "\n",
    "grid = plt.GridSpec(ncols=3, nrows=3, wspace=0.4, hspace=0.3)\n",
    "\n",
    "plt.subplot(grid[0, 0])\n",
    "plt.subplot(grid[0, 1:])\n",
    "plt.subplot(grid[1, :2])\n",
    "plt.subplot(grid[1, 2])\n",
    "plt.subplot(grid[-1, -2])\n"
   ]
  },
  {
   "cell_type": "markdown",
   "metadata": {},
   "source": [
    "---"
   ]
  },
  {
   "cell_type": "code",
   "execution_count": null,
   "metadata": {},
   "outputs": [],
   "source": [
    "a = np.random.rand(10)\n",
    "b = np.random.rand(10)\n",
    "colors = np.sqrt(a**2 + b**2)\n",
    "\n",
    "plt.subplot(321)\n",
    "plt.scatter(a, b, s=80, c=colors, marker=\">\")\n",
    "\n",
    "plt.subplot(322)\n",
    "plt.scatter(a, b, s=80, c=colors, marker=r'1')\n",
    "\n",
    "plt.subplot(323)\n",
    "plt.scatter(a, b, s=80, c=colors, marker=r'$\\clubsuit$')\n",
    "\n",
    "plt.subplot(324)\n",
    "plt.scatter(a, b, s=80, c=colors, marker=r'v')\n",
    "\n",
    "plt.subplot(325)\n",
    "plt.scatter(a, b, s=80, c=colors, marker='+')\n",
    "\n",
    "plt.subplot(326)\n",
    "plt.scatter(a, b, s=80, c=colors, marker=r'$\\alpha$')\n",
    "\n",
    "plt.show()\n"
   ]
  },
  {
   "cell_type": "markdown",
   "metadata": {},
   "source": [
    "---"
   ]
  },
  {
   "cell_type": "code",
   "execution_count": null,
   "metadata": {},
   "outputs": [],
   "source": [
    "# another example for histogram subplot\n",
    "\n",
    "x = np.random.randn(100)\n",
    "y = x **2 + np.random.randn(100)\n",
    "\n",
    "fig, axs = plt.subplots(1, 2, sharey=True) # True\n",
    "\n",
    "axs[0].hist(x, bins=20, color='plum', edgecolor='green')  # set the number of bins with the `bins` keyword argument\n",
    "axs[1].hist(y, bins=10, color='darkseagreen', edgecolor='purple', linewidth=3)\n"
   ]
  },
  {
   "cell_type": "markdown",
   "metadata": {},
   "source": [
    "---"
   ]
  },
  {
   "cell_type": "code",
   "execution_count": null,
   "metadata": {},
   "outputs": [],
   "source": [
    "# different projection type can be used for plotting with scatter\n",
    "\n",
    "# Compute areas and colors\n",
    "x = np.random.rand(100)\n",
    "y = np.pi ** np.random.rand(100)\n",
    "\n",
    "fig = plt.figure()\n",
    "ax = fig.add_subplot(111, projection='polar')              # polar projection used\n",
    "c = ax.scatter(x, y, c=x, s=20, cmap='hsv', alpha=0.5)"
   ]
  },
  {
   "cell_type": "markdown",
   "metadata": {},
   "source": [
    "---\n",
    "### <font color=theta>_Please visit the web addresses below to discover the exciting **\"Matplotlib\"** world !_<font>\n",
    "\n",
    "https://matplotlib.org/3.1.1/gallery/index.html\n",
    "    \n",
    "### <font color=theta>_And for more on Python Graphs visit;_<font>\n",
    "   \n",
    "https://python-graph-gallery.com/"
   ]
  },
  {
   "cell_type": "markdown",
   "metadata": {},
   "source": [
    "---\n",
    "## Homework #5\n",
    "\n",
    "\n",
    "As a young researcher, you are supposed to develop a visualization code for a given data set. The code should do the followings sequentally; \n",
    "1. Define two arrays having 100 points. One of the arrays should have numbers between 0 and 100, and other should be between -1 and 1. / Hint: random \n",
    "\n",
    "2. Sort the first array in ascending order while the second array alse meanwhile sorted. /Hint: sorting\n",
    "\n",
    "3. Create a loop for both arrays to segregate positive and negative values. \n",
    "\n",
    "4. Keep positive and negative values in seperate variables of your choice. / Hint: dictionary.\n",
    "\n",
    "5. Visualize all arrays in combined layout where your senior might see the first and resulting arrays. /Hint: subplot\n",
    "\n",
    "6. Do not forget all arrays must be in same length. /Hint: replace values with zero\n",
    "\n",
    "In addition to these steps, you are asked to use the modules and commands below once at least;\n",
    "\n",
    ". random\n",
    "\n",
    ". enumerate/zip\n",
    "\n",
    ". subplot\n",
    "\n",
    ". for\n",
    "\n",
    "\n",
    "PS: Do not forget to upload your pdf files to http://derskutusu.gtu.edu.tr/\n",
    "\n",
    "---"
   ]
  }
 ],
 "metadata": {
  "kernelspec": {
   "display_name": "Python 3",
   "language": "python",
   "name": "python3"
  },
  "language_info": {
   "codemirror_mode": {
    "name": "ipython",
    "version": 3
   },
   "file_extension": ".py",
   "mimetype": "text/x-python",
   "name": "python",
   "nbconvert_exporter": "python",
   "pygments_lexer": "ipython3",
   "version": "3.6.8"
  }
 },
 "nbformat": 4,
 "nbformat_minor": 4
}
