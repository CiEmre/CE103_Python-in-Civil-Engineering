{
 "cells": [
  {
   "cell_type": "markdown",
   "metadata": {},
   "source": [
    "### CE 103- INTRODUCTION TO COMPUTERS and PROGRAMMING"
   ]
  },
  {
   "cell_type": "markdown",
   "metadata": {},
   "source": [
    "### _The topics of the week !_\n",
    "\n",
    "- Strings\n",
    "- Python Collections\n",
    "    - Lists     ----->  Ordered and changeable collection which allows duplicate members.\n",
    "    - Tuples    ----->  Ordered and unchangeble collection which allows duplicate members.\n",
    "    - Dictionaries -->  Unordered, changeable, indexed and single members collection.\n",
    "    - Arrays    \n",
    "   "
   ]
  },
  {
   "cell_type": "markdown",
   "metadata": {},
   "source": [
    "---"
   ]
  },
  {
   "cell_type": "markdown",
   "metadata": {},
   "source": [
    "### Crash entry to programming world of PYTHON\n",
    "\n",
    "\n",
    "Basic reference tools for Python and Notebook\n",
    "\n",
    "If you prefer to use your local Python, type the coomand below in to your terminal window to run your python code.\n",
    "\n",
    "   $ python example.py\n",
    "\n",
    ",or, \n",
    "\n",
    "if you are using notebook interface,\n",
    "\n",
    "    Shift + Enter --> execute cell and jump to the next one\n",
    "    Ctrl/Cmd + Enter --> execute cell and don't jump to the next cell\n",
    "\n",
    "To write outputs in to the screen or plot figures;\n",
    "\n",
    "print(\"Hello\")\n",
    "\n",
    "---"
   ]
  },
  {
   "cell_type": "markdown",
   "metadata": {},
   "source": [
    "# Strings\n",
    "\n",
    "We have learned last week that Python (such as other programming languages) can be used as a calculater by using math symbols and also Numbers. \n",
    "\n",
    "#### <font color=green>!!! A string is a sequence of characters !!!</font>\n",
    "\n",
    "A character is simply a symbol. ACtually computers deal with numbers (binary), not with characters. All characters you may see on the screen are stored and manipulated as a combination of zeros (0) and ones (1), internally. Converting the character to a number is called encoding (ASCII, Unicode etc.) and the visa versa is decoding. \n",
    "\n",
    "A string is a series of Unicode characters."
   ]
  },
  {
   "cell_type": "code",
   "execution_count": 64,
   "metadata": {},
   "outputs": [
    {
     "name": "stdout",
     "output_type": "stream",
     "text": [
      "Cause if we can't protect the Earth, you can be sure we will avenge it\n"
     ]
    }
   ],
   "source": [
    "# Python can also manipulate \"strings\". They can be adressed in single quotes ('..') or in double quotes (\"  \").\n",
    "\n",
    "iron = \"Cause if we can't protect the Earth, \"\n",
    "man = 'you can be sure we will avenge it'\n",
    "\n",
    "ironman = iron + man\n",
    "print(iron + man)\n",
    "#print(\"iron + man\")"
   ]
  },
  {
   "cell_type": "code",
   "execution_count": 65,
   "metadata": {},
   "outputs": [
    {
     "name": "stdout",
     "output_type": "stream",
     "text": [
      "use  backslash \"\n",
      "\" with \"print\" command\n",
      "MyData\n",
      "otes\\CE103\n",
      "MyData\\notes\\CE103\n"
     ]
    }
   ],
   "source": [
    "# Backslash can be used to enclose for special characters in the output string \n",
    "\n",
    "'I\\'m Iron man'\n",
    "\"I am Iron man\"\n",
    "\n",
    "'Lines can be seperated \\nby backslash with symbol \"n\"'\n",
    "\n",
    "rule = 'use  backslash \"\\n\" with \"print\" command'\n",
    "\n",
    "print(rule)\n",
    "\n",
    "print ('MyData\\notes\\CE103')     # \\n means newline\n",
    "print (r'MyData\\notes\\CE103')    # use r before the quote\n"
   ]
  },
  {
   "cell_type": "markdown",
   "metadata": {},
   "source": [
    "---\n",
    "### How to access characters in string?\n",
    "\n",
    "Method of indexing can be used to access the characters in a string. Indexing could be think as pointing between characters. Index starts from 0. The left edge of the character numbered as O, increases from left to right and the right edge of the character starts with -1, e.g. -1 refers to the last character, -2 refers to the second last character and so on.\n",
    "\n",
    "![](./Figures/string-sequence.png)\n",
    "\n",
    "Accessing an index out of the range will cause an <font color=purple>IndexError</font>. We can also access individual characters using slicing. \n",
    "The index must be an integer, otherwhise, this will result into <font color=orange>TypeError</font>.\n"
   ]
  },
  {
   "cell_type": "code",
   "execution_count": 67,
   "metadata": {},
   "outputs": [
    {
     "ename": "SyntaxError",
     "evalue": "invalid syntax (<ipython-input-67-a521e8ac13d2>, line 14)",
     "output_type": "error",
     "traceback": [
      "\u001b[0;36m  File \u001b[0;32m\"<ipython-input-67-a521e8ac13d2>\"\u001b[0;36m, line \u001b[0;32m14\u001b[0m\n\u001b[0;31m    str = 'abcdefg'\u001b[0m\n\u001b[0m      ^\u001b[0m\n\u001b[0;31mSyntaxError\u001b[0m\u001b[0;31m:\u001b[0m invalid syntax\n"
     ]
    }
   ],
   "source": [
    "MyString = \"\"\"We are the champions my friends,\n",
    "we keep on fighting till the end.\n",
    "\"\"\"\n",
    "print(MyString)\n",
    "\n",
    "# Lets assign Steve Job's words as string to a variable\n",
    "str = \"Your time is limited, so don\\’t waste it living someone else\\’s life.\"\n",
    "\n",
    "print('first character = ', str[0])    #first character\n",
    "print('last character = ', str[-1])        #last character\n",
    "print('slicing 6nd to 9th character = ', str[6:9])     #slicing 6nd to 9th character\n",
    "print('slicing 25th to 37nd last character = ', str[25:-37]   #slicing 25th to 37nd last character\n",
    "\n",
    "str = 'abcdefg'      \n",
    "print(str[::2])\n",
    "print(str[1::2])\n",
    "print(str[::-1])\n",
    "\n",
    "\n",
    "st[8]   # index must be in range \n",
    "st[1.5] # index must be an integer"
   ]
  },
  {
   "cell_type": "markdown",
   "metadata": {},
   "source": [
    "---\n",
    "Elements of a string cannot be changed once it has been assigned. We can assign different strings to the same variable name."
   ]
  },
  {
   "cell_type": "code",
   "execution_count": 68,
   "metadata": {},
   "outputs": [
    {
     "name": "stdout",
     "output_type": "stream",
     "text": [
      "hulk\n",
      "2,4,6\n"
     ]
    }
   ],
   "source": [
    "str = 'hulk'\n",
    "print(str)\n",
    "\n",
    "str = '2,4,6'\n",
    "print(str)\n"
   ]
  },
  {
   "cell_type": "markdown",
   "metadata": {},
   "source": [
    "---\n",
    "String is one of the most used datatypes in Python with its operational features.\n",
    "\n",
    "A string can be a join of two or more strings which is called concantenation. ' + ' operator can be used joining while ' * ' operator can be used to repeat the string with a given numbers. \n"
   ]
  },
  {
   "cell_type": "code",
   "execution_count": 71,
   "metadata": {},
   "outputs": [
    {
     "name": "stdout",
     "output_type": "stream",
     "text": [
      "to be, or, not to be, \n",
      "to be, to be, to be,  that's the problem\n"
     ]
    }
   ],
   "source": [
    "str1 = 'to be, '\n",
    "str2 ='or, not '\n",
    "\n",
    "print( str1 + str2 + str1)\n",
    "print(str1 * 3,\"that\\'s the problem\")"
   ]
  },
  {
   "cell_type": "markdown",
   "metadata": {},
   "source": [
    "---\n",
    "The built-in functions such as enumarate(), len() etc. and numerous methods such as  lower(), upper(), join(), split(), find(), replace() etc. are very usefull for the work with sequence as well as works with string.\n"
   ]
  },
  {
   "cell_type": "code",
   "execution_count": 88,
   "metadata": {},
   "outputs": [
    {
     "name": "stdout",
     "output_type": "stream",
     "text": [
      "[(0, 'w'), (1, 'i'), (2, 'n'), (3, 't'), (4, 'e'), (5, 'r'), (6, ' '), (7, 'i'), (8, 's'), (9, ' '), (10, 'c'), (11, 'o'), (12, 'm'), (13, 'i'), (14, 'n'), (15, 'g')]\n",
      "16\n",
      "SUMMER IS ENDING\n",
      "-1\n",
      "Why keep laughing?\n",
      "Why, Mr. Anderson? Why keep fighting?\n",
      "3\n"
     ]
    }
   ],
   "source": [
    "str = 'winter is coming'\n",
    "\n",
    "list_enumerate = list(enumerate(str)) #contains all items as pairs\n",
    "print(list_enumerate) \n",
    "print(len(str)) #count characters\n",
    "\n",
    "str2 = 'sUmmEr is ENDing'\n",
    "print(str2.upper())\n",
    "str2.lower()\n",
    "str2.split()\n",
    "str2.find('is')\n",
    "str2.replace('is','is not')\n",
    "\n",
    "p = \"Why, Mr. Anderson? Why keep fighting?\"\n",
    "print(p.find('why'))                                          ########    **********************************!!!!!!!!! -1 cikiyor neden ~!!!!1\n",
    "p.rfind('why')\n",
    "\n",
    "print('Why keep fighting?'.replace('fighting','laughing'))\n",
    "print(p.replace('why','please',2))                          ##################33 dogru calismiyor !!!!!!!!!!!!!!!!!!!!!!!!!!!!!!!!!!!!!!!!!!!!!!!!!!!!!!!!\n",
    "\n",
    "print(p.count('h'))\n"
   ]
  },
  {
   "cell_type": "markdown",
   "metadata": {},
   "source": [
    "---\n",
    "# Lists\n",
    "\n",
    "Python offers a sequence of datatypes in order to group values. Lists are one of the most versatile and frequently used items. They created by comma-separated values (elements) between square brackets [ ] in any number and any different type such as integer, float, string etc."
   ]
  },
  {
   "cell_type": "code",
   "execution_count": 73,
   "metadata": {},
   "outputs": [],
   "source": [
    "lst = [] # create empty list\n",
    "\n",
    "lst = [1, 2, 3]# list of integers\n",
    "\n",
    "lst = [3.14, \"pi\", (22/7)] # list of different datatypes\n",
    "\n",
    "lst = [\"week\",[2,4,6],['tuesday']] # nested list"
   ]
  },
  {
   "cell_type": "markdown",
   "metadata": {},
   "source": [
    "---\n",
    "#### Access items of a list\n",
    "\n",
    "   ##### _***1.Index Operator***_\n",
    "\n",
    "An index operator ([ ]) can be used to access the elements of a list. Index starts with 0 and must be an integer. If you access the index number out of the range it will cause <font color=red>IndexError</font>; if you use float or other types, it will cause <font color=red>TypeError</font> will occur.\n"
   ]
  },
  {
   "cell_type": "code",
   "execution_count": 101,
   "metadata": {},
   "outputs": [
    {
     "name": "stdout",
     "output_type": "stream",
     "text": [
      "E\n",
      "e\n",
      "e\n",
      "e\n",
      "16\n"
     ]
    }
   ],
   "source": [
    "mylst = ['E','n','g','i','n','e','e','r','i','n','g']\n",
    "\n",
    "print(mylst[0])\n",
    "print(mylst[5])\n",
    "print(mylst[-5])\n",
    "\n",
    "#mylst[1.0]       #TypeError ! only integer can be used \n",
    "\n",
    "nested = [\"Squares\", [4,9,16,25]] # Nested List\n",
    "print(nested[0][5])    \n",
    "print(nested[1][2])\n",
    "\n"
   ]
  },
  {
   "cell_type": "markdown",
   "metadata": {},
   "source": [
    "##### _***2.Slice Operator***_\n",
    "\n",
    "We can also access the elemts of a list by slicing operator.\n"
   ]
  },
  {
   "cell_type": "code",
   "execution_count": null,
   "metadata": {},
   "outputs": [],
   "source": [
    "slc = ['t','r','a','n','s','f','o','r','m','e','r','s']\n",
    "\n",
    "print(my_list[:]) # elements beginning to end\n",
    "print(my_list[5:11]) # elements 5th to 11th\n",
    "print(my_list[:-5]) # elements beginning to 4th\n",
    "print(my_list[4:]) # elements 5th to end\n"
   ]
  },
  {
   "cell_type": "markdown",
   "metadata": {},
   "source": [
    "As differs from strings, the elements of lists can be changed which means they are mutable."
   ]
  },
  {
   "cell_type": "code",
   "execution_count": null,
   "metadata": {},
   "outputs": [],
   "source": [
    "\n",
    "sqr = [4, 9, 16, 25, 36, 49]\n",
    "\n",
    "sqr[0] = ('2x2')            # change the 1st item   \n",
    "sqr[1:-3] = ['3x3', '4x4']  # change 2nd to 3rd items        \n",
    "\n",
    "sqr.append(7) # adds new item to the end of the list\n",
    "sqr.extend([100, 121, 144])\n",
    "sqr.insert(1,3)\n",
    "sqr[3:3] = [64, 91]\n",
    "print(sqr.index(8))\n",
    "print(sqr.count(8))\n",
    "sqr.sort()\n",
    "sqr.reverse()\n",
    "\n",
    "print(sqr)\n",
    "del sqr[3]    # delete one specific item\n",
    "del sqr[4:9]  # delete multiple items from the list\n",
    "del sqr       # delete entire list\n",
    "sqr.remove('3x3') # remove the given item\n",
    "sqr.clear()\n",
    "sqr[2:3] = []\n",
    "# if index is not specified in pop() it removes and returns the last item\n",
    "print(sqr.pop()) # provides first in, last out data structure\n",
    "print(sqr.pop(3)) # remove an item at the given index\n",
    "\n",
    "# We can also use ' + ' operator to join two lists. \n",
    "# This is also called concatenation as mentoned above.\n",
    "print(sqr + [169])\n",
    "\n",
    "\n",
    "# The * operator repeats a list for the given number of times.\n",
    "print(sqr * 2)\n",
    "\n",
    "# Lets check if an item is in the list or not\n",
    "chk = ['n','e','o']\n",
    "print('n' in my_list)\n",
    "print('a' in my_list)\n",
    "print('k' not in my_list)"
   ]
  },
  {
   "cell_type": "markdown",
   "metadata": {},
   "source": [
    "---\n",
    "## Tuple\n",
    "\n",
    "A tuple is a collection which is similar to a list. The elements of a tuple is ordered and unchangeable while, in a list, elements can be changed. A Tuple is written with round brackets \"( )\", separated by commas. A tuple item may be any type (float, string, integer, list etc.) and have any number.\n"
   ]
  },
  {
   "cell_type": "code",
   "execution_count": null,
   "metadata": {},
   "outputs": [],
   "source": [
    "tpl = ()          # create empty tuple\n",
    "tpl = (1, 2, 3)  # having integers\n",
    "tpl = (3.14, \"pi\", (22/7)) # tuple of different datatypes\n",
    "\n",
    "tpl = (\"week\",[2,4,6],(1,2,3)) # nested tuple\n",
    "\n",
    "#A tuple created without parenthesis called tuple packing.\n",
    "\n",
    "tpl2 = 3.14, (22/7), \"pi\"\n",
    "\n",
    "\n",
    "a, b, c = tpl2    # unpacking tuple\n",
    "\n",
    "print(a)      \n",
    "print(b)      \n",
    "print(c)      \n"
   ]
  },
  {
   "cell_type": "markdown",
   "metadata": {},
   "source": [
    "#### Access items of a tuple\n",
    "\n",
    "##### _***1.Index Operator***_\n",
    "\n",
    "An index operator ([ ]) can be used to access the elements of a list. Index starts with 0 and must be an integer. If you access the index number out of the range it will cause <font color=red>IndexError</font>; if you use float or other types, it will cause <font color=red>TypeError</font> will occur."
   ]
  },
  {
   "cell_type": "code",
   "execution_count": null,
   "metadata": {},
   "outputs": [],
   "source": [
    "mytpl = ('E','n','g','i','n','e','e','r','i','n','g')\n",
    "\n",
    "print(mytpl[0])\n",
    "print(mytpl[5])\n",
    "print(mytpl[-5])\n",
    "\n",
    "#mytpl[1.0]          #TypeError ! only integer can be used \n",
    "\n",
    "nested = (\"Squares\", [4,9,16,25]) # Nested List\n",
    "print(nested[0][5])    \n",
    "print(nested[1][2])"
   ]
  },
  {
   "cell_type": "markdown",
   "metadata": {},
   "source": [
    "##### _***2.Slice Operator***_\n",
    "\n",
    "We can also access the elemts of a list by slicing operator.\n"
   ]
  },
  {
   "cell_type": "code",
   "execution_count": null,
   "metadata": {},
   "outputs": [],
   "source": [
    "slc = ('t','r','a','n','s','f','o','r','m','e','r','s')\n",
    "\n",
    "print(mytpl[:]) # elements beginning to end\n",
    "print(mytpl[5:11]) # elements 5th to 11th\n",
    "print(mytpl[:-5]) # elements beginning to 4th\n",
    "print(mytpl[4:]) # elements 5th to end \n"
   ]
  },
  {
   "cell_type": "code",
   "execution_count": null,
   "metadata": {},
   "outputs": [],
   "source": [
    "# A tuple can be assigned to a different item called reassignment.\n",
    "\n",
    "mytpl = (4, 9, 16, [64, 81])\n",
    "\n",
    "mytpl[1] = 5 # TypeError : 'tuple' object does not support item assignment\n",
    "mytpl[2][0] = 1  #mutable element item can be changed\n",
    "\n",
    "mytpl = ('s','p','i','d','e','r') # reassigned\n"
   ]
  },
  {
   "cell_type": "code",
   "execution_count": null,
   "metadata": {},
   "outputs": [],
   "source": [
    "# We can also use ' + ' operator to join two lists. \n",
    "# This is also called concatenation as mentoned above.\n",
    "print((1, 2, 3) + (4, 5, 6))\n",
    "\n",
    "# The * operator repeats a list for the given number of times.\n",
    "print('money' * 3)"
   ]
  },
  {
   "cell_type": "markdown",
   "metadata": {},
   "source": [
    "---\n",
    "## Dictionary\n",
    "\n",
    "A dictionary in the Python is an unordered, changable and indexed collection of items, which are written by curly brackets {}. A dicionary is a composition of key:value pairs. Each key has to retrieve a specific value.\n"
   ]
  },
  {
   "cell_type": "code",
   "execution_count": null,
   "metadata": {},
   "outputs": [],
   "source": [
    "# Create and print a dictionary:\n",
    "\n",
    "earthquake = {\n",
    "  \"location\": \"Elazig\",\n",
    "  \"magnitude\": \"6.8\",\n",
    "  \"year\": 2020,\n",
    "  \"month\":\"January\"  \n",
    "}\n",
    "print(earthquake)\n",
    "\n",
    "# to access the items of the dictionary refer its key name.\n",
    "\n",
    "x = earthquake[\"location\"]\n",
    "#,or,\n",
    "x = earthquake.get(\"year\")\n",
    "\n",
    "#change values of specific item;\n",
    "earthquake[\"location\"] = \"Sivrice-Elazig\"\n",
    "\n",
    "print(len(earthquake))   # gives number of the items in dictionary\n",
    "\n",
    "earthquake[\"depth\"] = 16  # adding new item to the dictionary\n",
    "\n",
    "# Ways to remove items from the dictionary;\n",
    "earthquake.pop(\"location\")  # removes the item with the specified key name\n",
    "earthquake.popitem()        # removes the last inserted item\n",
    "del earthquake[\"month\"]     # removes the item with the specified key name\n",
    "newdict = earthquake.copy() # copies the dictionary\n",
    "earthquake.clear()          # empties the dictionar\n"
   ]
  },
  {
   "cell_type": "markdown",
   "metadata": {},
   "source": [
    "---\n",
    "## Arrays\n",
    "\n",
    "We defined a dictionary for an earthquake with its specified features or items. Lets assume that we have thousands of earthquakes listed with different values (for example; magnitude ranges between 3 to 7, depth changes between 5km to 20 km. etc.) To access the specified eartquke, or group of earthquakes we can use arrays in Python.\n",
    "\n",
    "Arrays are used to store multiple values in a single variable."
   ]
  },
  {
   "cell_type": "code",
   "execution_count": null,
   "metadata": {},
   "outputs": [],
   "source": [
    "#Lets assign range of magnitudes to a key;\n",
    "\n",
    "cars = [\"Ford\", \"Volvo\", \"BMW\"]  # single key can hold multiple variable.\n"
   ]
  },
  {
   "cell_type": "code",
   "execution_count": 63,
   "metadata": {},
   "outputs": [
    {
     "ename": "SyntaxError",
     "evalue": "invalid syntax (<ipython-input-63-b93527db3024>, line 7)",
     "output_type": "error",
     "traceback": [
      "\u001b[0;36m  File \u001b[0;32m\"<ipython-input-63-b93527db3024>\"\u001b[0;36m, line \u001b[0;32m7\u001b[0m\n\u001b[0;31m    Get the value of the first array item:\u001b[0m\n\u001b[0m          ^\u001b[0m\n\u001b[0;31mSyntaxError\u001b[0m\u001b[0;31m:\u001b[0m invalid syntax\n"
     ]
    }
   ],
   "source": [
    "cars = [\"Ford\", \"Volvo\", \"BMW\"]\n",
    "car1 = \"Ford\"\n",
    "car2 = \"Volvo\"\n",
    "car3 = \"BMW\"\n",
    "\n",
    "Example\n",
    "Get the value of the first array item:\n",
    "\n",
    "x = cars[0]\n",
    "\n",
    "Example\n",
    "Modify the value of the first array item:\n",
    "\n",
    "cars[0] = \"Toyota\"\n",
    "\n",
    "The Length of an Array\n",
    "Use the len() method to return the length of an array (the number of elements in an array).\n",
    "\n",
    "Example\n",
    "Return the number of elements in the cars array:\n",
    "\n",
    "x = len(cars)\n",
    "\n",
    "Adding Array Elements\n",
    "You can use the append() method to add an element to an array.\n",
    "\n",
    "Example\n",
    "Add one more element to the cars array:\n",
    "\n",
    "cars.append(\"Honda\")\n",
    "\n",
    "Removing Array Elements\n",
    "You can use the pop() method to remove an element from the array.\n",
    "\n",
    "Example\n",
    "Delete the second element of the cars array:\n",
    "\n",
    "cars.pop(1)\n",
    "You can also use the remove() method to remove an element from the array.\n",
    "\n",
    "Example\n",
    "Delete the element that has the value \"Volvo\":\n",
    "\n",
    "cars.remove(\"Volvo\")\n"
   ]
  },
  {
   "cell_type": "code",
   "execution_count": null,
   "metadata": {},
   "outputs": [],
   "source": []
  }
 ],
 "metadata": {
  "kernelspec": {
   "display_name": "Python 3",
   "language": "python",
   "name": "python3"
  },
  "language_info": {
   "codemirror_mode": {
    "name": "ipython",
    "version": 3
   },
   "file_extension": ".py",
   "mimetype": "text/x-python",
   "name": "python",
   "nbconvert_exporter": "python",
   "pygments_lexer": "ipython3",
   "version": "3.6.8"
  }
 },
 "nbformat": 4,
 "nbformat_minor": 4
}
