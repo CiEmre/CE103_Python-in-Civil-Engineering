{
 "cells": [
  {
   "cell_type": "markdown",
   "metadata": {},
   "source": [
    "### CE 103- INTRODUCTION TO COMPUTERS and PROGRAMMING"
   ]
  },
  {
   "cell_type": "markdown",
   "metadata": {},
   "source": [
    "# Week 13 _ In Class Assigment I\n",
    "\n",
    "\n",
    "Dear students, \n",
    "\n",
    "You have a week to complete your first In Class assignment. You will be working as teams, please be sure that all of you as a team member spend same effort for this assignment. \n",
    "\n",
    "Please follow the intructions below and do not  hesitate to ask question, if any, during your process. \n",
    "\n",
    "1 - Download the \"Sensor Record\" application to your Android cell phones.\n",
    "\n",
    "![](./Figures/sensorrecord.png)\n",
    "\n",
    "\n",
    "2 - Run the application and select 'Accelerometer' to record data. This application will record your data and will save it as file in \".csv\" format. \n",
    "\n",
    "\n",
    "3 - Stand up and hold your phone tight in your hand. Withput rotating your hand, slowly make a pendulum action (minimum 3 seconds period) with arm by moving  back and forth. Do repeat this movement at least for 30 seconds. \n",
    "\n",
    "![](./Figures/swinging_arm.png)\n",
    "\n",
    "\n",
    "4 - Transfer the movement record data to your PC. Analyse the data and plot time series figure. Calculate and plot the magnitude of your pendulum movement. \n",
    "\n",
    "**_Hints:_** \n",
    "\n",
    "a. Remember the theoritical information from CE105 course.\n",
    "\n",
    "b. You may want to read the reference paper below to get help in detail : https://www.researchgate.net/publication/313164057_Step_Counting_Using_Smartphone_Accelerometer_and_Fast_Fourier_Trransform\n",
    "\n"
   ]
  },
  {
   "cell_type": "markdown",
   "metadata": {},
   "source": [
    "---"
   ]
  }
 ],
 "metadata": {
  "kernelspec": {
   "display_name": "Python 3",
   "language": "python",
   "name": "python3"
  },
  "language_info": {
   "codemirror_mode": {
    "name": "ipython",
    "version": 3
   },
   "file_extension": ".py",
   "mimetype": "text/x-python",
   "name": "python",
   "nbconvert_exporter": "python",
   "pygments_lexer": "ipython3",
   "version": "3.6.8"
  }
 },
 "nbformat": 4,
 "nbformat_minor": 4
}
