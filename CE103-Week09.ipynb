{
 "cells": [
  {
   "cell_type": "markdown",
   "metadata": {},
   "source": [
    "### CE 103- INTRODUCTION TO COMPUTERS and PROGRAMMING"
   ]
  },
  {
   "cell_type": "markdown",
   "metadata": {},
   "source": [
    "### _The topics of the week !_\n",
    "\n",
    "- I/O Functions\n",
    "    - File Input / Output\n",
    "    - Open / Close Files\n",
    "    - _File_ Object Attributes\n",
    "    - Reading and Writing Files\n",
    "    - Directories \n",
    "    \n",
    "We will learn about file opretions such as opening a file, reading from it, writing to it, closing it. \n",
    "Lets start with basic screen output command \"print\" before go in details with file operations."
   ]
  },
  {
   "cell_type": "code",
   "execution_count": 1,
   "metadata": {},
   "outputs": [
    {
     "name": "stdout",
     "output_type": "stream",
     "text": [
      "1 , 2 , 3 , 4 ! "
     ]
    }
   ],
   "source": [
    "print(1, 2, 3, 4, sep=' , ', end=' ! ')"
   ]
  },
  {
   "cell_type": "code",
   "execution_count": 2,
   "metadata": {},
   "outputs": [
    {
     "name": "stdout",
     "output_type": "stream",
     "text": [
      "Success is not a destination, it's a journey\n"
     ]
    }
   ],
   "source": [
    "# Lets start with simplest i/o function\n",
    "print('Success is not a destination, it\\'s a journey')"
   ]
  },
  {
   "cell_type": "code",
   "execution_count": 3,
   "metadata": {},
   "outputs": [
    {
     "name": "stdout",
     "output_type": "stream",
     "text": [
      "Success is not a DESTINATION, it's a JOURNEY\n"
     ]
    }
   ],
   "source": [
    "print('Success is not a {}, it\\'s a {}'.format('DESTINATION','JOURNEY'))"
   ]
  },
  {
   "cell_type": "code",
   "execution_count": 4,
   "metadata": {},
   "outputs": [
    {
     "name": "stdout",
     "output_type": "stream",
     "text": [
      "Success is not a DESTINATION, it's a JOURNEY\n"
     ]
    }
   ],
   "source": [
    "print(f\"Success is not a {'DESTINATION'}, it\\'s a {'JOURNEY'}\")"
   ]
  },
  {
   "cell_type": "code",
   "execution_count": 5,
   "metadata": {},
   "outputs": [
    {
     "name": "stdout",
     "output_type": "stream",
     "text": [
      "S\n",
      "u\n",
      "c\n",
      "c\n",
      "e\n",
      "s\n",
      "s\n"
     ]
    }
   ],
   "source": [
    "for i in 'Success':\n",
    "    print(i)"
   ]
  },
  {
   "cell_type": "markdown",
   "metadata": {},
   "source": [
    "#### Read a line of text from standard **_input_** comes from the keyboard\n"
   ]
  },
  {
   "cell_type": "code",
   "execution_count": 6,
   "metadata": {},
   "outputs": [
    {
     "name": "stdin",
     "output_type": "stream",
     "text": [
      " I LOVE PYTHON, PYTHON LOVES ME :)\n"
     ]
    },
    {
     "data": {
      "text/plain": [
       "'I LOVE PYTHON, PYTHON LOVES ME :)'"
      ]
     },
     "execution_count": 6,
     "metadata": {},
     "output_type": "execute_result"
    }
   ],
   "source": [
    "input()     # ask a user for some text input"
   ]
  },
  {
   "cell_type": "code",
   "execution_count": 8,
   "metadata": {},
   "outputs": [
    {
     "name": "stdin",
     "output_type": "stream",
     "text": [
      "Write your guess as \"Heads\" or \"Tails\" Tails\n"
     ]
    },
    {
     "name": "stdout",
     "output_type": "stream",
     "text": [
      "Your guess is Tails\n"
     ]
    }
   ],
   "source": [
    "str = input(\"Write your guess as \\\"Heads\\\" or \\\"Tails\\\"\")\n",
    "print(\"Your guess is\", str)"
   ]
  },
  {
   "cell_type": "markdown",
   "metadata": {},
   "source": [
    "### The Conversion Component\n",
    "\n",
    "As default, .format() method uses string which may be challenged by using **\" coversion \"** component."
   ]
  },
  {
   "cell_type": "code",
   "execution_count": 9,
   "metadata": {},
   "outputs": [
    {
     "data": {
      "text/plain": [
       "'11'"
      ]
     },
     "execution_count": 9,
     "metadata": {},
     "output_type": "execute_result"
    }
   ],
   "source": [
    "#'%d' % 11         # defines digit \n",
    "'{:d}'.format(11) "
   ]
  },
  {
   "cell_type": "code",
   "execution_count": 10,
   "metadata": {},
   "outputs": [
    {
     "data": {
      "text/plain": [
       "'22.000000'"
      ]
     },
     "execution_count": 10,
     "metadata": {},
     "output_type": "execute_result"
    }
   ],
   "source": [
    "'%f' % 22         # defines float \n",
    "# '{:f}'.format(22)"
   ]
  },
  {
   "cell_type": "code",
   "execution_count": 11,
   "metadata": {},
   "outputs": [
    {
     "data": {
      "text/plain": [
       "'foobar'"
      ]
     },
     "execution_count": 11,
     "metadata": {},
     "output_type": "execute_result"
    }
   ],
   "source": [
    "'%s' % 'foobar'    # defines string \n",
    "# '{:s}'.format('foobar')"
   ]
  },
  {
   "cell_type": "code",
   "execution_count": 12,
   "metadata": {},
   "outputs": [
    {
     "data": {
      "text/plain": [
       "'101001101'"
      ]
     },
     "execution_count": 12,
     "metadata": {},
     "output_type": "execute_result"
    }
   ],
   "source": [
    "'{:b}'.format(333)  # binary integer conversion\n"
   ]
  },
  {
   "cell_type": "code",
   "execution_count": 13,
   "metadata": {},
   "outputs": [
    {
     "data": {
      "text/plain": [
       "'!'"
      ]
     },
     "execution_count": 13,
     "metadata": {},
     "output_type": "execute_result"
    }
   ],
   "source": [
    "'%c' % 33    # refers specific character"
   ]
  },
  {
   "cell_type": "code",
   "execution_count": 14,
   "metadata": {},
   "outputs": [
    {
     "data": {
      "text/plain": [
       "'3.14159'"
      ]
     },
     "execution_count": 14,
     "metadata": {},
     "output_type": "execute_result"
    }
   ],
   "source": [
    "'{:g}'.format(3.14159)  # g conversion chooses floating point or exponential as output "
   ]
  },
  {
   "cell_type": "code",
   "execution_count": 15,
   "metadata": {},
   "outputs": [
    {
     "data": {
      "text/plain": [
       "'-1.23457e+08'"
      ]
     },
     "execution_count": 15,
     "metadata": {},
     "output_type": "execute_result"
    }
   ],
   "source": [
    "'{:g}'.format(-123456789.8765)"
   ]
  },
  {
   "cell_type": "markdown",
   "metadata": {},
   "source": [
    "---\n",
    "# File processing operations\n",
    "\n",
    "File is storage on the disk at specific location with specially named. It stores data for future use. In Python, file has to be opened first in order to write or read it and needs to be closed, when the related process finished.\n",
    "\n",
    "**_\"os\"_** module provides file-processing operations "
   ]
  },
  {
   "cell_type": "code",
   "execution_count": 16,
   "metadata": {},
   "outputs": [],
   "source": [
    "import os"
   ]
  },
  {
   "cell_type": "code",
   "execution_count": 81,
   "metadata": {},
   "outputs": [],
   "source": [
    "# lets create an empty file in python\n",
    "open('empty.txt', 'a').close()\n",
    "\n",
    "# rename a file\n",
    "os.rename(\"empty.txt\", \"empty_new.txt\")  # (old_filename, new_filename)\n",
    "os.remove(\"empty_new\")              # delete a file\n",
    "os.mkdir(\"Data_Output\")    # create a new directory\n",
    "os.chdir(\"Data_Input\")     # change current directory\n",
    "os.getcwd()                # path of current directory\n",
    "os.rmdir(\"Data_Output\")    # delete directory"
   ]
  },
  {
   "cell_type": "markdown",
   "metadata": {},
   "source": [
    "### _Character Encoding in Python_\n",
    "\n",
    "There are tens of available encodings in Python, while ASCII is one of the basics and simplest one. Default encoding is \"utf-8\"."
   ]
  },
  {
   "cell_type": "markdown",
   "metadata": {},
   "source": [
    "## The **_open()_** function\n",
    "\n",
    "Its a file object and generally used with two arguments as _(filename, mode). \n",
    "The \"filename\" argument refers to the filename itself as a string, \"mode\" argument is also a string which contains 'r', 'w', 'a' or 'r+'.\n",
    "    \n",
    "    - r : the file will only be read (default)\n",
    "    - t : opens in text mode (default)\n",
    "    - w : the file opens for only writing (an existing file with the same name will be erased)\n",
    "    - a : opens the file for appending\n",
    "    - + : opens the file for updating (reading and writing)\n",
    "    - b : opens the file in binary mode\n",
    "    \n",
    "To create a new file, use open() method with parameter \"x\" (for a non existing file), \"a\" or \"w\" (creates a file if it is not exist).\n",
    "\n",
    "    - \"a\" will append to the end of the existing file\n",
    "    - \"w\" will overwrite any existing file"
   ]
  },
  {
   "cell_type": "code",
   "execution_count": 18,
   "metadata": {},
   "outputs": [
    {
     "data": {
      "text/plain": [
       "<function TextIOWrapper.close()>"
      ]
     },
     "execution_count": 18,
     "metadata": {},
     "output_type": "execute_result"
    }
   ],
   "source": [
    "f = open('filename', 'w', encoding = 'utf-8')   # opens the file only for writing\n",
    "f.close       # necessery to free-up system resources"
   ]
  },
  {
   "cell_type": "code",
   "execution_count": 19,
   "metadata": {},
   "outputs": [
    {
     "data": {
      "text/plain": [
       "'w'"
      ]
     },
     "execution_count": 19,
     "metadata": {},
     "output_type": "execute_result"
    }
   ],
   "source": [
    "f.mode      # get the mode of file as write, read, append etc."
   ]
  },
  {
   "cell_type": "code",
   "execution_count": 20,
   "metadata": {},
   "outputs": [
    {
     "data": {
      "text/plain": [
       "'filename'"
      ]
     },
     "execution_count": 20,
     "metadata": {},
     "output_type": "execute_result"
    }
   ],
   "source": [
    "f.name      # print the file name"
   ]
  },
  {
   "cell_type": "code",
   "execution_count": 21,
   "metadata": {},
   "outputs": [
    {
     "data": {
      "text/plain": [
       "<function TextIOWrapper.tell()>"
      ]
     },
     "execution_count": 21,
     "metadata": {},
     "output_type": "execute_result"
    }
   ],
   "source": [
    "f.tell      # get the current file position"
   ]
  },
  {
   "cell_type": "code",
   "execution_count": 22,
   "metadata": {},
   "outputs": [
    {
     "data": {
      "text/plain": [
       "0"
      ]
     },
     "execution_count": 22,
     "metadata": {},
     "output_type": "execute_result"
    }
   ],
   "source": [
    "f.seek(0)     # bring file cursor to initial position"
   ]
  },
  {
   "cell_type": "code",
   "execution_count": 23,
   "metadata": {},
   "outputs": [
    {
     "data": {
      "text/plain": [
       "True"
      ]
     },
     "execution_count": 23,
     "metadata": {},
     "output_type": "execute_result"
    }
   ],
   "source": [
    "with open('filename') as f:\n",
    "    inp_data = f.read()\n",
    "f.closed       # not necessery to run close() "
   ]
  },
  {
   "cell_type": "code",
   "execution_count": 24,
   "metadata": {},
   "outputs": [
    {
     "ename": "ValueError",
     "evalue": "I/O operation on closed file.",
     "output_type": "error",
     "traceback": [
      "\u001b[0;31m---------------------------------------------------------------------------\u001b[0m",
      "\u001b[0;31mValueError\u001b[0m                                Traceback (most recent call last)",
      "\u001b[0;32m<ipython-input-24-0c338dd08f3b>\u001b[0m in \u001b[0;36m<module>\u001b[0;34m\u001b[0m\n\u001b[1;32m      1\u001b[0m \u001b[0;31m# if a file object is closed, file object will fail automatically\u001b[0m\u001b[0;34m\u001b[0m\u001b[0;34m\u001b[0m\u001b[0;34m\u001b[0m\u001b[0m\n\u001b[0;32m----> 2\u001b[0;31m \u001b[0mf\u001b[0m\u001b[0;34m.\u001b[0m\u001b[0mread\u001b[0m\u001b[0;34m(\u001b[0m\u001b[0;34m)\u001b[0m   \u001b[0;31m# will occur error message as below\u001b[0m\u001b[0;34m\u001b[0m\u001b[0;34m\u001b[0m\u001b[0m\n\u001b[0m",
      "\u001b[0;31mValueError\u001b[0m: I/O operation on closed file."
     ]
    }
   ],
   "source": [
    "# if a file object is closed, file object will fail automatically\n",
    "f.read()   # will occur error message as below"
   ]
  },
  {
   "cell_type": "code",
   "execution_count": 25,
   "metadata": {},
   "outputs": [
    {
     "data": {
      "text/plain": [
       "44"
      ]
     },
     "execution_count": 25,
     "metadata": {},
     "output_type": "execute_result"
    }
   ],
   "source": [
    "# f.write() writes string contents to the file and counts the number of characters\n",
    "# use \"\\n\" at the end of the line to continue with next line\n",
    "\n",
    "f = open('filename', 'w')   # lets open the file for read and write\n",
    "\n",
    "f.write('Lets write some words in the FIRST line of a file.\\n')\n",
    "f.write('This could be the SECOND line. Am I right?.\\n') "
   ]
  },
  {
   "cell_type": "code",
   "execution_count": 26,
   "metadata": {},
   "outputs": [
    {
     "name": "stdout",
     "output_type": "stream",
     "text": [
      "Name of the file is filename\n"
     ]
    }
   ],
   "source": [
    "f = open('filename', 'r')\n",
    "output = f.read()\n",
    "print(\"Name of the file is\", f.name)"
   ]
  },
  {
   "cell_type": "code",
   "execution_count": 27,
   "metadata": {},
   "outputs": [
    {
     "name": "stdout",
     "output_type": "stream",
     "text": [
      "\n"
     ]
    }
   ],
   "source": [
    "f = open('filename', 'a+')   # lets open the file for append)\n",
    "f.write('3rd Line\\n')\n",
    "f.write('4th Line\\n')\n",
    "f.write('5th Line\\n')\n",
    "line = f.readline()\n",
    "\n",
    "print (line) # did not append anything to the file yet !!"
   ]
  },
  {
   "cell_type": "code",
   "execution_count": 28,
   "metadata": {},
   "outputs": [
    {
     "name": "stdout",
     "output_type": "stream",
     "text": [
      "Lets write some words in the FIRST line of a file.\n",
      "\n",
      "This could be the SECOND line. Am I right?.\n",
      "\n",
      "3rd Line\n",
      "\n",
      "4th Line\n",
      "\n",
      "5th Line\n",
      "\n"
     ]
    }
   ],
   "source": [
    "#lets write a loop to read lines seperatelly\n",
    "f = open('filename', 'r')\n",
    "\n",
    "for line in f:\n",
    "    print(line)\n",
    "    \n",
    "f.close()"
   ]
  },
  {
   "cell_type": "markdown",
   "metadata": {},
   "source": [
    "### _Using_ **_read()_** _method to read the content of a file_\n",
    "\n",
    "\n",
    "\n"
   ]
  },
  {
   "cell_type": "code",
   "execution_count": 29,
   "metadata": {},
   "outputs": [
    {
     "name": "stdout",
     "output_type": "stream",
     "text": [
      "H\n",
      "ello from the other side\n",
      "\n",
      "I must've called a thousand times\n",
      "\n"
     ]
    }
   ],
   "source": [
    "f = open(\"Data_Input/Hello.txt\", \"r\")\n",
    "\n",
    "#print(f.read())       # reads complete file\n",
    "print(f.read(1))    # reads only first 100 characters of the file\n",
    "print(f.readline())   # reads one line of the file\n",
    "print(f.readline())   # reads first two lines by calling it twise"
   ]
  },
  {
   "cell_type": "code",
   "execution_count": 30,
   "metadata": {},
   "outputs": [
    {
     "name": "stdout",
     "output_type": "stream",
     "text": [
      "Hello from the other side\n",
      "Hello from the other side\n",
      "\n",
      "I must've called a thousand times\n",
      "I must've called a thousand times\n",
      "\n"
     ]
    }
   ],
   "source": [
    "f = open(\"Data_Input/Hello.txt\", \"r\")\n",
    "for i in f:\n",
    "    print(i * 2) "
   ]
  },
  {
   "cell_type": "markdown",
   "metadata": {},
   "source": [
    "## The **_write()_** function\n",
    "\n",
    "It writes a string \"str\" to the file, unless flush() or close() method is called, the string may not show up in the file. "
   ]
  },
  {
   "cell_type": "code",
   "execution_count": 31,
   "metadata": {},
   "outputs": [
    {
     "name": "stdout",
     "output_type": "stream",
     "text": [
      "File name is write.txt\n"
     ]
    }
   ],
   "source": [
    "f = open(\"write.txt\", \"w+\")\n",
    "print (\"File name is\", f.name)\n",
    "\n",
    "\n",
    "line1 = (\"lets write something for line 1.\\n\") \n",
    "line = f.write(line1)\n",
    "\n",
    "addline = [\"lets write something for line 2.\\n\", \"third line.\\n\", \"4th line.\\n\"] \n",
    "newline = f.writelines(addline)"
   ]
  },
  {
   "cell_type": "code",
   "execution_count": 32,
   "metadata": {},
   "outputs": [
    {
     "name": "stdout",
     "output_type": "stream",
     "text": [
      "\n",
      "\n",
      "\n",
      "\n"
     ]
    }
   ],
   "source": [
    "f = open(\"Data_Input/write.txt\", \"r\")\n",
    "for i in range(4):\n",
    "   newline = f.readline()\n",
    "   print(newline)\n",
    "\n",
    "f.close()"
   ]
  },
  {
   "cell_type": "markdown",
   "metadata": {},
   "source": [
    "---\n",
    "## I/O functions for CSV files\n",
    "\n",
    "A CSV(Comma Seperated Value) is a plain teext document in a scpecific format using commas to seperate the values. It is a usefull format for import and export datasheets divided by commas. Python has csv module to read this specific type of file format. "
   ]
  },
  {
   "cell_type": "code",
   "execution_count": 37,
   "metadata": {},
   "outputs": [
    {
     "name": "stdout",
     "output_type": "stream",
     "text": [
      "['\\ufeff|||Sütunlar||||||||||||']\n",
      "['Satırlar|||Türkiye-TR||||||||||||']\n",
      "['|||01-Ocak|02-Şubat|03-Mart|04-Nisan|05-Mayıs|06-Haziran|07-Temmuz|08-Ağustos|09-Eylül|10-Ekim|11-Kasım|12-Aralık|']\n",
      "['|||||||||||||||']\n",
      "['İnşaat Faaliyetleri Endeksi (Son 3 Aylık Dönemde)-Mevsim Etkilerinden Arındırılmış-Aylık Değişim Oranı (%)|Ölçüm bazında|2011||-1.94|-1.41|-1.3|-0.78|-0.42|4.13|-2.81|-1.96|2.97|-3.89|4.54|']\n",
      "['||2012|-4.25|-2.19|-4.24|8.31|1.14|1.58|-5.35|0.02|-0.18|-0.98|-4.06|-2.51|']\n",
      "['||2013|1.24|2.89|6.72|-3.98|-2.69|-1.36|2.59|0.29|1.69|-3.96|3.59|-1.79|']\n",
      "['||2014|1.67|-2.32|-1.75|-1.42|-1.13|0.74|-0.54|-0.03|1.12|1.13|2.4|-3.67|']\n",
      "['||2015|1.13|2.75|-0.65|-2.27|2.51|-1.86|-1.67|1.64|-1.93|0.06|1.01|2.93|']\n",
      "['||2016|-0.91|-2.58|7.33|1.78|-10.87|-1.94|9.08|-5.38|5.9|-5.58|-3.13|-4.26|']\n",
      "['||2017|-0.99|2.85|5.95|2.36|6.07|-0.79|-2.51|5.02|-8.0|1.77|-0.04|-0.2|']\n",
      "['||2018|2.07|0.68|-4.58|-3.26|-5.66|-5.17|1.6|-6.81|-18.34|1.73|-4.14|-0.04|']\n",
      "['||2019|-8.57|10.04|7.99|-8.37|-3.7|-3.53|6.6|5.11|7.52|8.46|-0.54|11.17|']\n",
      "['||2020|5.24|6.61|-3.45|-34.07|||||||||']\n",
      "['İnşaat Sektörü Güven Endeksi-Mevsim Etkilerinden Arındırılmış-Aylık Değişim Oranı (%)|Ölçüm bazında|2011||-0.91|-8.45|7.78|0.35|1.08|2.57|-5.64|1.49|0.86|-2.15|1.05|']\n",
      "['||2012|-2.15|-3.03|2.99|2.04|-0.25|-2.18|-1.33|-0.65|1.1|-2.5|-3.42|-2.16|']\n",
      "['||2013|0.63|1.11|6.56|-4.04|0.29|-1.24|-0.21|-0.02|-1.44|3.45|-1.86|-1.31|']\n",
      "['||2014|6.53|-8.04|-3.81|1.62|1.06|0.71|-1.2|3.41|2.42|-2.77|0.5|0.27|']\n",
      "['||2015|-0.49|2.78|-1.39|-2.31|2.96|1.56|-2.56|-0.86|-1.71|-0.46|5.02|0.68|']\n",
      "['||2016|-1.4|-1.31|-1.67|0.14|-2.9|2.23|2.49|-4.24|3.22|-0.82|-6.85|0.53|']\n",
      "['||2017|-1.73|2.12|12.31|-0.18|0.77|0.42|-1.41|3.32|-5.46|0.89|-2.13|-1.03|']\n",
      "['||2018|6.68|-3.69|-5.92|-0.08|-2.06|-2.44|2.44|-10.75|-16.75|2.34|-3.54|-2.14|']\n",
      "['||2019|2.47|-8.74|4.43|-0.27|-7.69|1.32|3.81|6.01|8.35|8.32|-1.94|7.85|']\n",
      "['||2020|14.59|-5.68|3.72|-42.19|||||||||']\n",
      "['|||||||||||||||']\n"
     ]
    }
   ],
   "source": [
    "import csv\n",
    "with open('Data_Input/tuik.csv', mode = 'r') as file:   # opens the csv file\n",
    "    f = csv.reader(file, delimiter = ',')               # reads the csv file with default delimiter ','\n",
    "    for line in f:\n",
    "        print(line)                          # displays lines in csv file"
   ]
  },
  {
   "cell_type": "markdown",
   "metadata": {},
   "source": [
    "### Reading a Specific Line from a File"
   ]
  },
  {
   "cell_type": "code",
   "execution_count": 38,
   "metadata": {},
   "outputs": [
    {
     "name": "stdout",
     "output_type": "stream",
     "text": [
      "I must've called a thousand times\n",
      " written in line number 2\n"
     ]
    }
   ],
   "source": [
    "line_number = 2  # define a specific line number\n",
    "\n",
    "with open(\"Data_Input/Hello.txt\", 'r') as file:\n",
    "    current_line = 1\n",
    "    for line in file:\n",
    "        if current_line == line_number:\n",
    "            print(line, \"written in line number\", line_number)\n",
    "            break\n",
    "        current_line += 1"
   ]
  },
  {
   "cell_type": "code",
   "execution_count": 39,
   "metadata": {},
   "outputs": [
    {
     "name": "stdout",
     "output_type": "stream",
     "text": [
      "I must've called a thousand times\n",
      "\n"
     ]
    }
   ],
   "source": [
    "# using linecache module and getline() method to select a specific line \n",
    "\n",
    "import linecache\n",
    "\n",
    "line = linecache.getline(\"Data_Input/Hello.txt\", 2) # filename and line number defined\n",
    "print (line)\n"
   ]
  },
  {
   "cell_type": "markdown",
   "metadata": {},
   "source": [
    "---\n",
    "## Merge txt files\n",
    "\n",
    "Python has a module _shutil_ for merging two text files and store in a new one."
   ]
  },
  {
   "cell_type": "code",
   "execution_count": 43,
   "metadata": {},
   "outputs": [
    {
     "name": "stdin",
     "output_type": "stream",
     "text": [
      "Merged file name is:  merged\n"
     ]
    },
    {
     "name": "stdout",
     "output_type": "stream",
     "text": [
      "\n",
      "\n",
      " MERGED !\n",
      "View or not?\n"
     ]
    },
    {
     "name": "stdin",
     "output_type": "stream",
     "text": [
      " yes\n"
     ]
    },
    {
     "name": "stdout",
     "output_type": "stream",
     "text": [
      "\n",
      "Hello from the other side\n",
      "I must've called a thousand times\n",
      "\n"
     ]
    }
   ],
   "source": [
    "import shutil\n",
    "   \n",
    "file_1 = (r'Data_Input/Hello.txt') \n",
    "file_2 = (r'Data_Input/write.txt') \n",
    "  \n",
    "merged = input(\"Merged file name is: \") \n",
    "print() \n",
    "  \n",
    "with open(merged, \"w\") as nfile: \n",
    "  \n",
    "    for f in [file_1, file_2]: \n",
    "        with open(f, \"r\") as file: \n",
    "            shutil.copyfileobj(file, nfile) \n",
    "  \n",
    "print(\"\\n MERGED !\") \n",
    "print(\"View or not?\") \n",
    "\n",
    "view = input()    # will read the user input and checks the answer\n",
    "if view == 'n': \n",
    "    exit() \n",
    "else: \n",
    "    print() \n",
    "    f = open(merged, 'r')\n",
    "    print(f.read()) \n",
    "    f.close() "
   ]
  },
  {
   "cell_type": "code",
   "execution_count": 44,
   "metadata": {},
   "outputs": [
    {
     "name": "stdout",
     "output_type": "stream",
     "text": [
      "['Hello from the other side\\n', \"I must've called a thousand times\\n\"]\n",
      "[\"I must've called a thousand times\\n\", 'Hello from the other side\\n']\n"
     ]
    }
   ],
   "source": [
    "with open('Data_Input/Hello.txt', 'r') as reader, open('Data_Input/write.txt', 'w') as writer:\n",
    "    m_file = reader.readlines()\n",
    "    print( m_file )\n",
    "    \n",
    "    new_content = list(reversed(m_file))\n",
    "    print( new_content)"
   ]
  },
  {
   "cell_type": "markdown",
   "metadata": {},
   "source": [
    "---\n",
    "## I/O functions with ZIP files \n",
    "\n",
    "ZIP file is a single file which includes one or more compressed files. ZIP reduces the storage requirements and improves the file transfer speed."
   ]
  },
  {
   "cell_type": "code",
   "execution_count": 47,
   "metadata": {},
   "outputs": [],
   "source": [
    "from zipfile import ZipFile   # the module to study with zip files\n",
    "\n",
    "from shutil import copyfile\n",
    "copyfile('Data_Input/Kusma-GyadiBridge_Nepal.png', 'Data_Input/ZipDir/pic.png' )\n",
    "\n",
    "with ZipFile('Data_Input/ZipDir.zip','w') as z:\n",
    "    z.write('Data_Input/ZipDir.zip')"
   ]
  },
  {
   "cell_type": "code",
   "execution_count": 48,
   "metadata": {},
   "outputs": [
    {
     "data": {
      "text/plain": [
       "['Data_Input/ZipDir.zip']"
      ]
     },
     "execution_count": 48,
     "metadata": {},
     "output_type": "execute_result"
    }
   ],
   "source": [
    "z.namelist()"
   ]
  },
  {
   "cell_type": "code",
   "execution_count": 49,
   "metadata": {},
   "outputs": [
    {
     "name": "stdout",
     "output_type": "stream",
     "text": [
      "File Name                                             Modified             Size\n",
      "Data_Input/ZipDir.zip                          2020-05-05 11:31:20            0\n"
     ]
    }
   ],
   "source": [
    "with ZipFile('Data_Input/ZipDir.zip', 'r') as zipfile:\n",
    "    zipfile.printdir()       # print content of the zip file"
   ]
  },
  {
   "cell_type": "markdown",
   "metadata": {},
   "source": [
    "---\n",
    "## I/O functions with Dictionaries"
   ]
  },
  {
   "cell_type": "code",
   "execution_count": 61,
   "metadata": {},
   "outputs": [
    {
     "name": "stdout",
     "output_type": "stream",
     "text": [
      "'A.A.S.H.T.O - American Association of State Highway Transport\\n'\n"
     ]
    }
   ],
   "source": [
    "# Lets convert a text file into a dictionary\n",
    "\n",
    "with open('Data_Input/civil_abb.txt', 'r') as r:\n",
    "    print(repr(r.readline()))"
   ]
  },
  {
   "cell_type": "code",
   "execution_count": 62,
   "metadata": {},
   "outputs": [],
   "source": [
    "f = open('Data_Input/civil_abb.txt', 'r')\n",
    "answer = {}       # create an empty dictionary\n",
    "for line in f:\n",
    "    key, val = line.strip().split('-')\n",
    "    answer[key.strip()] = val.strip()\n",
    "\n",
    "f.close()"
   ]
  },
  {
   "cell_type": "code",
   "execution_count": 63,
   "metadata": {},
   "outputs": [
    {
     "name": "stdout",
     "output_type": "stream",
     "text": [
      " Block Work\n"
     ]
    }
   ],
   "source": [
    "#print(answer)\n",
    "#print(key)\n",
    "print(val)"
   ]
  },
  {
   "cell_type": "code",
   "execution_count": 64,
   "metadata": {},
   "outputs": [
    {
     "data": {
      "text/plain": [
       "<function dict.values>"
      ]
     },
     "execution_count": 64,
     "metadata": {},
     "output_type": "execute_result"
    }
   ],
   "source": [
    "answer.values   # it is a dictionary"
   ]
  },
  {
   "cell_type": "markdown",
   "metadata": {},
   "source": [
    "#### _A dictionary file can be saved as .csv, .json or .txt_"
   ]
  },
  {
   "cell_type": "code",
   "execution_count": 65,
   "metadata": {},
   "outputs": [
    {
     "name": "stdout",
     "output_type": "stream",
     "text": [
      "['A.A.S.H.T.O ', ' American Association of State Highway Transport']\n",
      "['A.B ', ' Anchor Bolt Or Asbestos Board']\n",
      "['A.C.I ', ' American concrete institute.']\n",
      "['A.R.E.A ', ' American Railway Engineering Association.']\n",
      "['A.S.C ', ' Allowable stress of concrete.']\n",
      "['A.S.T.M ', ' American Society for Testing Materials']\n",
      "['AC ', ' Asphalt Concrete']\n",
      "['AE ', ' Assistant Engineer']\n",
      "['APM ', ' Assistant Project Manager']\n",
      "['B.M ', ' Benchmark']\n",
      "['B.M ', ' Bending moment.']\n",
      "['B.O.F ', ' Bottom Of Foundation']\n",
      "['BHK ', ' Bedroom, Hall, Kitchen']\n",
      "['BLK ', ' Block Work']\n"
     ]
    }
   ],
   "source": [
    "# save as CSV file\n",
    "\n",
    "import csv\n",
    "\n",
    "with open(\"Data_Input/civil_abb.txt\", \"r\") as r:           # read from txt file\n",
    "    reader = csv.reader(r, delimiter=\"-\")\n",
    "    lines = list(reader)\n",
    "\n",
    "with open(\"Data_Input/civil_abb_out.csv\", \"w\") as w:       # write to a csv file with delimeter \",\"\n",
    "    writer = csv.writer(w, delimiter=\",\")\n",
    "    writer.writerows(lines)\n",
    "\n",
    "with open('Data_Input/civil_abb_out.csv', mode = 'r') as file:   # reads the csv file\n",
    "    f = csv.reader(file)                       \n",
    "    for line in f:\n",
    "        print(line) "
   ]
  },
  {
   "cell_type": "code",
   "execution_count": 66,
   "metadata": {},
   "outputs": [
    {
     "data": {
      "text/plain": [
       "{'A.A.S.H.T.O': 'American Association of State Highway Transport',\n",
       " 'A.B': 'Anchor Bolt Or Asbestos Board',\n",
       " 'A.C.I': 'American concrete institute.',\n",
       " 'A.R.E.A': 'American Railway Engineering Association.',\n",
       " 'A.S.C': 'Allowable stress of concrete.',\n",
       " 'A.S.T.M': 'American Society for Testing Materials',\n",
       " 'AC': 'Asphalt Concrete',\n",
       " 'AE': 'Assistant Engineer',\n",
       " 'APM': 'Assistant Project Manager',\n",
       " 'B.M': 'Bending moment.',\n",
       " 'B.O.F': 'Bottom Of Foundation',\n",
       " 'BHK': 'Bedroom, Hall, Kitchen',\n",
       " 'BLK': 'Block Work'}"
      ]
     },
     "execution_count": 66,
     "metadata": {},
     "output_type": "execute_result"
    }
   ],
   "source": [
    "# save as JSON file\n",
    "\n",
    "import json\n",
    "\n",
    "json.dump( answer, open( \"Data_Input/civil_abb_out.json\", 'w' ) )    # Serialize data into file\n",
    "\n",
    "json.load( open( \"Data_Input/civil_abb_out.json\" ) )     # read from file"
   ]
  },
  {
   "cell_type": "markdown",
   "metadata": {},
   "source": [
    "---\n",
    "## JSON for structural data save\n",
    "\n",
    "JSON (JavaScript Object Notation) is a popular data interchangable format. It is a script made of text in a programming language. Python has **_json_** package which is similar with dictionary. This package converts Python objects to JSON objects. So it takes two parameters as dictionary and indent. JSON supports strings, numbers, nested lists so on, which may be very complex datasets. Encoding the JSON is called _serialization_."
   ]
  },
  {
   "cell_type": "code",
   "execution_count": 67,
   "metadata": {},
   "outputs": [],
   "source": [
    "import json \n",
    "  \n",
    "dictionary ={                                    # create a dictionary to convert json object\n",
    "    \"LectureCodes\" : [\"GTU_CE103\",\"GTU_CE105\",\"GTU_CE247\"], \n",
    "    \"Avg_StudentPerLecture\" : 75, \n",
    "    \"NumberOfClass\" : 12, \n",
    "    \"Students\" : [{\"Name/Surname\" : 'Braced Frame',\"age\" : 19}, {\"Name/Surname\" : 'Axial Load',\"age\" : 18}]}\n",
    "  \n",
    "json_file = json.dumps(dictionary, indent = 1)  # converted pythton object to json object (Serializing json)\n",
    "with open(\"Data_Input/class.json\", \"w\") as outfile:         # write a sample json file\n",
    "    outfile.write(json_file) "
   ]
  },
  {
   "cell_type": "code",
   "execution_count": 68,
   "metadata": {},
   "outputs": [
    {
     "name": "stdout",
     "output_type": "stream",
     "text": [
      "{'LectureCodes': ['GTU_CE103', 'GTU_CE105', 'GTU_CE247'], 'Avg_StudentPerLecture': 75, 'NumberOfClass': 12, 'Students': [{'Name/Surname': 'Braced Frame', 'age': 19}, {'Name/Surname': 'Axial Load', 'age': 18}]}\n"
     ]
    }
   ],
   "source": [
    "# to read a json object file\n",
    "\n",
    "with open('Data_Input/class.json', 'r') as j_file:      # open json file\n",
    "    json_file = json.load(j_file)            # reads from jsaon file\n",
    "\n",
    "print(json_file)"
   ]
  },
  {
   "cell_type": "code",
   "execution_count": 69,
   "metadata": {},
   "outputs": [
    {
     "data": {
      "text/plain": [
       "'{\"LectureCodes\": [\"GTU_CE103\", \"GTU_CE105\", \"GTU_CE247\"], \"Avg_StudentPerLecture\": 75, \"NumberOfClass\": 12, \"Students\": [{\"Name/Surname\": \"Braced Frame\", \"age\": 19}, {\"Name/Surname\": \"Axial Load\", \"age\": 18}]}'"
      ]
     },
     "execution_count": 69,
     "metadata": {},
     "output_type": "execute_result"
    }
   ],
   "source": [
    "json.dumps(json_file)"
   ]
  },
  {
   "cell_type": "code",
   "execution_count": 70,
   "metadata": {},
   "outputs": [
    {
     "data": {
      "text/plain": [
       "'{\\n  \"LectureCodes\": [\\n    \"GTU_CE103\",\\n    \"GTU_CE105\",\\n    \"GTU_CE247\"\\n  ],\\n  \"Avg_StudentPerLecture\": 75,\\n  \"NumberOfClass\": 12,\\n  \"Students\": [\\n    {\\n      \"Name/Surname\": \"Braced Frame\",\\n      \"age\": 19\\n    },\\n    {\\n      \"Name/Surname\": \"Axial Load\",\\n      \"age\": 18\\n    }\\n  ]\\n}'"
      ]
     },
     "execution_count": 70,
     "metadata": {},
     "output_type": "execute_result"
    }
   ],
   "source": [
    "json.dumps(json_file, indent=2)   # insert whitespaces "
   ]
  },
  {
   "cell_type": "markdown",
   "metadata": {},
   "source": [
    "---\n",
    "## Download files from web \n",
    "\n",
    "Python has a _requests_ module ti download files from web pages by using URL."
   ]
  },
  {
   "cell_type": "code",
   "execution_count": 71,
   "metadata": {},
   "outputs": [],
   "source": [
    "import requests "
   ]
  },
  {
   "cell_type": "code",
   "execution_count": 73,
   "metadata": {},
   "outputs": [],
   "source": [
    "# lets import an image from GTU Civil Engineering Dept. web page\n",
    "img = requests.get(\"https://travel.home.sndimg.com/content/dam/images/travel/fullset/2014/09/08/de/worlds-most-extreme-101-07.rend.hgtvcom.966.644.suffix/1491584797931.jpeg\")\n",
    "\n",
    "with open(\"Data_Input/Kusma-GyadiBridge_Nepal.png\",'wb') as f:\n",
    "    f.write(img.content)            # writes content of the url in to a file"
   ]
  },
  {
   "cell_type": "code",
   "execution_count": 74,
   "metadata": {},
   "outputs": [],
   "source": [
    "# lets import data in csv format\n",
    "import csv\n",
    "import requests\n",
    "\n",
    "csv_url = 'https://www1.ncdc.noaa.gov/pub/data/cdo/samples/PRECIP_HLY_sample_csv.csv'\n",
    "ali = requests.get(csv_url, stream=True)  # to get the raw socket response from the server\n",
    "\n",
    "with open('Data_Input/eventlist.csv','wb') as w :\n",
    "    w.write(ali.content)"
   ]
  },
  {
   "cell_type": "code",
   "execution_count": 75,
   "metadata": {},
   "outputs": [
    {
     "data": {
      "text/plain": [
       "b'STATION,STATION_NAME,ELEVATION,LATITUDE,LONGITUDE,DATE,HPCP,Measurement Flag,Quality Flag\\nCOOP:310301,ASHEVILLE NC US,682.1,35.5954,-82.5568,20100101 00:00,99999,], \\nCOOP:310301,ASHEVILLE NC US,682.1,35.5954,-82.5568,20100101 01:00,0,g, \\nCOOP:310301,ASHEVILLE NC US,682.1,35.5954,-82.5568,20100102 06:00,1, , \\n'"
      ]
     },
     "execution_count": 75,
     "metadata": {},
     "output_type": "execute_result"
    }
   ],
   "source": [
    "veli = ali.content  # read the content of the server’s response\n",
    "veli"
   ]
  },
  {
   "cell_type": "code",
   "execution_count": 76,
   "metadata": {},
   "outputs": [
    {
     "data": {
      "text/plain": [
       "{'Date': 'Tue, 05 May 2020 11:34:51 GMT', 'Server': 'Apache', 'Strict-Transport-Security': 'max-age=31536000', 'Last-Modified': 'Thu, 09 Aug 2012 18:42:59 GMT', 'ETag': '\"330fb61-136-4c6d998b452c0\"', 'Accept-Ranges': 'bytes', 'Content-Length': '310', 'Content-Type': 'text/csv', 'Access-Control-Allow-Origin': '*', 'Connection': 'close'}"
      ]
     },
     "execution_count": 76,
     "metadata": {},
     "output_type": "execute_result"
    }
   ],
   "source": [
    "ali.headers"
   ]
  },
  {
   "cell_type": "code",
   "execution_count": 77,
   "metadata": {},
   "outputs": [
    {
     "data": {
      "text/plain": [
       "'ascii'"
      ]
     },
     "execution_count": 77,
     "metadata": {},
     "output_type": "execute_result"
    }
   ],
   "source": [
    "ali.apparent_encoding"
   ]
  },
  {
   "cell_type": "code",
   "execution_count": 78,
   "metadata": {},
   "outputs": [
    {
     "name": "stdout",
     "output_type": "stream",
     "text": [
      "STATION,STATION_NAME,ELEVATION,LATITUDE,LONGITUDE,DATE,HPCP,Measurement Flag,Quality Flag\n",
      "COOP:310301,ASHEVILLE NC US,682.1,35.5954,-82.5568,20100101 00:00,99999,], \n",
      "COOP:310301,ASHEVILLE NC US,682.1,35.5954,-82.5568,20100101 01:00,0,g, \n",
      "COOP:310301,ASHEVILLE NC US,682.1,35.5954,-82.5568,20100102 06:00,1, , \n",
      "\n"
     ]
    }
   ],
   "source": [
    "elli = veli.decode('utf-8')\n",
    "print(elli)\n",
    "\n",
    "\n",
    "json_file = json.dumps(elli, indent = 2)  # converted pythton object to json object (Serializing json)\n",
    "with open(\"Data_Input/eventlist.json\", \"w\") as outfile:         # write a sample json file\n",
    "    outfile.write(json_file) "
   ]
  },
  {
   "cell_type": "code",
   "execution_count": 79,
   "metadata": {},
   "outputs": [
    {
     "name": "stdout",
     "output_type": "stream",
     "text": [
      "DATE\n",
      "20100101 00:00\n",
      "20100101 01:00\n",
      "20100102 06:00\n"
     ]
    }
   ],
   "source": [
    "# read specific columns or raws from file\n",
    "\n",
    "with open('Data_Input/eventlist.csv','r') as r:\n",
    "    for line in r:\n",
    "        raws = line.split(',')\n",
    "        #raws = csv.reader(r)\n",
    "        print(raws[5])           # prints 5th column"
   ]
  },
  {
   "cell_type": "markdown",
   "metadata": {},
   "source": [
    "### download JSON file from web"
   ]
  },
  {
   "cell_type": "code",
   "execution_count": 80,
   "metadata": {},
   "outputs": [
    {
     "data": {
      "text/plain": [
       "{'quiz': {'sport': {'q1': {'question': 'Which one is correct team name in NBA?',\n",
       "    'options': ['New York Bulls',\n",
       "     'Los Angeles Kings',\n",
       "     'Golden State Warriros',\n",
       "     'Huston Rocket'],\n",
       "    'answer': 'Huston Rocket'}},\n",
       "  'maths': {'q1': {'question': '5 + 7 = ?',\n",
       "    'options': ['10', '11', '12', '13'],\n",
       "    'answer': '12'},\n",
       "   'q2': {'question': '12 - 8 = ?',\n",
       "    'options': ['1', '2', '3', '4'],\n",
       "    'answer': '4'}}}}"
      ]
     },
     "execution_count": 80,
     "metadata": {},
     "output_type": "execute_result"
    }
   ],
   "source": [
    "get_json = requests.get('https://support.oneskyapp.com/hc/en-us/article_attachments/202761727/example_2.json', stream=True)\n",
    "exp2 = json.loads(get_json.text)\n",
    "type(exp2)\n",
    "exp2"
   ]
  },
  {
   "cell_type": "markdown",
   "metadata": {},
   "source": [
    "---\n",
    "## Homework #9\n",
    "\n",
    "Please follow the instructions below for your first Earthquake Catalog Analysis assignment. \n",
    "\n",
    "   1. Visit the \"http://koeri.boun.edu.tr/sismo/liste.txt\" web page and _\"download\"_ the recent earthquake catalog list in CSV format. \n",
    "   2. Read columns of your file and draw two figures by using \"subplot module\"; one for **\"Time vs ML magnitude\"**, and another one for **\"Time vs Depth(km)\"**.\n",
    "   3. Define a **function** in Python to calculate **\"Distance(km)\"** column for each earthquake._(Distance will be calculated between Gebze Technical University Civil Engineering Department building location (40.8068°N 29.3555°E) and earthquake location in km.)_\n",
    "   4. BONUS : Try to plot a map of the seismic activity _(Seismicity Map)_.\n",
    "\n",
    "\n",
    "*** PS : Do not forget to upload your answer sheets to CE_103 Class on MS Teams.\n"
   ]
  }
 ],
 "metadata": {
  "kernelspec": {
   "display_name": "Python 3",
   "language": "python",
   "name": "python3"
  },
  "language_info": {
   "codemirror_mode": {
    "name": "ipython",
    "version": 3
   },
   "file_extension": ".py",
   "mimetype": "text/x-python",
   "name": "python",
   "nbconvert_exporter": "python",
   "pygments_lexer": "ipython3",
   "version": "3.6.8"
  }
 },
 "nbformat": 4,
 "nbformat_minor": 4
}
