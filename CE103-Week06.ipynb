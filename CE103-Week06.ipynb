{
 "cells": [
  {
   "cell_type": "markdown",
   "metadata": {},
   "source": [
    "### CE 103- INTRODUCTION TO COMPUTERS and PROGRAMMING"
   ]
  },
  {
   "cell_type": "markdown",
   "metadata": {},
   "source": [
    "### _The topics of the week !_\n",
    "\n",
    "- Functions\n",
    "      \n",
    "A function is a code block written to carry out a specified task, which similar with modules. Functions define in the code body, no need to import. They are generally not predefined modules. \n",
    "\n",
    "You can install a new module you need by simply using \"pip\" and call it by using \"import\" command. But you may need more complicated or specific problem to solve, than you may need your own module. \n",
    "\n",
    "With the help of **\"Functions\"**, a program break into smaller codes. So, as your program becomes longer, \"Functions\" help you to manage and organize a readable code. You can all a function more than once.\n",
    "\n",
    "![](./Figures/def_func.png)"
   ]
  },
  {
   "cell_type": "code",
   "execution_count": 1,
   "metadata": {},
   "outputs": [],
   "source": [
    "## SYNTAX ##\n",
    "\n",
    "def function_name( arguments ):\n",
    "   \"function_docstring\"\n",
    "   function_body\n",
    "   return [expression]"
   ]
  },
  {
   "cell_type": "markdown",
   "metadata": {},
   "source": [
    "## _How Functions work in Python?_\n",
    "\n",
    "There are three types of functions in Python;\n",
    "\n",
    "**1. Built-in Functions :** \n",
    "    These functions are always available. No need to import any module. Such as: abs(), bool(), eval(), max(), print(), help(), sum(), type().\n",
    "For the full list of Built-in functions, visit --> https://docs.python.org/3/library/functions.html"
   ]
  },
  {
   "cell_type": "code",
   "execution_count": 2,
   "metadata": {},
   "outputs": [
    {
     "data": {
      "text/plain": [
       "10"
      ]
     },
     "execution_count": 2,
     "metadata": {},
     "output_type": "execute_result"
    }
   ],
   "source": [
    "sum([4,6])"
   ]
  },
  {
   "cell_type": "markdown",
   "metadata": {},
   "source": [
    "**2. Anonymous Functions :**\n",
    "     They are also called \"lambda\" functions, they do not use \"def\" keyword. It has no name.\n",
    "    "
   ]
  },
  {
   "cell_type": "code",
   "execution_count": 3,
   "metadata": {},
   "outputs": [
    {
     "name": "stdout",
     "output_type": "stream",
     "text": [
      "Value of total :  8\n"
     ]
    }
   ],
   "source": [
    "# Syntax -->  lambda [arg1 [,arg2,.....argn]]:expression\n",
    "\n",
    "sum = lambda arg1, arg2: arg1 + arg2;\n",
    "\n",
    "print(\"Value of total : \", sum( 3, 5 ))   # call sum as a function"
   ]
  },
  {
   "cell_type": "code",
   "execution_count": 4,
   "metadata": {},
   "outputs": [
    {
     "data": {
      "text/plain": [
       "81"
      ]
     },
     "execution_count": 4,
     "metadata": {},
     "output_type": "execute_result"
    }
   ],
   "source": [
    "square = lambda x:x**2    # x is argument, x**2 is expression\n",
    "\n",
    "square(9)"
   ]
  },
  {
   "cell_type": "markdown",
   "metadata": {},
   "source": [
    "**3. Used-Defined Functions (UDFs) :**\n",
    "    These are functions that users create by using **_\" def \"_** command. Functions name should be unique. A Function starts with **_\" def \"_** keyword and a colon **_\" (:) \"_** marks the end of header line. They might or might not need multiple inputs, which are called Parameters or Arguments: information that are passed into a function. A parameter is the variable listed inside the paranthesis and Argument is the value that sent to the function. A function should execute the statement defined by user. It ends with **_\" return \"_** statement if it should output something, otherwise, it will return an object None. The **_\" return \"_** statement is also used to exit a function. "
   ]
  },
  {
   "cell_type": "code",
   "execution_count": 5,
   "metadata": {},
   "outputs": [],
   "source": [
    "def function_name(parameters):    \n",
    "    statement(s)                  # is called the body of the function\n",
    "    return"
   ]
  },
  {
   "cell_type": "code",
   "execution_count": 6,
   "metadata": {},
   "outputs": [],
   "source": [
    "# Lets define a square function with UDFs to see the difference between the \"lambda function\".\n",
    "\n",
    "def square(x):\n",
    "    return x**2"
   ]
  },
  {
   "cell_type": "markdown",
   "metadata": {},
   "source": [
    "---\n",
    "## _Define a Function_\n",
    "\n",
    "*** _In this lecture, from know on, all the words called \"Functions\", refers to the \"used-defined functions (UDFs)\"._"
   ]
  },
  {
   "cell_type": "code",
   "execution_count": 7,
   "metadata": {},
   "outputs": [],
   "source": [
    "def welcome(name):\n",
    "    print(\"Welcome \" + name + \" !\")\n",
    "    return"
   ]
  },
  {
   "cell_type": "code",
   "execution_count": 8,
   "metadata": {},
   "outputs": [],
   "source": [
    "# A function could be more complex: for example; contain for loops\n",
    "\n",
    "def order():\n",
    "  name = str(input(\"What would you like to eat as dessert?: \"))\n",
    "  if name:\n",
    "    print (\"You ordered: \" + str(name))\n",
    "  else:\n",
    "    print(\"St Sebastian Cheese-Cake\") \n",
    "  return                                # return command is not necessery here."
   ]
  },
  {
   "cell_type": "markdown",
   "metadata": {},
   "source": [
    "---\n",
    "## _Call a Function_\n",
    "\n",
    "Use the function name and parenthesis as shown in the example below, to call a function."
   ]
  },
  {
   "cell_type": "markdown",
   "metadata": {},
   "source": [
    "### function_name([arguments])"
   ]
  },
  {
   "cell_type": "code",
   "execution_count": 9,
   "metadata": {},
   "outputs": [
    {
     "data": {
      "text/plain": [
       "25"
      ]
     },
     "execution_count": 9,
     "metadata": {},
     "output_type": "execute_result"
    }
   ],
   "source": [
    "square(5)"
   ]
  },
  {
   "cell_type": "code",
   "execution_count": 10,
   "metadata": {},
   "outputs": [
    {
     "name": "stdout",
     "output_type": "stream",
     "text": [
      "Welcome Home !\n"
     ]
    }
   ],
   "source": [
    "welcome(\"Home\")"
   ]
  },
  {
   "cell_type": "code",
   "execution_count": 11,
   "metadata": {},
   "outputs": [
    {
     "name": "stdin",
     "output_type": "stream",
     "text": [
      "What would you like to eat as dessert?:  \n"
     ]
    },
    {
     "name": "stdout",
     "output_type": "stream",
     "text": [
      "St Sebastian Cheese-Cake\n"
     ]
    }
   ],
   "source": [
    "order()"
   ]
  },
  {
   "cell_type": "code",
   "execution_count": null,
   "metadata": {},
   "outputs": [],
   "source": [
    "# Lets define a function that checks even a number is positive or negative\n",
    "\n",
    "def test():\n",
    "    num = int(input(\"Write a number: \"))\n",
    "    if (num >= 0):\n",
    "        print(\"The number you entered is POSITIVE\")\n",
    "    else:\n",
    "        print(\"The number you entered is NEGATIVE\")\n",
    "    return\n",
    "test()"
   ]
  },
  {
   "cell_type": "markdown",
   "metadata": {},
   "source": [
    "---\n",
    "## _Arguments_\n",
    "\n",
    "We already learned what is \"Argument\" stands for above. Its important to call function with correct number of arguments. Meaning that; the number of the arguments that function expects should be equal to the number of arguments that you call in function. "
   ]
  },
  {
   "cell_type": "code",
   "execution_count": 13,
   "metadata": {},
   "outputs": [
    {
     "name": "stdout",
     "output_type": "stream",
     "text": [
      "Jelly+fish = Jellyfish\n"
     ]
    }
   ],
   "source": [
    "# Lets define a function expects 2 arguments and gets 2 arguments;\n",
    "\n",
    "def compound(first,second):\n",
    "      print(first + '+' + second + \" = \" + first + \"\" + second)\n",
    "\n",
    "compound(\"Jelly\",\"fish\")\n"
   ]
  },
  {
   "cell_type": "markdown",
   "metadata": {},
   "source": [
    "#### There are four types of Arguments;\n",
    "**1. Default Arguments**\n",
    "    Assumes a default value if a value is not provided in the function.\n",
    "    "
   ]
  },
  {
   "cell_type": "code",
   "execution_count": 14,
   "metadata": {},
   "outputs": [
    {
     "data": {
      "text/plain": [
       "8"
      ]
     },
     "execution_count": 14,
     "metadata": {},
     "output_type": "execute_result"
    }
   ],
   "source": [
    "def defarg(x, y=5):  # two argument is given one of them is \"default\", function asks for only one \n",
    "    return (x * y)\n",
    "\n",
    "defarg(4, y=2) "
   ]
  },
  {
   "cell_type": "markdown",
   "metadata": {},
   "source": [
    "**2. Required Arguments** (also called \"Positional Arguments\")\n",
    "    the number of arguments in the function has to be in correct positional order and should match with the function definition."
   ]
  },
  {
   "cell_type": "code",
   "execution_count": 15,
   "metadata": {},
   "outputs": [
    {
     "data": {
      "text/plain": [
       "3.0"
      ]
     },
     "execution_count": 15,
     "metadata": {},
     "output_type": "execute_result"
    }
   ],
   "source": [
    "def div(x,y): \n",
    "  return x / y   # change in order will effect the result\n",
    "\n",
    "div(9,3)"
   ]
  },
  {
   "cell_type": "markdown",
   "metadata": {},
   "source": [
    "**3. Keyword Arguments**\n",
    "    If you don't want to keep the right order of parameters in your mind, its easy way to identify arguments by using parameter names."
   ]
  },
  {
   "cell_type": "code",
   "execution_count": 16,
   "metadata": {},
   "outputs": [
    {
     "data": {
      "text/plain": [
       "2.5"
      ]
     },
     "execution_count": 16,
     "metadata": {},
     "output_type": "execute_result"
    }
   ],
   "source": [
    "# lets call the \"div()\" function again\n",
    "\n",
    "div(x=5, y=2)    # Call function with keyword arguments"
   ]
  },
  {
   "cell_type": "code",
   "execution_count": 17,
   "metadata": {},
   "outputs": [
    {
     "data": {
      "text/plain": [
       "2.5"
      ]
     },
     "execution_count": 17,
     "metadata": {},
     "output_type": "execute_result"
    }
   ],
   "source": [
    "div(y=2, x=5)    # with keyword arguments, parameters do not have t be in ordered"
   ]
  },
  {
   "cell_type": "code",
   "execution_count": 18,
   "metadata": {},
   "outputs": [
    {
     "name": "stdout",
     "output_type": "stream",
     "text": [
      "The first mounth of summer is June\n"
     ]
    }
   ],
   "source": [
    "# if you send the arguments with the key = value syntax, the order of the arguments doesn't matter.\n",
    "\n",
    "def summer(second, third, first):\n",
    "  print(\"The first mounth of summer is \" + first)\n",
    "\n",
    "summer(first = \"June\", second = \"July\", third = \"August\") "
   ]
  },
  {
   "cell_type": "markdown",
   "metadata": {},
   "source": [
    "**4. Arbitrary Arguments**\n",
    "    If you don't have any idea about the exact number of arguments to call the function, then you can use **\" *args \"** syntax."
   ]
  },
  {
   "cell_type": "code",
   "execution_count": 19,
   "metadata": {},
   "outputs": [
    {
     "name": "stdout",
     "output_type": "stream",
     "text": [
      "Keep\n",
      " your\n",
      "  social\n",
      "   distance\n",
      "    !\n"
     ]
    }
   ],
   "source": [
    "def message(*argv):  \n",
    "    for arg in argv:  \n",
    "        print(arg)       \n",
    "\n",
    "message(\"Keep\",\" your\",\"  social\",\"   distance\",\"    !\")"
   ]
  },
  {
   "cell_type": "markdown",
   "metadata": {},
   "source": [
    "---\n",
    "## _The \"return\" Statement_\n",
    "\n",
    "Simply it prints the result to the console. But, if you want to assign the result to a variable, the return statement sends a result back to the caller and exist the function."
   ]
  },
  {
   "cell_type": "code",
   "execution_count": 20,
   "metadata": {},
   "outputs": [
    {
     "name": "stdout",
     "output_type": "stream",
     "text": [
      "15\n"
     ]
    }
   ],
   "source": [
    "# lets define a total function which calculates the summation of numbers between two specific numbers\n",
    "\n",
    "def total(num1, num2):\n",
    "   sum = 0\n",
    "   for i in range(num1, num2 + 1):\n",
    "       sum += i\n",
    "   return sum\n",
    "\n",
    "t = total(1, 5)\n",
    "print(t)\n"
   ]
  },
  {
   "cell_type": "markdown",
   "metadata": {},
   "source": [
    "---\n",
    "## _Recursive Function_"
   ]
  },
  {
   "cell_type": "markdown",
   "metadata": {},
   "source": [
    "A function can call other functions or can call itself either. These type of functions are called _recursive functions_.\n",
    "\n",
    "These functions make the code look elegant but its hard to follow the logic behind."
   ]
  },
  {
   "cell_type": "code",
   "execution_count": 25,
   "metadata": {},
   "outputs": [
    {
     "name": "stdout",
     "output_type": "stream",
     "text": [
      "5 * 4 * 3 * 2 * n =  1\n"
     ]
    },
    {
     "data": {
      "text/plain": [
       "120"
      ]
     },
     "execution_count": 25,
     "metadata": {},
     "output_type": "execute_result"
    }
   ],
   "source": [
    "def factorial(n):  # define recursive function\n",
    "   if n == 1:  \n",
    "    print(\"n = \", n)\n",
    "    return n \n",
    "   else:\n",
    "    print (n,'*', end = \" \")  \n",
    "    return n * factorial(n-1)\n",
    "\n",
    "factorial(5)"
   ]
  },
  {
   "cell_type": "code",
   "execution_count": 22,
   "metadata": {},
   "outputs": [
    {
     "name": "stdout",
     "output_type": "stream",
     "text": [
      "12 10 8 6 4 2 2 4 6 8 10 12 "
     ]
    }
   ],
   "source": [
    "def mirror(x):\n",
    "   if (x < 1):\n",
    "      return\n",
    "   else:\n",
    "      print( x,end = \" \")\n",
    "      mirror(x-2)\n",
    "      print(x,end = \" \")\n",
    "      return\n",
    "x = 12\n",
    "mirror(x)"
   ]
  },
  {
   "cell_type": "markdown",
   "metadata": {},
   "source": [
    "---\n",
    "## _Global and Local Variables_\n",
    "\n",
    "A variable declared inside a function is called **_local variable_**, while a variable not bound to any function but can be accessed outside the function is called **_global variable_**."
   ]
  },
  {
   "cell_type": "code",
   "execution_count": 23,
   "metadata": {},
   "outputs": [
    {
     "name": "stdout",
     "output_type": "stream",
     "text": [
      "15\n"
     ]
    }
   ],
   "source": [
    "global_var = 3\n",
    "\n",
    "def cool():\n",
    "    local_var = 5                   # local variable\n",
    "    print(global_var * local_var)   # both variables are accessible from inside\n",
    "\n",
    "cool()                      \n",
    "                      # when function ends, local_var is destroyed\n",
    "#print(local_var)     # but you can't access local_var outside the function"
   ]
  },
  {
   "cell_type": "markdown",
   "metadata": {},
   "source": [
    "---\n",
    "## _BONUS_ function\n",
    "\n",
    "#### **map() function**"
   ]
  },
  {
   "cell_type": "code",
   "execution_count": 24,
   "metadata": {},
   "outputs": [
    {
     "data": {
      "text/plain": [
       "[1.0, 2.0, 3.0, 4.0, 5.0]"
      ]
     },
     "execution_count": 24,
     "metadata": {},
     "output_type": "execute_result"
    }
   ],
   "source": [
    "# map() function; applies a function to every item in the array, if you have \"list\" of values\n",
    "# Lets define \"div()\" function again\n",
    "\n",
    "def div(x,y=2): \n",
    "  return x / y\n",
    "\n",
    "data = [2, 4, 6, 8, 10]         # declare an array of numbers\n",
    "list(map(div,data))             # no need to write a loop "
   ]
  },
  {
   "cell_type": "markdown",
   "metadata": {},
   "source": [
    "---\n",
    "## Homework #6\n",
    "\n",
    "Please visit https://covid19.saglik.gov.tr/ web page and get the information you need for your assignment. By using this data, lets make some statistics about the COVID-19 spreading speed in Turkey. Please follow the instructions below;\n",
    "\n",
    "1. Define a function which calculates \"percentage\".\n",
    "2. Get the daily based numbers for covid-19 cases, deaths, recovered people and covid-tests. \n",
    "3. Calculate percentages between case-death in daily bases and draw a graph. \n",
    "\n",
    "You are free to use any type of visualization, use your imagination. The shortest code will get extra point. \n",
    "\n",
    "PS: Do not forget to upload your pdf files to Microsoft Teams-CE103 Class.\n",
    "\n",
    "The attached screenshots will guide you to get the numeric data you need from the  https://covid19.saglik.gov.tr/ web page. \n",
    "\n",
    "![](./Figures/hw6_screenshot.png)\n",
    "![](./Figures/hw6_screenshot2.png)\n",
    "---"
   ]
  },
  {
   "cell_type": "code",
   "execution_count": null,
   "metadata": {},
   "outputs": [],
   "source": []
  }
 ],
 "metadata": {
  "kernelspec": {
   "display_name": "Python 3",
   "language": "python",
   "name": "python3"
  },
  "language_info": {
   "codemirror_mode": {
    "name": "ipython",
    "version": 3
   },
   "file_extension": ".py",
   "mimetype": "text/x-python",
   "name": "python",
   "nbconvert_exporter": "python",
   "pygments_lexer": "ipython3",
   "version": "3.6.8"
  }
 },
 "nbformat": 4,
 "nbformat_minor": 4
}
